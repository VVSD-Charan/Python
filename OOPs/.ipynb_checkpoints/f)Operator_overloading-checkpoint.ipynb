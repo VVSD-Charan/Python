{
 "cells": [
  {
   "cell_type": "code",
   "execution_count": 9,
   "id": "349d0c90-e427-4f23-a970-7a4c32dc3dbd",
   "metadata": {},
   "outputs": [],
   "source": [
    "class Vector:\n",
    "    def __init__(self,x,y):\n",
    "        self.x = x\n",
    "        self.y = y\n",
    "        \n",
    "    #Overloading addition\n",
    "    def __add__(self,other):\n",
    "        return Vector(self.x + other.x,self.y+other.y)\n",
    "\n",
    "    #Overloading subtraction\n",
    "    def __sub__(self,other):\n",
    "        return Vector(self.x-other.x,self.y-other.y)\n",
    "\n",
    "    # Overloading multiplication\n",
    "    def __mul__(self,other):\n",
    "        return Vector(self.x*other.x,self.y*other.y)\n",
    "\n",
    "    # Overloading equal method\n",
    "    def __eq__(self,other):\n",
    "        return self.x==other.x and self.y==other.y\n",
    "\n",
    "    # When Vector object will be printed, this will over ride it\n",
    "    def __repr__(self):\n",
    "        return f\"Vector({self.x},{self.y})\""
   ]
  },
  {
   "cell_type": "code",
   "execution_count": 11,
   "id": "554a2851-e645-4d2d-ac08-7e8d4beffb6b",
   "metadata": {},
   "outputs": [
    {
     "name": "stdout",
     "output_type": "stream",
     "text": [
      "Vector(9,14)\n",
      "Vector(3,6)\n",
      "Vector(18,40)\n"
     ]
    }
   ],
   "source": [
    "vector1 = Vector(6,10)\n",
    "vector2 = Vector(3,4)\n",
    "\n",
    "print(vector1 + vector2)\n",
    "print(vector1 - vector2)\n",
    "print(vector1 * vector2)"
   ]
  },
  {
   "cell_type": "markdown",
   "id": "92938dcb-3ce5-498d-8156-59e0592bea63",
   "metadata": {},
   "source": [
    "### Practice"
   ]
  },
  {
   "cell_type": "code",
   "execution_count": 18,
   "id": "b7e2eebc-889b-4aa1-acc8-a6da1f36f416",
   "metadata": {},
   "outputs": [],
   "source": [
    "class Complex:\n",
    "    def __init__(self,real,imaginary):\n",
    "        self.real = real\n",
    "        self.imaginary = imaginary\n",
    "    def __add__(self,other):\n",
    "        return Complex(self.real+other.real,self.imaginary+other.imaginary)\n",
    "    def __sub__(self,other):\n",
    "        return Complex(self.real-other.real,self.imaginary-other.imaginary)\n",
    "    def __mul__(self,other):\n",
    "        return Complex(self.real*other.real-self.imaginary*other.imaginary,self.imaginary*other.real+other.imaginary*self.real)\n",
    "    def __eq__(self,other):\n",
    "        return self.real==other.real and self.imaginary==other.imaginary\n",
    "    def __repr__(self):\n",
    "        return f\"Complex({self.real}+i({self.imaginary}))\""
   ]
  },
  {
   "cell_type": "code",
   "execution_count": 24,
   "id": "dd6820ab-bcbb-4ca9-9b6e-bd275eefc54e",
   "metadata": {},
   "outputs": [
    {
     "name": "stdout",
     "output_type": "stream",
     "text": [
      "Complex(-10+i(11))\n",
      "Complex(3+i(7))\n",
      "Complex(1+i(-1))\n"
     ]
    }
   ],
   "source": [
    "complex1 = Complex(2,3)\n",
    "complex2 = Complex(1,4)\n",
    "\n",
    "print(complex1*complex2)\n",
    "print(complex1+complex2)\n",
    "print(complex1-complex2)"
   ]
  }
 ],
 "metadata": {
  "kernelspec": {
   "display_name": "Python 3 (ipykernel)",
   "language": "python",
   "name": "python3"
  },
  "language_info": {
   "codemirror_mode": {
    "name": "ipython",
    "version": 3
   },
   "file_extension": ".py",
   "mimetype": "text/x-python",
   "name": "python",
   "nbconvert_exporter": "python",
   "pygments_lexer": "ipython3",
   "version": "3.12.2"
  }
 },
 "nbformat": 4,
 "nbformat_minor": 5
}
