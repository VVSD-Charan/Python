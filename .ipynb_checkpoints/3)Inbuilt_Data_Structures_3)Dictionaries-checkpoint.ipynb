{
 "cells": [
  {
   "cell_type": "markdown",
   "id": "d5007369-26f1-4a11-a332-07082b7751e1",
   "metadata": {},
   "source": [
    "# Dictionaries\n",
    "\n",
    "Dictionaries are unordered collections of items. They store data in key-value pairs. Keys must be unique and immutable (strings,numbers,tuples),while values can be of any type."
   ]
  },
  {
   "cell_type": "code",
   "execution_count": 1,
   "id": "229e12bc-7c80-4709-ad58-9c48b8a89167",
   "metadata": {},
   "outputs": [
    {
     "name": "stdout",
     "output_type": "stream",
     "text": [
      "<class 'dict'>\n"
     ]
    }
   ],
   "source": [
    "empty_dict = {}\n",
    "print(type(empty_dict))"
   ]
  },
  {
   "cell_type": "code",
   "execution_count": 2,
   "id": "6e802836-0037-4b2c-9ac8-ad3ba6cefc59",
   "metadata": {},
   "outputs": [
    {
     "name": "stdout",
     "output_type": "stream",
     "text": [
      "<class 'dict'>\n"
     ]
    }
   ],
   "source": [
    "empty_dict = dict()\n",
    "print(type(empty_dict))"
   ]
  },
  {
   "cell_type": "code",
   "execution_count": 3,
   "id": "84c8f026-b383-44f4-b191-b30f6d70aa39",
   "metadata": {},
   "outputs": [
    {
     "name": "stdout",
     "output_type": "stream",
     "text": [
      "{'name': 'Charan', 'age': 22, 'location': 'Hyderabad'}\n",
      "<class 'dict'>\n"
     ]
    }
   ],
   "source": [
    "student = {\"name\":\"Charan\",\"age\":22,\"location\":\"Hyderabad\"}\n",
    "print(student)\n",
    "print(type(student))"
   ]
  },
  {
   "cell_type": "code",
   "execution_count": 5,
   "id": "3ee862d7-7e8f-43b8-9913-89c0a66b9fda",
   "metadata": {},
   "outputs": [
    {
     "name": "stdout",
     "output_type": "stream",
     "text": [
      "{'name': 'VVSD Charan', 'age': 22}\n"
     ]
    }
   ],
   "source": [
    "# Duplicate keys will be eliminated. In case of duplicate keys, only last key-value pair will be stored\n",
    "\n",
    "student = {\"name\":\"Charan\",\"age\":22,\"name\":\"VVSD Charan\"}\n",
    "print(student)"
   ]
  },
  {
   "cell_type": "markdown",
   "id": "44442be8-88e4-4dc9-b8df-0d39fb3c4e0e",
   "metadata": {},
   "source": [
    "### Accessing elements in dictionaries"
   ]
  },
  {
   "cell_type": "code",
   "execution_count": 6,
   "id": "fcb16fe8-9bf9-4815-bfcd-02b0ddd77b74",
   "metadata": {},
   "outputs": [
    {
     "name": "stdout",
     "output_type": "stream",
     "text": [
      "22\n",
      "Charan\n"
     ]
    }
   ],
   "source": [
    "student = {\"name\":\"Charan\",\"age\":22,\"branch\":\"CSE\"}\n",
    "\n",
    "print(student[\"age\"])\n",
    "print(student[\"name\"])"
   ]
  },
  {
   "cell_type": "code",
   "execution_count": 7,
   "id": "57304cb0-cc44-4c4b-bf84-329838771843",
   "metadata": {},
   "outputs": [
    {
     "name": "stdout",
     "output_type": "stream",
     "text": [
      "Charan\n",
      "22\n"
     ]
    }
   ],
   "source": [
    "# Using get mthod\n",
    "\n",
    "print(student.get(\"name\"))\n",
    "print(student.get(\"age\"))"
   ]
  },
  {
   "cell_type": "code",
   "execution_count": 8,
   "id": "3618c3fa-676f-4859-aec7-47498e380908",
   "metadata": {},
   "outputs": [
    {
     "name": "stdout",
     "output_type": "stream",
     "text": [
      "None\n",
      "No such key present\n"
     ]
    }
   ],
   "source": [
    "# In case key is not present, we can give default value as well\n",
    "\n",
    "print(student.get(\"grade\"))\n",
    "print(student.get(\"grade\",\"No such key present\"))"
   ]
  },
  {
   "cell_type": "markdown",
   "id": "dbae2efb-90b3-44e7-b6ab-5904b08013aa",
   "metadata": {},
   "source": [
    "### Modifying elements in dictionaries\n",
    "\n",
    "Dictionaires are mutable but keys must be unique at all times"
   ]
  },
  {
   "cell_type": "code",
   "execution_count": 10,
   "id": "c33268e4-3656-4735-ae83-83a26d6057a5",
   "metadata": {},
   "outputs": [
    {
     "name": "stdout",
     "output_type": "stream",
     "text": [
      "Before adding location :  {'name': 'Charan', 'age': 22, 'branch': 'CSE'}\n",
      "After adding location :  {'name': 'Charan', 'age': 22, 'branch': 'CSE', 'location': 'Hyderabad'}\n"
     ]
    }
   ],
   "source": [
    "# Adding a new key-value pair\n",
    "\n",
    "student = {\"name\":\"Charan\",\"age\":22,\"branch\":\"CSE\"}\n",
    "print(\"Before adding location : \",student)\n",
    "\n",
    "student[\"location\"] = \"Hyderabad\"\n",
    "print(\"After adding location : \",student)"
   ]
  },
  {
   "cell_type": "code",
   "execution_count": 11,
   "id": "71267c65-e983-43d9-bb48-4e84081c8843",
   "metadata": {},
   "outputs": [
    {
     "name": "stdout",
     "output_type": "stream",
     "text": [
      "Before updating age :  {'name': 'Charan', 'age': 22, 'branch': 'CSE', 'location': 'Hyderabad'}\n",
      "After updating age :  {'name': 'Charan', 'age': 23, 'branch': 'CSE', 'location': 'Hyderabad'}\n"
     ]
    }
   ],
   "source": [
    "# Updating value of the key\n",
    "\n",
    "print(\"Before updating age : \",student)\n",
    "student[\"age\"] = 23\n",
    "print(\"After updating age : \",student)"
   ]
  },
  {
   "cell_type": "code",
   "execution_count": 12,
   "id": "24a0261c-db62-4099-b89e-39f9351ee53c",
   "metadata": {},
   "outputs": [
    {
     "name": "stdout",
     "output_type": "stream",
     "text": [
      "Before deleting location :  {'name': 'Charan', 'age': 23, 'branch': 'CSE', 'location': 'Hyderabad'}\n",
      "After deleting location :  {'name': 'Charan', 'age': 23, 'branch': 'CSE'}\n"
     ]
    }
   ],
   "source": [
    "# Deleting key-value pair\n",
    "\n",
    "print(\"Before deleting location : \",student)\n",
    "\n",
    "del student[\"location\"]\n",
    "print(\"After deleting location : \",student)"
   ]
  },
  {
   "cell_type": "markdown",
   "id": "034c6e4c-9d93-4ab6-b587-655bd0af4734",
   "metadata": {},
   "source": [
    "### Dictionary methods"
   ]
  },
  {
   "cell_type": "code",
   "execution_count": 14,
   "id": "716f6603-66f3-47b3-b941-74ab006cc201",
   "metadata": {},
   "outputs": [
    {
     "name": "stdout",
     "output_type": "stream",
     "text": [
      "dict_keys(['name', 'age', 'branch'])\n"
     ]
    }
   ],
   "source": [
    "# Obtaining all keys of the dictionary\n",
    "\n",
    "all_keys = student.keys()\n",
    "print(all_keys)"
   ]
  },
  {
   "cell_type": "code",
   "execution_count": 15,
   "id": "1bb18ec0-5caa-457e-bab3-a0e0ef7a5e60",
   "metadata": {},
   "outputs": [
    {
     "name": "stdout",
     "output_type": "stream",
     "text": [
      "dict_values(['Charan', 23, 'CSE'])\n"
     ]
    }
   ],
   "source": [
    "# Obtaining all values of the dictionary\n",
    "\n",
    "all_values = student.values()\n",
    "print(all_values)"
   ]
  },
  {
   "cell_type": "code",
   "execution_count": 16,
   "id": "56583d45-d6be-4c07-be51-69c1a19a5613",
   "metadata": {},
   "outputs": [
    {
     "name": "stdout",
     "output_type": "stream",
     "text": [
      "dict_items([('name', 'Charan'), ('age', 23), ('branch', 'CSE')])\n"
     ]
    }
   ],
   "source": [
    "# Obtaining all key-value pairs\n",
    "\n",
    "all_pairs = student.items()\n",
    "print(all_pairs)"
   ]
  },
  {
   "cell_type": "markdown",
   "id": "27cf9ee8-446a-4923-b125-3c654f796e9a",
   "metadata": {},
   "source": [
    "### Creating copies of dictionaries"
   ]
  },
  {
   "cell_type": "code",
   "execution_count": 25,
   "id": "5a7077bf-2108-4eca-b0b2-4cae754d8293",
   "metadata": {},
   "outputs": [
    {
     "name": "stdout",
     "output_type": "stream",
     "text": [
      "Student dictionary initially :  {'name': 'Charan', 'age': 22, 'branch': 'CSE'}\n",
      "Student copy dictionary initially :  {'name': 'Charan', 'age': 22, 'branch': 'CSE'}\n",
      "\n",
      "Student dictionary after change :  {'name': 'Charan', 'age': 22, 'branch': 'CSE'}\n",
      "Student copy dictionary without change :  {'name': 'Charan', 'age': 22, 'branch': 'CSE'}\n"
     ]
    }
   ],
   "source": [
    "# Shallow copy of dictionary\n",
    "# When we perform shallow copy, change in key-value pair of one dictionary will be reflected in second dictionary too\n",
    "\n",
    "student_copy = student\n",
    "print(\"Student dictionary initially : \",student)\n",
    "print(\"Student copy dictionary initially : \",student_copy)\n",
    "\n",
    "student[\"age\"] = 22\n",
    "\n",
    "print(\"\\nStudent dictionary after change : \",student)\n",
    "print(\"Student copy dictionary without change : \",student_copy)"
   ]
  },
  {
   "cell_type": "code",
   "execution_count": 27,
   "id": "e6e4ac40-8765-4cef-8715-330919ab425b",
   "metadata": {},
   "outputs": [
    {
     "name": "stdout",
     "output_type": "stream",
     "text": [
      "Student dictionary before intially :  {'name': 'Charan', 'age': 22, 'branch': 'CSE'}\n",
      "Student copy dictionary initially :  {'name': 'Charan', 'age': 22, 'branch': 'CSE'}\n",
      "\n",
      "Student dictionary after change :  {'name': 'CHARAN', 'age': 22, 'branch': 'CSE'}\n",
      "Student copy dictionary without change :  {'name': 'Charan', 'age': 22, 'branch': 'CSE'}\n"
     ]
    }
   ],
   "source": [
    "# Deep copy of dictionary\n",
    "# In this case, change in one dictionary will not be reflected in other\n",
    "\n",
    "student_copy = student.copy()\n",
    "print(\"Student dictionary before intially : \",student)\n",
    "print(\"Student copy dictionary initially : \",student_copy)\n",
    "\n",
    "student[\"name\"] = \"CHARAN\"\n",
    "\n",
    "print(\"\\nStudent dictionary after change : \",student)\n",
    "print(\"Student copy dictionary without change : \",student_copy)"
   ]
  },
  {
   "cell_type": "code",
   "execution_count": null,
   "id": "5ab0374b-a58f-4e90-ace1-73424236c2b6",
   "metadata": {},
   "outputs": [],
   "source": []
  }
 ],
 "metadata": {
  "kernelspec": {
   "display_name": "Python 3 (ipykernel)",
   "language": "python",
   "name": "python3"
  },
  "language_info": {
   "codemirror_mode": {
    "name": "ipython",
    "version": 3
   },
   "file_extension": ".py",
   "mimetype": "text/x-python",
   "name": "python",
   "nbconvert_exporter": "python",
   "pygments_lexer": "ipython3",
   "version": "3.12.2"
  }
 },
 "nbformat": 4,
 "nbformat_minor": 5
}
