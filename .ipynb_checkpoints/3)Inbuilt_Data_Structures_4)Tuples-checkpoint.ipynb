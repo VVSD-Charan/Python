{
 "cells": [
  {
   "cell_type": "markdown",
   "id": "b86db9cd-fc8b-46bf-9327-5c5a495c931e",
   "metadata": {},
   "source": [
    "# Tuples\n",
    "\n",
    "Tuplesm are ordered collections of items that are immutable. Tuples are similar to lists but their immutability makes the different."
   ]
  },
  {
   "cell_type": "code",
   "execution_count": 2,
   "id": "a8051396-e35d-407e-a795-7963b4f72dba",
   "metadata": {},
   "outputs": [
    {
     "name": "stdout",
     "output_type": "stream",
     "text": [
      "Empty Tuple :  ()\n",
      "<class 'tuple'>\n"
     ]
    }
   ],
   "source": [
    "empty_tuple = ()\n",
    "print(\"Empty Tuple : \",empty_tuple)\n",
    "print(type(empty_tuple))"
   ]
  },
  {
   "cell_type": "code",
   "execution_count": 3,
   "id": "ec9e0cfd-ae79-43d9-b96e-83d892349792",
   "metadata": {},
   "outputs": [
    {
     "name": "stdout",
     "output_type": "stream",
     "text": [
      "Empty Tuple :  ()\n"
     ]
    }
   ],
   "source": [
    "empty_tuple = tuple()\n",
    "print(\"Empty Tuple : \",empty_tuple)"
   ]
  },
  {
   "cell_type": "code",
   "execution_count": 4,
   "id": "f84a1a39-b732-4180-adc6-f692b258f4fb",
   "metadata": {},
   "outputs": [
    {
     "data": {
      "text/plain": [
       "(1, 2, 3, 4, 5)"
      ]
     },
     "execution_count": 4,
     "metadata": {},
     "output_type": "execute_result"
    }
   ],
   "source": [
    "numbers = tuple([1,2,3,4,5])\n",
    "numbers"
   ]
  },
  {
   "cell_type": "code",
   "execution_count": 5,
   "id": "d68a639d-0639-4506-9e8f-af5e7fbd053d",
   "metadata": {},
   "outputs": [
    {
     "data": {
      "text/plain": [
       "[1, 2, 3, 4, 5]"
      ]
     },
     "execution_count": 5,
     "metadata": {},
     "output_type": "execute_result"
    }
   ],
   "source": [
    "# We can perform type conversion from tuple to list\n",
    "\n",
    "list((1,2,3,4,5))"
   ]
  },
  {
   "cell_type": "code",
   "execution_count": 6,
   "id": "037ab0ff-82a4-4c14-946d-37d2143a99d3",
   "metadata": {},
   "outputs": [
    {
     "name": "stdout",
     "output_type": "stream",
     "text": [
      "(1, 'Charan', 22, 2001)\n"
     ]
    }
   ],
   "source": [
    "mixed_tuple = (1,\"Charan\",22,2001)\n",
    "print(mixed_tuple)"
   ]
  },
  {
   "cell_type": "markdown",
   "id": "a92a9493-b628-4126-8cb8-7129503e6a71",
   "metadata": {},
   "source": [
    "### Accessing tuple elements"
   ]
  },
  {
   "cell_type": "code",
   "execution_count": 8,
   "id": "2d632b50-925d-44af-86d8-5210beecddb9",
   "metadata": {},
   "outputs": [
    {
     "name": "stdout",
     "output_type": "stream",
     "text": [
      "1\n",
      "5\n"
     ]
    }
   ],
   "source": [
    "# Indexing and slicing a tuple is similar to list\n",
    "\n",
    "numbers_tuple = (1,2,3,4,5)\n",
    "print(numbers_tuple[0])\n",
    "print(numbers_tuple[-1])"
   ]
  },
  {
   "cell_type": "code",
   "execution_count": 9,
   "id": "334b52b7-5e5a-4cf1-9cd2-688b3ba2eb0e",
   "metadata": {},
   "outputs": [
    {
     "name": "stdout",
     "output_type": "stream",
     "text": [
      "Slicing : 4 =>  (1, 2, 3, 4)\n",
      "Slicing 1 :  =>  (2, 3, 4, 5)\n",
      "Slicing 1 : 3 =>  (2, 3)\n"
     ]
    }
   ],
   "source": [
    "print(\"Slicing : 4 => \",numbers_tuple[:4])\n",
    "print(\"Slicing 1 :  => \",numbers_tuple[1:])\n",
    "print(\"Slicing 1 : 3 => \",numbers_tuple[1:3])"
   ]
  },
  {
   "cell_type": "code",
   "execution_count": 10,
   "id": "8c0fdbad-d914-4a94-b158-b709cc52e943",
   "metadata": {},
   "outputs": [
    {
     "name": "stdout",
     "output_type": "stream",
     "text": [
      "Reverse of tuple :  (5, 4, 3, 2, 1)\n"
     ]
    }
   ],
   "source": [
    "print(\"Reverse of tuple : \",numbers_tuple[::-1])"
   ]
  },
  {
   "cell_type": "markdown",
   "id": "9b53c0d5-b768-4186-8251-3d36a6b14c11",
   "metadata": {},
   "source": [
    "### Operations on tuples"
   ]
  },
  {
   "cell_type": "code",
   "execution_count": 12,
   "id": "2c22312f-e9d0-4e2e-a143-f213c1c23a25",
   "metadata": {},
   "outputs": [
    {
     "name": "stdout",
     "output_type": "stream",
     "text": [
      "(1, 2, 3, 4, 5, 1, 'Charan', '2001', 22)\n"
     ]
    }
   ],
   "source": [
    "# Concatenating two tuples\n",
    "\n",
    "numbers_tuple = (1,2,3,4,5)\n",
    "mixed_tuple = (1,\"Charan\",\"2001\",22)\n",
    "\n",
    "print(numbers_tuple + mixed_tuple)"
   ]
  },
  {
   "cell_type": "code",
   "execution_count": 15,
   "id": "4f9b181e-74f8-4bf1-95da-5c8c30e6eff3",
   "metadata": {},
   "outputs": [
    {
     "name": "stdout",
     "output_type": "stream",
     "text": [
      "(1, 'Charan', '2001', 22, 1, 'Charan', '2001', 22, 1, 'Charan', '2001', 22)\n",
      "(1, 2, 3, 4, 5, 1, 2, 3, 4, 5, 1, 2, 3, 4, 5)\n"
     ]
    }
   ],
   "source": [
    "# Multiplying tuple with a number\n",
    "\n",
    "print(mixed_tuple * 3)\n",
    "print(numbers_tuple * 3)"
   ]
  },
  {
   "cell_type": "markdown",
   "id": "9c6658e9-30cc-4639-b20d-e5e6dc52c561",
   "metadata": {},
   "source": [
    "### Immutable nature of tuples\n",
    "\n",
    "Elements of the tuple cannot be changed once assigned."
   ]
  },
  {
   "cell_type": "code",
   "execution_count": 17,
   "id": "c51539f4-a8e8-4a84-8525-f8f4a8296521",
   "metadata": {},
   "outputs": [
    {
     "ename": "TypeError",
     "evalue": "'tuple' object does not support item assignment",
     "output_type": "error",
     "traceback": [
      "\u001b[1;31m---------------------------------------------------------------------------\u001b[0m",
      "\u001b[1;31mTypeError\u001b[0m                                 Traceback (most recent call last)",
      "Cell \u001b[1;32mIn[17], line 4\u001b[0m\n\u001b[0;32m      1\u001b[0m \u001b[38;5;66;03m# We cannot change the value of tuple.It will result in type error\u001b[39;00m\n\u001b[0;32m      3\u001b[0m mixed_tuple \u001b[38;5;241m=\u001b[39m (\u001b[38;5;124m\"\u001b[39m\u001b[38;5;124mCharan\u001b[39m\u001b[38;5;124m\"\u001b[39m,\u001b[38;5;241m2001\u001b[39m,\u001b[38;5;241m22\u001b[39m,\u001b[38;5;124m\"\u001b[39m\u001b[38;5;124mvvsdc\u001b[39m\u001b[38;5;124m\"\u001b[39m)\n\u001b[1;32m----> 4\u001b[0m \u001b[43mmixed_tuple\u001b[49m\u001b[43m[\u001b[49m\u001b[38;5;241;43m0\u001b[39;49m\u001b[43m]\u001b[49m \u001b[38;5;241m=\u001b[39m \u001b[38;5;124m\"\u001b[39m\u001b[38;5;124mVVSD Charan\u001b[39m\u001b[38;5;124m\"\u001b[39m\n",
      "\u001b[1;31mTypeError\u001b[0m: 'tuple' object does not support item assignment"
     ]
    }
   ],
   "source": [
    "# We cannot change the value of tuple.It will result in type error\n",
    "\n",
    "mixed_tuple = (\"Charan\",2001,22,\"vvsdc\")\n",
    "mixed_tuple[0] = \"VVSD Charan\""
   ]
  },
  {
   "cell_type": "markdown",
   "id": "b493b293-5a69-4843-9b77-0a002a25c796",
   "metadata": {},
   "source": [
    "### Inbuilt tuple methods"
   ]
  },
  {
   "cell_type": "code",
   "execution_count": 21,
   "id": "ad23028d-5056-4c47-8220-3fbc29680caa",
   "metadata": {},
   "outputs": [
    {
     "name": "stdout",
     "output_type": "stream",
     "text": [
      "Number of occurences of 3 :  2\n",
      "First index of 3 :  5\n"
     ]
    }
   ],
   "source": [
    "numbers_tuple = (1,4,6,7,2,3,4,1,5,2,3)\n",
    "\n",
    "# count method returns frequency of an element in tuple\n",
    "print(\"Number of occurences of 3 : \",numbers_tuple.count(3))\n",
    "\n",
    "# index method returns index of first occurence of a number\n",
    "print(\"First index of 3 : \",numbers_tuple.index(3))"
   ]
  },
  {
   "cell_type": "code",
   "execution_count": 23,
   "id": "ef53ee9d-dd74-41ed-87a6-fae95e50600e",
   "metadata": {},
   "outputs": [
    {
     "name": "stdout",
     "output_type": "stream",
     "text": [
      "('Charan', '2001', 14, 164)\n",
      "Charan 2001 14 164\n"
     ]
    }
   ],
   "source": [
    "# Packing and unpacking tuples\n",
    "\n",
    "# Packing\n",
    "packed_tuple = \"Charan\",\"2001\",14,164\n",
    "print(packed_tuple)\n",
    "\n",
    "#Unpacking\n",
    "name,year,favorite_number,highest_score_odi = packed_tuple\n",
    "print(name,year,favorite_number,highest_score_odi)"
   ]
  },
  {
   "cell_type": "code",
   "execution_count": 24,
   "id": "3a5a7ca0-a7be-47fa-bb19-464da868b46a",
   "metadata": {},
   "outputs": [
    {
     "name": "stdout",
     "output_type": "stream",
     "text": [
      "1\n",
      "[2, 3, 4, 5]\n",
      "6\n"
     ]
    }
   ],
   "source": [
    "# Another method for unpacking\n",
    "\n",
    "numbers_tuple = (1,2,3,4,5,6)\n",
    "first,*middle,last = numbers_tuple\n",
    "\n",
    "print(first)\n",
    "print(middle)\n",
    "print(last)"
   ]
  }
 ],
 "metadata": {
  "kernelspec": {
   "display_name": "Python 3 (ipykernel)",
   "language": "python",
   "name": "python3"
  },
  "language_info": {
   "codemirror_mode": {
    "name": "ipython",
    "version": 3
   },
   "file_extension": ".py",
   "mimetype": "text/x-python",
   "name": "python",
   "nbconvert_exporter": "python",
   "pygments_lexer": "ipython3",
   "version": "3.12.2"
  }
 },
 "nbformat": 4,
 "nbformat_minor": 5
}
