{
 "cells": [
  {
   "cell_type": "markdown",
   "id": "044807a8-f55a-42b8-8b18-b0bc007734a7",
   "metadata": {},
   "source": [
    "## Importing custom packages\n",
    "\n",
    "We can create our own packages. But for them to be traceable and identified, there must be a __init__.py file even if it is empty. Without creating that file, packages cannot be traced (found).\n",
    "\n",
    "<strong>Inorder for a package to be identified, there must be an __init__.py file in the same folder. Otherwise packages will not be traceable</strong>"
   ]
  },
  {
   "cell_type": "code",
   "execution_count": 1,
   "id": "d21a15ad-6b92-41eb-aa7e-7d8d9cde37eb",
   "metadata": {},
   "outputs": [
    {
     "name": "stdout",
     "output_type": "stream",
     "text": [
      "11\n"
     ]
    }
   ],
   "source": [
    "# Importing single method from package\n",
    "from Packages.custom import *\n",
    "\n",
    "print(addition(5,6))"
   ]
  },
  {
   "cell_type": "code",
   "execution_count": 3,
   "id": "b0ac77a0-3b29-43a9-b6b1-61e55a978515",
   "metadata": {},
   "outputs": [
    {
     "name": "stdout",
     "output_type": "stream",
     "text": [
      "13\n",
      "19\n",
      "140\n"
     ]
    }
   ],
   "source": [
    "# Importing all methods from package\n",
    "from Packages.custom import *\n",
    "\n",
    "print(addition(6,7))\n",
    "print(subtraction(34,15))\n",
    "print(multiply(10,14))"
   ]
  },
  {
   "cell_type": "code",
   "execution_count": 5,
   "id": "9937ec78-ad29-47cd-8fc5-b993d21f0dd8",
   "metadata": {},
   "outputs": [
    {
     "name": "stdout",
     "output_type": "stream",
     "text": [
      "169\n",
      "2197\n",
      "28561\n"
     ]
    }
   ],
   "source": [
    "from Packages.Subpackages.custom import *\n",
    "\n",
    "print(square(13))\n",
    "print(cube(13))\n",
    "print(quadraple(13))"
   ]
  }
 ],
 "metadata": {
  "kernelspec": {
   "display_name": "Python 3 (ipykernel)",
   "language": "python",
   "name": "python3"
  },
  "language_info": {
   "codemirror_mode": {
    "name": "ipython",
    "version": 3
   },
   "file_extension": ".py",
   "mimetype": "text/x-python",
   "name": "python",
   "nbconvert_exporter": "python",
   "pygments_lexer": "ipython3",
   "version": "3.12.2"
  }
 },
 "nbformat": 4,
 "nbformat_minor": 5
}
