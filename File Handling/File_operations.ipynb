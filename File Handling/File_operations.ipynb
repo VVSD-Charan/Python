{
 "cells": [
  {
   "cell_type": "code",
   "execution_count": 1,
   "id": "0506584b-5f4a-4bed-af0b-f091b5cf6b31",
   "metadata": {},
   "outputs": [
    {
     "name": "stdout",
     "output_type": "stream",
     "text": [
      "Hello world\n",
      "This is a new line\n",
      "\n"
     ]
    }
   ],
   "source": [
    "#Reading the entire file\n",
    "with open('sample.txt','r') as file:\n",
    "    content = file.read()\n",
    "    print(content)"
   ]
  },
  {
   "cell_type": "code",
   "execution_count": 2,
   "id": "2b6e076a-0f3f-4469-b537-0237616e7833",
   "metadata": {},
   "outputs": [
    {
     "name": "stdout",
     "output_type": "stream",
     "text": [
      "Hello world\n",
      "This is a new line\n"
     ]
    }
   ],
   "source": [
    "#Reading the file line by line\n",
    "\n",
    "# The new line character will also be considered, so we get an extra line\n",
    "with open('sample.txt','r') as file:\n",
    "    for line in file:\n",
    "        print(line.strip())"
   ]
  },
  {
   "cell_type": "code",
   "execution_count": 3,
   "id": "791fe4e4-1e18-48eb-9034-6b0c78717623",
   "metadata": {},
   "outputs": [],
   "source": [
    "# Writing a file(Overwriting  the existing content)\n",
    "\n",
    "with open('sample.txt','w') as file:\n",
    "    file.write(\"This is the new text\\n\")\n",
    "    file.write(\"Past text is overwritten\")"
   ]
  },
  {
   "cell_type": "code",
   "execution_count": 4,
   "id": "8e3e982b-c789-4e87-a6f0-2029499fb8f6",
   "metadata": {},
   "outputs": [],
   "source": [
    "# Writing in a file withou overwriting\n",
    "\n",
    "with open('sample.txt','a') as file:\n",
    "    file.write(\"\\nThis is an appended text\\n\")"
   ]
  },
  {
   "cell_type": "code",
   "execution_count": 5,
   "id": "e54740a1-5b8d-4bbd-8bd0-364d241d988e",
   "metadata": {},
   "outputs": [],
   "source": [
    "# Writing a list of lines to a file\n",
    "\n",
    "lines = ['First line \\n','Second Line\\n','Third line\\n']\n",
    "\n",
    "with open('sample.txt','a') as file:\n",
    "    file.writelines(lines)"
   ]
  },
  {
   "cell_type": "code",
   "execution_count": 6,
   "id": "eea0281a-6ee3-4df2-8f29-bd7493ee13b5",
   "metadata": {},
   "outputs": [
    {
     "name": "stdout",
     "output_type": "stream",
     "text": [
      "ello world\n",
      "This is a new line\n",
      "\n"
     ]
    }
   ],
   "source": [
    "# Writing and reading a file\n",
    "\n",
    "with open('sample.txt','w+') as file:\n",
    "    file.write(\"Hello world\\n\")\n",
    "    file.write(\"This is a new line\\n\")\n",
    "\n",
    "    #Moving the cursor to beginning\n",
    "    # This will point cursor at nth position and when we read, only content after the position n wil be returned\n",
    "    file.seek(1)\n",
    "\n",
    "    content = file.read()\n",
    "    print(content)"
   ]
  },
  {
   "cell_type": "markdown",
   "id": "80471820-50dc-441c-a7f7-8e7b7c2114a8",
   "metadata": {},
   "source": [
    "### Working with binary files"
   ]
  },
  {
   "cell_type": "code",
   "execution_count": 7,
   "id": "18290720-f796-4a41-addd-abdd84a1cc52",
   "metadata": {},
   "outputs": [],
   "source": [
    "#Writing in a binary file\n",
    "data = b'\\x00\\x01\\x02\\x03\\x04'\n",
    "\n",
    "with open('sample.bin','wb') as file:\n",
    "    file.write(data)"
   ]
  },
  {
   "cell_type": "code",
   "execution_count": 8,
   "id": "fb49a449-8854-4ec5-97ca-0a551a11a5e1",
   "metadata": {},
   "outputs": [
    {
     "name": "stdout",
     "output_type": "stream",
     "text": [
      "b'\\x00\\x01\\x02\\x03\\x04'\n"
     ]
    }
   ],
   "source": [
    "# Reading a binary file\n",
    "\n",
    "with open('sample.bin','rb')as file:\n",
    "    content = file.read()\n",
    "    print(content)"
   ]
  },
  {
   "cell_type": "markdown",
   "id": "bb907798-ab20-4751-90c5-cda0e9625c7e",
   "metadata": {},
   "source": [
    "### Practice"
   ]
  },
  {
   "cell_type": "code",
   "execution_count": 9,
   "id": "512ad051-55ee-4b88-9955-417691941a81",
   "metadata": {},
   "outputs": [
    {
     "name": "stdout",
     "output_type": "stream",
     "text": [
      "Lines : 2 |  Words : 7 | Characters : 29\n"
     ]
    }
   ],
   "source": [
    "# Finding number of words,characters and lines in text\n",
    "\n",
    "lines_content = []\n",
    "\n",
    "with open('sample.txt','r') as file:\n",
    "    lines_content = file.readlines()\n",
    "\n",
    "words = 0\n",
    "characters = 0\n",
    "lines = len(lines_content)\n",
    "\n",
    "for line in lines_content:\n",
    "    content = line.strip()\n",
    "    words += len(content.split(\" \"))\n",
    "    characters += len(content)\n",
    "\n",
    "print(f\"Lines : {lines} |  Words : {words} | Characters : {characters}\")"
   ]
  }
 ],
 "metadata": {
  "kernelspec": {
   "display_name": "Python 3 (ipykernel)",
   "language": "python",
   "name": "python3"
  },
  "language_info": {
   "codemirror_mode": {
    "name": "ipython",
    "version": 3
   },
   "file_extension": ".py",
   "mimetype": "text/x-python",
   "name": "python",
   "nbconvert_exporter": "python",
   "pygments_lexer": "ipython3",
   "version": "3.12.2"
  }
 },
 "nbformat": 4,
 "nbformat_minor": 5
}
