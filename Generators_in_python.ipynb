{
 "cells": [
  {
   "cell_type": "markdown",
   "id": "0bc08671-a069-4a30-bb2f-5f5a25ac4a32",
   "metadata": {},
   "source": [
    "## Generators\n",
    "\n",
    "Generators are a simpler way to create iterators. Generators use yield keyword to produce a series of values lazily i.e values are generated on the fly and not stored in memory."
   ]
  },
  {
   "cell_type": "markdown",
   "id": "212f1aa2-3380-4edd-b31a-a0631e99a72d",
   "metadata": {},
   "source": [
    "##### Without generator"
   ]
  },
  {
   "cell_type": "code",
   "execution_count": 1,
   "id": "118dab79-0868-4b22-9731-8d2a61ba0fde",
   "metadata": {},
   "outputs": [
    {
     "name": "stdout",
     "output_type": "stream",
     "text": [
      "0\n"
     ]
    }
   ],
   "source": [
    "def square(n):\n",
    "    for i in range(n+1):\n",
    "        return i**2\n",
    "\n",
    "print(square(3)) #Prints 0 because first element in the loop is returned"
   ]
  },
  {
   "cell_type": "markdown",
   "id": "9ff1ed2b-14ee-47aa-87d6-e7e7eb041d50",
   "metadata": {},
   "source": [
    "##### Using generator(yield keyword)"
   ]
  },
  {
   "cell_type": "code",
   "execution_count": 2,
   "id": "e7f0a02c-b690-470b-9df8-946d00e49dfb",
   "metadata": {},
   "outputs": [
    {
     "name": "stdout",
     "output_type": "stream",
     "text": [
      "<generator object square at 0x000001480BED7780>\n"
     ]
    }
   ],
   "source": [
    "def square(n):\n",
    "    for i in range(n+1):\n",
    "        yield i**2\n",
    "\n",
    "print(square(3))"
   ]
  },
  {
   "cell_type": "code",
   "execution_count": 3,
   "id": "3a8eb22b-f9d6-4075-b969-acd989b41d3a",
   "metadata": {},
   "outputs": [
    {
     "name": "stdout",
     "output_type": "stream",
     "text": [
      "0\n",
      "1\n",
      "4\n",
      "9\n"
     ]
    }
   ],
   "source": [
    "for i in square(3):\n",
    "    print(i)"
   ]
  },
  {
   "cell_type": "code",
   "execution_count": 4,
   "id": "f3159c20-34f0-4bc7-8896-1b95d1e2bc05",
   "metadata": {},
   "outputs": [],
   "source": [
    "# Iterating using next\n",
    "\n",
    "iterator = square(5)"
   ]
  },
  {
   "cell_type": "code",
   "execution_count": 5,
   "id": "546cb43b-2cf1-4150-a489-070edb239452",
   "metadata": {},
   "outputs": [
    {
     "name": "stdout",
     "output_type": "stream",
     "text": [
      "0\n"
     ]
    }
   ],
   "source": [
    "try:\n",
    "    print(next(iterator))\n",
    "except StopIteration:\n",
    "    print(\"No elements left in the iterator\")"
   ]
  },
  {
   "cell_type": "markdown",
   "id": "9b34cc43-23da-4143-9441-cfa8df06676c",
   "metadata": {},
   "source": [
    "#### Practical use of generator\n",
    "\n",
    "Generators are particularly useful for reading large files because they allow you to process one line at a time without loading entire file into memory."
   ]
  },
  {
   "cell_type": "code",
   "execution_count": 6,
   "id": "1cfe2b33-df26-4497-94c6-aacee57f751e",
   "metadata": {},
   "outputs": [],
   "source": [
    "def read_file_path(file_path):\n",
    "    with open(file_path,'r') as file:\n",
    "        for line in file:\n",
    "            yield line"
   ]
  },
  {
   "cell_type": "code",
   "execution_count": 9,
   "id": "7ebf824d-5362-4d5e-b706-195abf0d0462",
   "metadata": {},
   "outputs": [
    {
     "data": {
      "text/plain": [
       "<generator object read_file_path at 0x000001480BCFA200>"
      ]
     },
     "execution_count": 9,
     "metadata": {},
     "output_type": "execute_result"
    }
   ],
   "source": [
    "iterator = read_file_path(\"sample.txt\")\n",
    "iterator"
   ]
  },
  {
   "cell_type": "code",
   "execution_count": 10,
   "id": "803d7f15-8e3b-4927-a103-b35f7305e44b",
   "metadata": {},
   "outputs": [
    {
     "name": "stdout",
     "output_type": "stream",
     "text": [
      "Hi I am Vummethala Venkata Sri Datta Charan\n",
      "\n",
      "I am specialist programmer at Infosys \n",
      "\n",
      "You can call me charan\n"
     ]
    }
   ],
   "source": [
    "while True:\n",
    "    try:\n",
    "        print(next(iterator))\n",
    "    except StopIteration:\n",
    "        break"
   ]
  }
 ],
 "metadata": {
  "kernelspec": {
   "display_name": "Python 3 (ipykernel)",
   "language": "python",
   "name": "python3"
  },
  "language_info": {
   "codemirror_mode": {
    "name": "ipython",
    "version": 3
   },
   "file_extension": ".py",
   "mimetype": "text/x-python",
   "name": "python",
   "nbconvert_exporter": "python",
   "pygments_lexer": "ipython3",
   "version": "3.12.2"
  }
 },
 "nbformat": 4,
 "nbformat_minor": 5
}
