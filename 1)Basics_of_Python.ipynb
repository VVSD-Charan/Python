{
 "cells": [
  {
   "cell_type": "markdown",
   "id": "9a21f815-a0d9-4fdd-a57c-33d57f2c7c9c",
   "metadata": {},
   "source": [
    "# Syntax and Semantics\n",
    "\n",
    "Syntax is correct arrangements of words and symbols in a code. <br><br>Semantics refers to meaning or interpretation of symbols, characters and commands in a language. Semantics is all about what the code is supposed to do when it runs"
   ]
  },
  {
   "cell_type": "code",
   "execution_count": 1,
   "id": "0405130f-f4ec-4bad-9dfd-30e9ad84027d",
   "metadata": {},
   "outputs": [
    {
     "name": "stdout",
     "output_type": "stream",
     "text": [
      "Rohit\n",
      "Sharma\n"
     ]
    }
   ],
   "source": [
    "# Python is case sensitive\n",
    "\n",
    "name = \"Rohit\"\n",
    "Name = \"Sharma\"\n",
    "\n",
    "print(name)\n",
    "print(Name)"
   ]
  },
  {
   "cell_type": "code",
   "execution_count": 3,
   "id": "f951a3e4-fb14-4b51-8b79-3bc03b73f9ed",
   "metadata": {},
   "outputs": [
    {
     "name": "stdout",
     "output_type": "stream",
     "text": [
      "You are old\n"
     ]
    }
   ],
   "source": [
    "# Python uses indentation to define blocks (1 tab or 4 spaces)\n",
    "\n",
    "age = 22\n",
    "if age > 20:\n",
    "    print(\"You are old\")\n",
    "else:\n",
    "    print(\"You are young\")"
   ]
  },
  {
   "cell_type": "code",
   "execution_count": 4,
   "id": "4b340d77-6b12-4c61-ad9c-1f80c100efd9",
   "metadata": {},
   "outputs": [
    {
     "name": "stdout",
     "output_type": "stream",
     "text": [
      "28\n"
     ]
    }
   ],
   "source": [
    "# For line continuation, we can use \\\n",
    "\n",
    "total_score = 1 + 2 + 3 + 4 + 5  \\\n",
    "+ 6 + 7\n",
    "\n",
    "print(total_score)"
   ]
  },
  {
   "cell_type": "code",
   "execution_count": 5,
   "id": "85340b1f-a445-4558-b6d9-058df6d394c0",
   "metadata": {},
   "outputs": [
    {
     "name": "stdout",
     "output_type": "stream",
     "text": [
      "15\n"
     ]
    }
   ],
   "source": [
    "# We can have multiple statements in a single line\n",
    "\n",
    "x = 5;  y = 10;   z = x + y\n",
    "print(z)"
   ]
  },
  {
   "cell_type": "code",
   "execution_count": 10,
   "id": "de775642-ba04-4b7d-8d07-8b9135c014b4",
   "metadata": {},
   "outputs": [
    {
     "name": "stdout",
     "output_type": "stream",
     "text": [
      "<class 'int'>\n",
      "<class 'str'>\n",
      "<class 'str'>\n"
     ]
    }
   ],
   "source": [
    "# Assigning variables\n",
    "# Python uses dynamic typing i.e data type is decided during run time\n",
    "\n",
    "age = 22\n",
    "name = \"Charan\"\n",
    "\n",
    "print(type(age))\n",
    "print(type(name))\n",
    "\n",
    "age = \"older\"\n",
    "print(type(age))"
   ]
  },
  {
   "cell_type": "markdown",
   "id": "c34f21b7-7442-49ea-a8a8-1038b5095419",
   "metadata": {},
   "source": [
    "# Variables in Python"
   ]
  },
  {
   "cell_type": "code",
   "execution_count": 13,
   "id": "ad1e53ac-3542-4832-b2f8-58b9c10f3008",
   "metadata": {},
   "outputs": [
    {
     "name": "stdout",
     "output_type": "stream",
     "text": [
      "Age :  22   <class 'int'>\n",
      "Height :  5.9   <class 'float'>\n",
      "Name :  Charan   <class 'str'>\n",
      "Is student?  False   <class 'bool'>\n"
     ]
    }
   ],
   "source": [
    "# Declaring and assigning variables\n",
    "\n",
    "age = 22\n",
    "height = 5.9\n",
    "name = \"Charan\"\n",
    "is_student = False\n",
    "\n",
    "print(\"Age : \",age,\" \",type(age))\n",
    "print(\"Height : \",height,\" \",type(height))\n",
    "print(\"Name : \",name,\" \",type(name))\n",
    "print(\"Is student? \",is_student,\" \",type(is_student))"
   ]
  },
  {
   "cell_type": "code",
   "execution_count": 14,
   "id": "7d9a555d-72e2-405f-91b6-78e961d25681",
   "metadata": {},
   "outputs": [
    {
     "name": "stdout",
     "output_type": "stream",
     "text": [
      "age :  22   <class 'int'>\n",
      "age_str :  22   <class 'str'>\n"
     ]
    }
   ],
   "source": [
    "# Converting into other data type\n",
    "\n",
    "age = 22\n",
    "age_str = str(age)\n",
    "\n",
    "print(\"age : \",age,\" \",type(age))\n",
    "print(\"age_str : \",age_str,\" \",type(age_str))"
   ]
  },
  {
   "cell_type": "code",
   "execution_count": 15,
   "id": "203a707e-9d92-428d-9332-f0f233c35cba",
   "metadata": {},
   "outputs": [
    {
     "name": "stdout",
     "output_type": "stream",
     "text": [
      "age_int :  22   <class 'int'>\n",
      "age_str :  22   <class 'str'>\n"
     ]
    }
   ],
   "source": [
    "age_str = \"22\"\n",
    "age_int = int(age_str)\n",
    "\n",
    "print(\"age_int : \",age_int,\" \",type(age_int))\n",
    "print(\"age_str : \",age_str,\" \",type(age_str))"
   ]
  },
  {
   "cell_type": "code",
   "execution_count": 16,
   "id": "c4ea708e-1579-4a9c-a5f3-3ff2b8ac0a49",
   "metadata": {},
   "outputs": [
    {
     "name": "stdout",
     "output_type": "stream",
     "text": [
      "height :  5.9   <class 'float'>\n",
      "height_int :  5   <class 'int'>\n"
     ]
    }
   ],
   "source": [
    "height = 5.9\n",
    "height_int = int(height)\n",
    "\n",
    "print(\"height : \",height,\" \",type(height))\n",
    "print(\"height_int : \",height_int,\" \",type(height_int))"
   ]
  },
  {
   "cell_type": "code",
   "execution_count": 17,
   "id": "2fe92d53-e416-4c63-9641-fe55ba8386bf",
   "metadata": {},
   "outputs": [
    {
     "name": "stdout",
     "output_type": "stream",
     "text": [
      "height_int :  6   <class 'int'>\n",
      "height_float :  6.0   <class 'float'>\n"
     ]
    }
   ],
   "source": [
    "height_int = 6\n",
    "height_float = float(height_int)\n",
    "\n",
    "print(\"height_int : \",height_int,\" \",type(height_int))\n",
    "print(\"height_float : \",height_float,\" \",type(height_float))"
   ]
  },
  {
   "cell_type": "code",
   "execution_count": 18,
   "id": "2309050e-8a11-4c96-9dd8-af848e9f58cd",
   "metadata": {},
   "outputs": [
    {
     "name": "stdout",
     "output_type": "stream",
     "text": [
      "100   <class 'int'>\n",
      "Charan   <class 'str'>\n"
     ]
    }
   ],
   "source": [
    "# Dynamic Typing\n",
    "\n",
    "value = 100\n",
    "print(value,\" \",type(value))\n",
    "\n",
    "value = \"Charan\"\n",
    "print(value,\" \",type(value))"
   ]
  },
  {
   "cell_type": "markdown",
   "id": "a0ccb8f5-2575-4a56-aac8-5f1ce7506eb2",
   "metadata": {},
   "source": [
    "# Taking input from user"
   ]
  },
  {
   "cell_type": "code",
   "execution_count": 20,
   "id": "7c29b93e-1edd-40a2-9095-c9b3377db946",
   "metadata": {},
   "outputs": [
    {
     "name": "stdin",
     "output_type": "stream",
     "text": [
      "Enter your age :  22\n"
     ]
    },
    {
     "name": "stdout",
     "output_type": "stream",
     "text": [
      "22   <class 'str'>\n"
     ]
    }
   ],
   "source": [
    "# By default, python takes input type as string\n",
    "\n",
    "age = input(\"Enter your age : \")\n",
    "print(age,\" \",type(age))"
   ]
  },
  {
   "cell_type": "code",
   "execution_count": 21,
   "id": "344a4da6-2d76-42fd-bdca-7409985c89b5",
   "metadata": {},
   "outputs": [
    {
     "name": "stdin",
     "output_type": "stream",
     "text": [
      "Enter your age :  22\n"
     ]
    },
    {
     "name": "stdout",
     "output_type": "stream",
     "text": [
      "22   <class 'int'>\n"
     ]
    }
   ],
   "source": [
    "# To get integer input\n",
    "\n",
    "age = int(input(\"Enter your age : \"))\n",
    "print(age,\" \",type(age))"
   ]
  },
  {
   "cell_type": "code",
   "execution_count": 22,
   "id": "b4403cc9-35ed-46cd-9f9d-f890ed69ea32",
   "metadata": {},
   "outputs": [
    {
     "name": "stdin",
     "output_type": "stream",
     "text": [
      "Enter first number :  12\n",
      "Enter second number :  4\n"
     ]
    },
    {
     "name": "stdout",
     "output_type": "stream",
     "text": [
      "Sum :  16.0\n",
      "Difference :  8.0\n",
      "Product :  48.0\n",
      "Quotient :  3.0\n"
     ]
    }
   ],
   "source": [
    "# Simple calculator\n",
    "\n",
    "num1 = float(input(\"Enter first number : \"))\n",
    "num2 = float(input(\"Enter second number : \"))\n",
    "\n",
    "sum = num1 + num2\n",
    "difference = num1 - num2\n",
    "product = num1 * num2\n",
    "quotient = num1 / num2\n",
    "\n",
    "print(\"Sum : \",sum)\n",
    "print(\"Difference : \",difference)\n",
    "print(\"Product : \",product)\n",
    "print(\"Quotient : \",quotient)"
   ]
  },
  {
   "cell_type": "markdown",
   "id": "47642063-a34b-4cdc-ae4e-735acd975437",
   "metadata": {},
   "source": [
    "# Data Types\n",
    "\n",
    "Data types are a classification of data which tells the compiler or interpreter how the programmer intends to use the data. Data types ensure that data is stored in an efficient way and help performing correct operations on data."
   ]
  },
  {
   "cell_type": "code",
   "execution_count": 24,
   "id": "b4be8127-1a1d-4485-aa7a-fb720593d016",
   "metadata": {},
   "outputs": [
    {
     "name": "stdout",
     "output_type": "stream",
     "text": [
      "Age :  22   <class 'int'>\n",
      "Height :  5.9   <class 'float'>\n",
      "Name :  Charan   <class 'str'>\n",
      "Is student? :  False   <class 'bool'>\n"
     ]
    }
   ],
   "source": [
    "# Integer\n",
    "age = 22\n",
    "print(\"Age : \",age,\" \",type(age))\n",
    "\n",
    "height = 5.9\n",
    "print(\"Height : \",height,\" \",type(height))\n",
    "\n",
    "name = \"Charan\"\n",
    "print(\"Name : \",name,\" \",type(name))\n",
    "\n",
    "is_student = False\n",
    "print(\"Is student? : \",is_student,\" \",type(is_student))"
   ]
  },
  {
   "cell_type": "markdown",
   "id": "7cbfcbed-0e83-49c7-8f5f-beeaab193aed",
   "metadata": {},
   "source": [
    "# Operators"
   ]
  },
  {
   "cell_type": "code",
   "execution_count": 27,
   "id": "246f7ad4-6c0e-4b6e-9f4c-5f9fa0d7fba7",
   "metadata": {},
   "outputs": [
    {
     "name": "stdout",
     "output_type": "stream",
     "text": [
      "Division result is :  2.4\n",
      "Floor division is :  2\n",
      "Modulus result is :  2\n",
      "Exponential result is :  248832\n"
     ]
    }
   ],
   "source": [
    "a = 12\n",
    "b = 5\n",
    "\n",
    "div_result = a / b\n",
    "floor_div_result = a // b\n",
    "modulus_result = a % b\n",
    "exponential_result = a ** b\n",
    "\n",
    "print(\"Division result is : \",div_result)\n",
    "print(\"Floor division is : \",floor_div_result)\n",
    "print(\"Modulus result is : \",modulus_result)\n",
    "print(\"Exponential result is : \",exponential_result)"
   ]
  },
  {
   "cell_type": "code",
   "execution_count": 31,
   "id": "e05aa9d3-bfdd-4846-9c7d-929df6ed581e",
   "metadata": {},
   "outputs": [
    {
     "name": "stdout",
     "output_type": "stream",
     "text": [
      "a == b ? True\n",
      "a != b ? False\n"
     ]
    }
   ],
   "source": [
    "a = 10\n",
    "b = 10\n",
    "\n",
    "result = (a == b)\n",
    "print(\"a == b ?\",result)\n",
    "\n",
    "result = (a != b)\n",
    "print(\"a != b ?\",result)"
   ]
  },
  {
   "cell_type": "code",
   "execution_count": 32,
   "id": "02007ae2-07db-4f96-a1d3-dedf10c8d8f8",
   "metadata": {},
   "outputs": [
    {
     "name": "stdout",
     "output_type": "stream",
     "text": [
      "a > b ? True\n",
      "a < b ? False\n"
     ]
    }
   ],
   "source": [
    "a = 45\n",
    "b = 18\n",
    "\n",
    "result = (a > b)\n",
    "print(\"a > b ?\",result)\n",
    "\n",
    "result = (a < b)\n",
    "print(\"a < b ?\",result)"
   ]
  },
  {
   "cell_type": "code",
   "execution_count": 34,
   "id": "29ec6f67-4f77-41ae-933f-20adf786c667",
   "metadata": {},
   "outputs": [
    {
     "name": "stdout",
     "output_type": "stream",
     "text": [
      "x and y :  True\n",
      "x or y :  True\n",
      "not x :  False\n"
     ]
    }
   ],
   "source": [
    "x = True\n",
    "y = True\n",
    "\n",
    "result = x and y\n",
    "print(\"x and y : \",result)\n",
    "\n",
    "result = x or y\n",
    "print(\"x or y : \",result)\n",
    "\n",
    "result = not x\n",
    "print(\"not x : \",result)"
   ]
  }
 ],
 "metadata": {
  "kernelspec": {
   "display_name": "Python 3 (ipykernel)",
   "language": "python",
   "name": "python3"
  },
  "language_info": {
   "codemirror_mode": {
    "name": "ipython",
    "version": 3
   },
   "file_extension": ".py",
   "mimetype": "text/x-python",
   "name": "python",
   "nbconvert_exporter": "python",
   "pygments_lexer": "ipython3",
   "version": "3.12.2"
  }
 },
 "nbformat": 4,
 "nbformat_minor": 5
}
