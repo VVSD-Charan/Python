{
 "cells": [
  {
   "cell_type": "markdown",
   "id": "2597375c-085d-43db-a155-b0e886ee2eb1",
   "metadata": {},
   "source": [
    "### Decorators\n",
    "\n",
    "Decorators are powerful and flexible feature in python that allows modifying behavior of a function or class method. Decoratores are used to add functionality to functions or methods without modifying their actual code."
   ]
  }
 ],
 "metadata": {
  "kernelspec": {
   "display_name": "Python 3 (ipykernel)",
   "language": "python",
   "name": "python3"
  },
  "language_info": {
   "codemirror_mode": {
    "name": "ipython",
    "version": 3
   },
   "file_extension": ".py",
   "mimetype": "text/x-python",
   "name": "python",
   "nbconvert_exporter": "python",
   "pygments_lexer": "ipython3",
   "version": "3.12.2"
  }
 },
 "nbformat": 4,
 "nbformat_minor": 5
}
