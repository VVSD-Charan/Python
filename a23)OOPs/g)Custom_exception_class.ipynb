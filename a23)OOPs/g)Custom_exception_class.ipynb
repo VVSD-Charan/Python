{
 "cells": [
  {
   "cell_type": "markdown",
   "id": "fa1cc246-01f4-479a-88d5-56233a145a98",
   "metadata": {},
   "source": [
    "## Custom Exception (Raise and throw an exception)"
   ]
  },
  {
   "cell_type": "code",
   "execution_count": 1,
   "id": "8d42eabb-70d8-4224-9bf1-9a609844ed36",
   "metadata": {},
   "outputs": [],
   "source": [
    "class Error(Exception):\n",
    "    pass\n",
    "\n",
    "class dobException(Error):\n",
    "    pass"
   ]
  },
  {
   "cell_type": "code",
   "execution_count": 2,
   "id": "5f475bbb-6b06-46f9-adab-29d62f382fa5",
   "metadata": {},
   "outputs": [
    {
     "name": "stdin",
     "output_type": "stream",
     "text": [
      "Enter your age :  28\n"
     ]
    },
    {
     "name": "stdout",
     "output_type": "stream",
     "text": [
      "Your age is valid and you can apply for the exam\n"
     ]
    }
   ],
   "source": [
    "age = int(input(\"Enter your age : \"))\n",
    "\n",
    "try:\n",
    "    if age >= 20 and age <= 30:\n",
    "        print(\"Your age is valid and you can apply for the exam\")\n",
    "    else:\n",
    "        raise dobException\n",
    "except dobException:\n",
    "    print(\"Sorry,your age should be between 20 and 30\")"
   ]
  }
 ],
 "metadata": {
  "kernelspec": {
   "display_name": "Python 3 (ipykernel)",
   "language": "python",
   "name": "python3"
  },
  "language_info": {
   "codemirror_mode": {
    "name": "ipython",
    "version": 3
   },
   "file_extension": ".py",
   "mimetype": "text/x-python",
   "name": "python",
   "nbconvert_exporter": "python",
   "pygments_lexer": "ipython3",
   "version": "3.12.2"
  }
 },
 "nbformat": 4,
 "nbformat_minor": 5
}
