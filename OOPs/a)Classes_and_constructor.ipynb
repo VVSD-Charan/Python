{
 "cells": [
  {
   "cell_type": "markdown",
   "id": "8eadf5c3-a410-4b54-b795-fbbb606b3bda",
   "metadata": {},
   "source": [
    "# Object Oriented Programming\n",
    "\n",
    "OOP allows us to model real-world scenarios using classes and objects."
   ]
  },
  {
   "cell_type": "markdown",
   "id": "0d155009-ee3e-49eb-9a3e-94121de79fe9",
   "metadata": {},
   "source": [
    "### Creating a class"
   ]
  },
  {
   "cell_type": "code",
   "execution_count": 1,
   "id": "65210675-4b5d-45b9-806f-c97846717a54",
   "metadata": {},
   "outputs": [
    {
     "name": "stdout",
     "output_type": "stream",
     "text": [
      "<class '__main__.Car'>\n"
     ]
    }
   ],
   "source": [
    "#Creating class\n",
    "\n",
    "class Car:\n",
    "    pass\n",
    "\n",
    "audi = Car()\n",
    "bmw = Car()\n",
    "\n",
    "print(type(audi))"
   ]
  },
  {
   "cell_type": "code",
   "execution_count": 2,
   "id": "a77fa702-68ed-4d9a-9132-b9b67f3466b7",
   "metadata": {},
   "outputs": [
    {
     "name": "stdout",
     "output_type": "stream",
     "text": [
      "4\n"
     ]
    }
   ],
   "source": [
    "audi.windows = 4\n",
    "print(audi.windows)"
   ]
  },
  {
   "cell_type": "code",
   "execution_count": 3,
   "id": "26564908-2fae-4ff4-95a4-88d4e77217fe",
   "metadata": {},
   "outputs": [
    {
     "name": "stdout",
     "output_type": "stream",
     "text": [
      "4\n"
     ]
    }
   ],
   "source": [
    "bmw.doors = 4\n",
    "print(bmw.doors)"
   ]
  },
  {
   "cell_type": "code",
   "execution_count": 4,
   "id": "6bcaa6a9-8208-49bf-a4c1-62f958b1278f",
   "metadata": {},
   "outputs": [
    {
     "data": {
      "text/plain": [
       "['__class__',\n",
       " '__delattr__',\n",
       " '__dict__',\n",
       " '__dir__',\n",
       " '__doc__',\n",
       " '__eq__',\n",
       " '__format__',\n",
       " '__ge__',\n",
       " '__getattribute__',\n",
       " '__getstate__',\n",
       " '__gt__',\n",
       " '__hash__',\n",
       " '__init__',\n",
       " '__init_subclass__',\n",
       " '__le__',\n",
       " '__lt__',\n",
       " '__module__',\n",
       " '__ne__',\n",
       " '__new__',\n",
       " '__reduce__',\n",
       " '__reduce_ex__',\n",
       " '__repr__',\n",
       " '__setattr__',\n",
       " '__sizeof__',\n",
       " '__str__',\n",
       " '__subclasshook__',\n",
       " '__weakref__',\n",
       " 'doors']"
      ]
     },
     "execution_count": 4,
     "metadata": {},
     "output_type": "execute_result"
    }
   ],
   "source": [
    "dir(bmw)"
   ]
  },
  {
   "cell_type": "markdown",
   "id": "735a3dc8-0ef0-47cd-beb5-fca9c2d50928",
   "metadata": {},
   "source": [
    "### Creating a constructor"
   ]
  },
  {
   "cell_type": "code",
   "execution_count": 5,
   "id": "a32dacdc-e554-4b59-ade8-f954c9d54b1f",
   "metadata": {},
   "outputs": [],
   "source": [
    "class Dog:\n",
    "    #constructor\n",
    "    def __init__(self,name,age):\n",
    "        self.name = name\n",
    "        self.age = age"
   ]
  },
  {
   "cell_type": "code",
   "execution_count": 6,
   "id": "b3127454-4713-4965-8f0e-0cba5cdcb6fb",
   "metadata": {},
   "outputs": [
    {
     "name": "stdout",
     "output_type": "stream",
     "text": [
      "<__main__.Dog object at 0x000001C2F48BDFD0>\n"
     ]
    }
   ],
   "source": [
    "dog = Dog(\"Don\",7)\n",
    "print(dog)"
   ]
  },
  {
   "cell_type": "code",
   "execution_count": 7,
   "id": "22fca137-ea14-4ae3-9d96-3dc0cc9b0439",
   "metadata": {},
   "outputs": [
    {
     "name": "stdout",
     "output_type": "stream",
     "text": [
      "Don 7\n"
     ]
    }
   ],
   "source": [
    "print(f\"{dog.name} {dog.age}\")"
   ]
  },
  {
   "cell_type": "markdown",
   "id": "711b4443-5326-4b95-a12f-31e24a595bdc",
   "metadata": {},
   "source": [
    "### Creating instance methods"
   ]
  },
  {
   "cell_type": "code",
   "execution_count": 8,
   "id": "998cd030-4b07-4738-8c45-a4421ae8d492",
   "metadata": {},
   "outputs": [],
   "source": [
    "class Animal:\n",
    "    def __init__(self,name,says):\n",
    "        self.name = name\n",
    "        self.says = says\n",
    "\n",
    "    def bark(self):\n",
    "        print(f\"{self.name} says {self.says}\")"
   ]
  },
  {
   "cell_type": "code",
   "execution_count": 9,
   "id": "8c6dd569-b42d-44e5-8872-f5fe2b165ba4",
   "metadata": {},
   "outputs": [
    {
     "name": "stdout",
     "output_type": "stream",
     "text": [
      "Dog says Woof!\n"
     ]
    }
   ],
   "source": [
    "dog = Animal(\"Dog\",\"Woof!\")\n",
    "dog.bark()"
   ]
  },
  {
   "cell_type": "code",
   "execution_count": 10,
   "id": "0d793f3e-88b9-4901-9e19-8515f736bcdb",
   "metadata": {},
   "outputs": [
    {
     "name": "stdout",
     "output_type": "stream",
     "text": [
      "Cat says Meow\n"
     ]
    }
   ],
   "source": [
    "cat = Animal(\"Cat\",\"Meow\")\n",
    "cat.bark()"
   ]
  },
  {
   "cell_type": "markdown",
   "id": "05bf9439-6ca3-41ec-9298-f40fd8dcfd1e",
   "metadata": {},
   "source": [
    "### Example"
   ]
  },
  {
   "cell_type": "code",
   "execution_count": 11,
   "id": "493bfb92-73d6-46e9-b340-f50599b841c5",
   "metadata": {},
   "outputs": [],
   "source": [
    "class Bank:\n",
    "    def __init__(self,owner,balance=0):\n",
    "        self.owner = owner\n",
    "        self.balance = balance\n",
    "\n",
    "    def deposit(self,amount):\n",
    "        self.balance += amount\n",
    "        print(f\"Amount {amount} deposited! Current balance is {self.balance}\")\n",
    "\n",
    "    def withdraw(self,amount):\n",
    "        self.balance -= amount\n",
    "        print(f\"Amount {amount} withdrawed! Current balance is {self.balance}\")\n",
    "\n",
    "    def get_balance(self):\n",
    "        print(f\"Your balance is {self.balance}\")"
   ]
  },
  {
   "cell_type": "code",
   "execution_count": 12,
   "id": "d9496001-4b3b-4267-81ac-69d010309cad",
   "metadata": {},
   "outputs": [
    {
     "name": "stdout",
     "output_type": "stream",
     "text": [
      "Amount 100 deposited! Current balance is 3600\n",
      "Amount 1200 withdrawed! Current balance is 2400\n",
      "Your balance is 2400\n"
     ]
    }
   ],
   "source": [
    "account = Bank(\"Charan\",3500)\n",
    "account.deposit(100)\n",
    "account.withdraw(1200)\n",
    "account.get_balance()"
   ]
  }
 ],
 "metadata": {
  "kernelspec": {
   "display_name": "Python 3 (ipykernel)",
   "language": "python",
   "name": "python3"
  },
  "language_info": {
   "codemirror_mode": {
    "name": "ipython",
    "version": 3
   },
   "file_extension": ".py",
   "mimetype": "text/x-python",
   "name": "python",
   "nbconvert_exporter": "python",
   "pygments_lexer": "ipython3",
   "version": "3.12.2"
  }
 },
 "nbformat": 4,
 "nbformat_minor": 5
}
