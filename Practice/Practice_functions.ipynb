{
 "cells": [
  {
   "cell_type": "code",
   "execution_count": null,
   "id": "bc6a65ef-7dcb-48ec-904d-27baed6b145e",
   "metadata": {},
   "outputs": [],
   "source": []
  }
 ],
 "metadata": {
  "kernelspec": {
   "display_name": "",
   "name": ""
  },
  "language_info": {
   "name": ""
  }
 },
 "nbformat": 4,
 "nbformat_minor": 5
}
