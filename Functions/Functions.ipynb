{
 "cells": [
  {
   "cell_type": "markdown",
   "id": "8e5aa6c5-e1d8-4f99-b36d-dd0a561be104",
   "metadata": {},
   "source": [
    "# Function\n",
    "\n",
    "Functions help in organizing code,re-using code and improving readability"
   ]
  },
  {
   "cell_type": "code",
   "execution_count": 1,
   "id": "4bb092a5-ab6d-4a11-b2cb-8c84688d93b4",
   "metadata": {},
   "outputs": [],
   "source": [
    "# syntax of function\n",
    "\n",
    "def function_name(parameters):\n",
    "    \"\"\"\n",
    "    DOCSTRING -> Comments about the function that helps other developers understand what the function is doing\n",
    "    \"\"\"\n",
    "    return answer\n",
    "    "
   ]
  },
  {
   "cell_type": "markdown",
   "id": "69bfe7b7-0bbc-4c16-9b87-22668f9cebea",
   "metadata": {},
   "source": [
    "### Without using functions\n",
    "\n",
    "There will be repetitive code that will be difficult to maintain as code size will be huge."
   ]
  },
  {
   "cell_type": "code",
   "execution_count": 3,
   "id": "e9e173ef-d368-49b6-b9ba-2727c3e00d01",
   "metadata": {},
   "outputs": [
    {
     "name": "stdout",
     "output_type": "stream",
     "text": [
      "30 is even\n"
     ]
    }
   ],
   "source": [
    "number = 30\n",
    "\n",
    "if number % 2 == 0:\n",
    "    print(number,\"is even\")\n",
    "else:\n",
    "    print(number,\"is odd\")"
   ]
  },
  {
   "cell_type": "code",
   "execution_count": 4,
   "id": "6d84d88b-5dba-4bcc-8bdb-7079a65c7c9b",
   "metadata": {},
   "outputs": [
    {
     "name": "stdout",
     "output_type": "stream",
     "text": [
      "25 is odd\n"
     ]
    }
   ],
   "source": [
    "number = 25\n",
    "\n",
    "if number%2 == 0:\n",
    "    print(number,\"is even\")\n",
    "else:\n",
    "    print(number,\"is odd\")"
   ]
  },
  {
   "cell_type": "markdown",
   "id": "38f41c0a-311b-4e3e-a9fe-49b07b044398",
   "metadata": {},
   "source": [
    "### Code re-usability using functions\n",
    "\n",
    "We can perform the same task by creating a function by reducing repetitive lines of code"
   ]
  },
  {
   "cell_type": "code",
   "execution_count": 8,
   "id": "91a998af-ad0d-453d-96d6-be4da484d300",
   "metadata": {},
   "outputs": [],
   "source": [
    "def odd_or_even(number):\n",
    "    \"\"\"This number finds if a number is even or odd\"\"\"\n",
    "    if number%2 == 0:\n",
    "        print(number,\"is even\")\n",
    "    else:\n",
    "        print(number,\"is odd\")"
   ]
  },
  {
   "cell_type": "code",
   "execution_count": 9,
   "id": "943a845c-66a0-450e-99ca-c9ecabb99bdc",
   "metadata": {},
   "outputs": [
    {
     "name": "stdout",
     "output_type": "stream",
     "text": [
      "30 is even\n"
     ]
    }
   ],
   "source": [
    "odd_or_even(30)"
   ]
  },
  {
   "cell_type": "code",
   "execution_count": 10,
   "id": "2c66a5f3-b984-4e64-8aab-d792fce95ee4",
   "metadata": {},
   "outputs": [
    {
     "name": "stdout",
     "output_type": "stream",
     "text": [
      "25 is odd\n"
     ]
    }
   ],
   "source": [
    "odd_or_even(25)"
   ]
  },
  {
   "cell_type": "markdown",
   "id": "dc972510-9b6f-4f4c-9e27-98a39317066a",
   "metadata": {},
   "source": [
    "### Multiple parameter function"
   ]
  },
  {
   "cell_type": "code",
   "execution_count": 11,
   "id": "0e9886a1-5f32-4f9c-ab92-b9f3a922b322",
   "metadata": {},
   "outputs": [
    {
     "name": "stdout",
     "output_type": "stream",
     "text": [
      "30\n"
     ]
    }
   ],
   "source": [
    "def add(a,b):\n",
    "    \"\"\"This function adds two numbers\"\"\"\n",
    "    return a+b\n",
    "\n",
    "print(add(10,20))"
   ]
  },
  {
   "cell_type": "markdown",
   "id": "78965c86-2162-41a9-9440-917849d5444a",
   "metadata": {},
   "source": [
    "### Default parameters"
   ]
  },
  {
   "cell_type": "code",
   "execution_count": 15,
   "id": "28ecdc64-32bd-4c98-aab7-d0de9b9b2e3c",
   "metadata": {},
   "outputs": [
    {
     "ename": "TypeError",
     "evalue": "greet() missing 1 required positional argument: 'name'",
     "output_type": "error",
     "traceback": [
      "\u001b[1;31m---------------------------------------------------------------------------\u001b[0m",
      "\u001b[1;31mTypeError\u001b[0m                                 Traceback (most recent call last)",
      "Cell \u001b[1;32mIn[15], line 6\u001b[0m\n\u001b[0;32m      3\u001b[0m     \u001b[38;5;28mprint\u001b[39m(\u001b[38;5;124mf\u001b[39m\u001b[38;5;124m\"\u001b[39m\u001b[38;5;124mHello \u001b[39m\u001b[38;5;132;01m{\u001b[39;00mname\u001b[38;5;132;01m}\u001b[39;00m\u001b[38;5;124m\"\u001b[39m)\n\u001b[0;32m      5\u001b[0m \u001b[38;5;66;03m# Since there is no default value of name, we get an error\u001b[39;00m\n\u001b[1;32m----> 6\u001b[0m \u001b[43mgreet\u001b[49m\u001b[43m(\u001b[49m\u001b[43m)\u001b[49m\n",
      "\u001b[1;31mTypeError\u001b[0m: greet() missing 1 required positional argument: 'name'"
     ]
    }
   ],
   "source": [
    "def greet(name):\n",
    "    \"\"\"This function takes name as an argument and prints Hello (name)\"\"\"\n",
    "    print(f\"Hello {name}\")\n",
    "\n",
    "# Since there is no default value of name, we get an error\n",
    "greet()"
   ]
  },
  {
   "cell_type": "code",
   "execution_count": 18,
   "id": "39664250-191e-48c2-a977-b4e33565eab6",
   "metadata": {},
   "outputs": [
    {
     "name": "stdout",
     "output_type": "stream",
     "text": [
      "Hello Guest\n",
      "Hello Charan\n"
     ]
    }
   ],
   "source": [
    "def greet(name = \"Guest\"):\n",
    "    \"\"\"This function takes name as an argument and if name is not given,it will take name is Guest\"\"\"\n",
    "    print(f\"Hello {name}\")\n",
    "\n",
    "# Since no argument is given,it will consider name as Guest\n",
    "greet()\n",
    "\n",
    "# Since argument is given,it will override the default value and takes name as given name\n",
    "greet(\"Charan\")"
   ]
  },
  {
   "cell_type": "markdown",
   "id": "1334b0e2-9460-4802-9d68-dbaf275bf7ca",
   "metadata": {},
   "source": [
    "### Variable length arguments"
   ]
  },
  {
   "cell_type": "code",
   "execution_count": 26,
   "id": "5382b88e-a993-4b02-b575-ef45b3606e23",
   "metadata": {},
   "outputs": [],
   "source": [
    "# Positional arguments\n",
    "\n",
    "def print_numbers(*args):\n",
    "    \"\"\" This function prints all the numbers passed as arguments \"\"\"\n",
    "    for number in args:\n",
    "        print(number,end=' ')"
   ]
  },
  {
   "cell_type": "code",
   "execution_count": 24,
   "id": "cabcccbe-9259-4d20-a290-a704054d78e3",
   "metadata": {},
   "outputs": [
    {
     "name": "stdout",
     "output_type": "stream",
     "text": [
      "1 2 3 4 5 6 7 8 "
     ]
    }
   ],
   "source": [
    "print_numbers(1,2,3,4,5,6,7,8)"
   ]
  },
  {
   "cell_type": "code",
   "execution_count": 25,
   "id": "7dde6f9e-d424-4549-ac01-c6bd125a9160",
   "metadata": {},
   "outputs": [
    {
     "name": "stdout",
     "output_type": "stream",
     "text": [
      "1 2 3 4 "
     ]
    }
   ],
   "source": [
    "print_numbers(1,2,3,4)"
   ]
  },
  {
   "cell_type": "code",
   "execution_count": 29,
   "id": "e5202cad-6611-4158-9c53-781c3544e26d",
   "metadata": {},
   "outputs": [],
   "source": [
    "# Keywords arguments\n",
    "# In keywords arguments, all the parameters will be in the form of key-value pairs\n",
    "\n",
    "def print_details(**kwargs):\n",
    "    for key,value in kwargs.items():\n",
    "        print(f\"{key} : {value}\")"
   ]
  },
  {
   "cell_type": "code",
   "execution_count": 30,
   "id": "4d0b2bfc-f6e2-41f3-bf26-558f318c28bb",
   "metadata": {},
   "outputs": [
    {
     "name": "stdout",
     "output_type": "stream",
     "text": [
      "name : Charan\n",
      "age : 22\n",
      "branch : CSE\n"
     ]
    }
   ],
   "source": [
    "print_details(name = \"Charan\",age = 22,branch = \"CSE\")"
   ]
  },
  {
   "cell_type": "code",
   "execution_count": 37,
   "id": "d31f2ea5-f1da-41f9-81b1-9acf87387609",
   "metadata": {},
   "outputs": [],
   "source": [
    "# Combining both positional and functional arguments\n",
    "\n",
    "def print_details(*args,**kwargs):\n",
    "    \"\"\" This function prints all the values of args and all key-value pairs of kwargs \"\"\"\n",
    "    print(\"KEYWORD ARGUMENTS : \")\n",
    "    for key,value in kwargs.items():\n",
    "        print(f\"{key} : {value}\")\n",
    "\n",
    "    print(\"\\nPOSITIONAL ARGUMENTS : \")\n",
    "    for number in args:\n",
    "        print(number,end=\" \")"
   ]
  },
  {
   "cell_type": "code",
   "execution_count": 38,
   "id": "cdd4c59d-a22d-40aa-b376-420bfa5389b9",
   "metadata": {},
   "outputs": [
    {
     "name": "stdout",
     "output_type": "stream",
     "text": [
      "KEYWORD ARGUMENTS : \n",
      "name : Charan\n",
      "age : 22\n",
      "branch : CSE\n",
      "\n",
      "POSITIONAL ARGUMENTS : \n",
      "1 2 3 4 5 6 7 "
     ]
    }
   ],
   "source": [
    "print_details(1,2,3,4,5,6,7,name=\"Charan\",age=22,branch=\"CSE\")"
   ]
  },
  {
   "cell_type": "markdown",
   "id": "b52024ed-eb53-4241-a2d3-f9ded8f2380f",
   "metadata": {},
   "source": [
    "### Returning multiple values from functions"
   ]
  },
  {
   "cell_type": "code",
   "execution_count": 39,
   "id": "70237b12-8009-44df-9291-54490cb59c13",
   "metadata": {},
   "outputs": [],
   "source": [
    "def multiply(a,b):\n",
    "    \"\"\" This function takes two parameters a,b as arguments and returns multiple values in format a,b,a*b \"\"\"\n",
    "    product = a*b\n",
    "    return a,b,product"
   ]
  },
  {
   "cell_type": "code",
   "execution_count": 41,
   "id": "26add5a4-3f2c-41a5-8c02-0847dab58bc3",
   "metadata": {},
   "outputs": [
    {
     "name": "stdout",
     "output_type": "stream",
     "text": [
      "(4, 6, 24)\n"
     ]
    }
   ],
   "source": [
    "# When multiple values are returned, they will be returned in the form of a tuple\n",
    "\n",
    "print(multiply(4,6))"
   ]
  }
 ],
 "metadata": {
  "kernelspec": {
   "display_name": "Python 3 (ipykernel)",
   "language": "python",
   "name": "python3"
  },
  "language_info": {
   "codemirror_mode": {
    "name": "ipython",
    "version": 3
   },
   "file_extension": ".py",
   "mimetype": "text/x-python",
   "name": "python",
   "nbconvert_exporter": "python",
   "pygments_lexer": "ipython3",
   "version": "3.12.2"
  }
 },
 "nbformat": 4,
 "nbformat_minor": 5
}
