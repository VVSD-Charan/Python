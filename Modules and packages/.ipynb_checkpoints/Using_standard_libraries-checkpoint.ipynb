{
 "cells": [
  {
   "cell_type": "code",
   "execution_count": 1,
   "id": "09206216-c7c0-4543-b239-29126768fdbf",
   "metadata": {},
   "outputs": [
    {
     "name": "stdout",
     "output_type": "stream",
     "text": [
      "4.0\n",
      "5.0\n",
      "3.141592653589793\n"
     ]
    }
   ],
   "source": [
    "# Importng all functions\n",
    "from math import *\n",
    "\n",
    "print(cbrt(64))\n",
    "print(sqrt(25))\n",
    "print(pi)"
   ]
  },
  {
   "cell_type": "code",
   "execution_count": 2,
   "id": "ffdccce1-519d-48f9-a4bf-2f40966a3de7",
   "metadata": {},
   "outputs": [
    {
     "data": {
      "text/plain": [
       "array([1, 2, 3, 4])"
      ]
     },
     "execution_count": 2,
     "metadata": {},
     "output_type": "execute_result"
    }
   ],
   "source": [
    "# Aliasing\n",
    "import numpy as np\n",
    "\n",
    "np.array([1,2,3,4])"
   ]
  },
  {
   "cell_type": "code",
   "execution_count": 3,
   "id": "da825277-58ba-4ba9-a48f-8db4ad5994c6",
   "metadata": {},
   "outputs": [
    {
     "name": "stdout",
     "output_type": "stream",
     "text": [
      "array('i', [1, 2, 3, 4, 5])\n"
     ]
    }
   ],
   "source": [
    "# Importing array library\n",
    "import array\n",
    "\n",
    "array = array.array('i',[1,2,3,4,5])\n",
    "print(array)"
   ]
  },
  {
   "cell_type": "code",
   "execution_count": 4,
   "id": "9e74d83a-d7ba-4214-819b-3de4b7e4a23e",
   "metadata": {},
   "outputs": [
    {
     "name": "stdout",
     "output_type": "stream",
     "text": [
      "7\n",
      "waugh\n"
     ]
    }
   ],
   "source": [
    "# Random\n",
    "import random\n",
    "\n",
    "print(random.randint(1,10))\n",
    "print(random.choice(['ponting','waugh','smith','gilchrist']))"
   ]
  },
  {
   "cell_type": "code",
   "execution_count": 5,
   "id": "ae07b968-907b-4066-8c43-e702ce9bc36f",
   "metadata": {},
   "outputs": [
    {
     "name": "stdout",
     "output_type": "stream",
     "text": [
      "C:\\Users\\SRIDATTA CHARAN\\Desktop\\Python\\Modules and packages\n"
     ]
    }
   ],
   "source": [
    "import os\n",
    "\n",
    "print(os.getcwd())"
   ]
  },
  {
   "cell_type": "code",
   "execution_count": 6,
   "id": "85d0b319-e73c-48e1-9f43-fb26b6f8653e",
   "metadata": {},
   "outputs": [
    {
     "data": {
      "text/plain": [
       "'copied_sample.txt'"
      ]
     },
     "execution_count": 6,
     "metadata": {},
     "output_type": "execute_result"
    }
   ],
   "source": [
    "# Performing high level operations on files and collections of files\n",
    "import shutil\n",
    "\n",
    "# Copying content of one file into other\n",
    "shutil.copyfile('sample.txt','copied_sample.txt')"
   ]
  },
  {
   "cell_type": "code",
   "execution_count": 7,
   "id": "d4937c76-92f1-416e-b100-7872071a1b32",
   "metadata": {},
   "outputs": [
    {
     "name": "stdout",
     "output_type": "stream",
     "text": [
      "{\"name\": \"Charan\", \"age\": 22}\n",
      "<class 'str'>\n",
      "{'name': 'Charan', 'age': 22}\n",
      "<class 'dict'>\n"
     ]
    }
   ],
   "source": [
    "import json\n",
    "data = {\n",
    "    \"name\" : \"Charan\",\n",
    "    \"age\" : 22\n",
    "}\n",
    "\n",
    "# Converts JSON into a string\n",
    "json_str = json.dumps(data)\n",
    "print(json_str)\n",
    "print(type(json_str))\n",
    "\n",
    "# Parsing the string to extract JSON (dictionary in python)\n",
    "parsed_data = json.loads(json_str)\n",
    "print(parsed_data)\n",
    "print(type(parsed_data))"
   ]
  },
  {
   "cell_type": "code",
   "execution_count": 11,
   "id": "46fe2ad1-d494-4602-9bdc-eedd62b6b55d",
   "metadata": {},
   "outputs": [
    {
     "name": "stdout",
     "output_type": "stream",
     "text": [
      "['name', 'age']\n",
      "['Charan', '23']\n"
     ]
    }
   ],
   "source": [
    "# csv\n",
    "import csv\n",
    "\n",
    "#Creating a csv and writing data\n",
    "with open('example.csv',mode='w',newline='') as file:\n",
    "    writer = csv.writer(file)\n",
    "    writer.writerow(['name','age'])\n",
    "    writer.writerow(['Charan',23])\n",
    "\n",
    "#Reading the csv\n",
    "with open('example.csv',mode='r') as file:\n",
    "    reader = csv.reader(file)\n",
    "    for row in reader:\n",
    "        print(row)"
   ]
  },
  {
   "cell_type": "code",
   "execution_count": 13,
   "id": "19ceabe8-12f7-4b5d-b48d-e5cececa197c",
   "metadata": {},
   "outputs": [
    {
     "name": "stdout",
     "output_type": "stream",
     "text": [
      "2024-12-07 17:12:25.297753\n",
      "2024-12-06 17:12:25.297753\n"
     ]
    }
   ],
   "source": [
    "#DateTime\n",
    "\n",
    "from datetime import datetime,timedelta\n",
    "\n",
    "now = datetime.now()\n",
    "print(now)\n",
    "\n",
    "yesterday = now -  timedelta(days = 1)\n",
    "print(yesterday)"
   ]
  },
  {
   "cell_type": "code",
   "execution_count": 15,
   "id": "0002a3a5-df72-4d1a-a746-daf8fb9aefd0",
   "metadata": {},
   "outputs": [
    {
     "name": "stdout",
     "output_type": "stream",
     "text": [
      "1733571821.7666597\n",
      "1733571823.7682006\n"
     ]
    }
   ],
   "source": [
    "#Time\n",
    "import time\n",
    "print(time.time())\n",
    "\n",
    "# Seelps for 2 seconds\n",
    "time.sleep(2)\n",
    "\n",
    "print(time.time())"
   ]
  },
  {
   "cell_type": "code",
   "execution_count": 21,
   "id": "ff11d97b-fc83-4d5d-a368-f7f2c8141fb6",
   "metadata": {},
   "outputs": [
    {
     "name": "stdout",
     "output_type": "stream",
     "text": [
      "<re.Match object; span=(19, 21), match='20'>\n"
     ]
    }
   ],
   "source": [
    "#Regular expression\n",
    "import re\n",
    "\n",
    "pattern = r'\\d+'\n",
    "text = \"My institute id is 20bcs244\"\n",
    "match = re.search(pattern,text)\n",
    "print(match)"
   ]
  }
 ],
 "metadata": {
  "kernelspec": {
   "display_name": "Python 3 (ipykernel)",
   "language": "python",
   "name": "python3"
  },
  "language_info": {
   "codemirror_mode": {
    "name": "ipython",
    "version": 3
   },
   "file_extension": ".py",
   "mimetype": "text/x-python",
   "name": "python",
   "nbconvert_exporter": "python",
   "pygments_lexer": "ipython3",
   "version": "3.12.2"
  }
 },
 "nbformat": 4,
 "nbformat_minor": 5
}
