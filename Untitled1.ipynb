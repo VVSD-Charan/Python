{
 "cells": [
  {
   "cell_type": "code",
   "execution_count": null,
   "id": "51a4104e-22d8-4e7f-b347-1c77942ed51f",
   "metadata": {},
   "outputs": [],
   "source": []
  }
 ],
 "metadata": {
  "kernelspec": {
   "display_name": "",
   "name": ""
  },
  "language_info": {
   "name": ""
  }
 },
 "nbformat": 4,
 "nbformat_minor": 5
}
