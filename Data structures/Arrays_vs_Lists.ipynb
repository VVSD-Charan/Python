{
 "cells": [
  {
   "cell_type": "markdown",
   "id": "5760837e-dfe3-4c08-af01-c847c090aaf3",
   "metadata": {},
   "source": [
    "# Lists\n",
    "\n",
    "Lists are heterogeneous (can store data of different types). Lists are dynamic in nature(size of list can grow and shrink). Lists are less memory efficient and slower for larger datasets. Lists are built-in in python."
   ]
  },
  {
   "cell_type": "code",
   "execution_count": 1,
   "id": "ffa30358-ade2-4a98-9325-2bb23a1c0285",
   "metadata": {},
   "outputs": [
    {
     "data": {
      "text/plain": [
       "[1, 2, 3, 4, 5, 6, 'Charan']"
      ]
     },
     "execution_count": 1,
     "metadata": {},
     "output_type": "execute_result"
    }
   ],
   "source": [
    "# Heterogeneous nature of lists\n",
    "\n",
    "list_example = [1,2,3,4,5,6]\n",
    "list_example.append(\"Charan\")\n",
    "\n",
    "list_example"
   ]
  },
  {
   "cell_type": "code",
   "execution_count": 2,
   "id": "79443626-820e-498f-b37b-cb47087e54f4",
   "metadata": {},
   "outputs": [
    {
     "data": {
      "text/plain": [
       "[1, 2, 3, 4, 5, 6, 'Charan', 'cricket']"
      ]
     },
     "execution_count": 2,
     "metadata": {},
     "output_type": "execute_result"
    }
   ],
   "source": [
    "# Lists size can grown or shrink i.e lists are dynamic\n",
    "\n",
    "list_example.append(\"cricket\")\n",
    "list_example"
   ]
  },
  {
   "cell_type": "markdown",
   "id": "b2770d52-45fd-4996-8d59-c77681cbc6bb",
   "metadata": {},
   "source": [
    "# Array\n",
    "\n",
    "Arrays are homogeneous(can store data of same type only) and have a fixed size. Arrays are more memory efficient for larger data. Array elements are stored at contiguous memory locations. Arrays are not built-in in python and must be imported to use."
   ]
  },
  {
   "cell_type": "code",
   "execution_count": 3,
   "id": "73653576-7d01-410a-bd35-547e3a384dd2",
   "metadata": {},
   "outputs": [],
   "source": [
    "# Array is not built-in in python. So, we need to import\n",
    "\n",
    "import array"
   ]
  },
  {
   "cell_type": "raw",
   "id": "ca9ee347-8393-4a74-a0f4-2dca27f56710",
   "metadata": {},
   "source": [
    "Syntax of array => array(data_type,value_list)\n",
    "\n",
    "'b' => char \n",
    "'h' => short\n",
    "'i' => signed int\n",
    "'I' => signed long\n",
    "'l' => unsigned int\n",
    "'L' => unsigned long\n",
    "'q' => signed long long\n",
    "'Q' => unsigned long long\n",
    "'f' => float\n",
    "'d' => double"
   ]
  },
  {
   "cell_type": "code",
   "execution_count": 4,
   "id": "68da2155-45e9-4841-a9cf-51ee473cb74a",
   "metadata": {},
   "outputs": [
    {
     "data": {
      "text/plain": [
       "array('i', [1, 2, 3, 4, 5])"
      ]
     },
     "execution_count": 4,
     "metadata": {},
     "output_type": "execute_result"
    }
   ],
   "source": [
    "array_example = array.array('i',[1,2,3,4,5])\n",
    "array_example"
   ]
  },
  {
   "cell_type": "code",
   "execution_count": 5,
   "id": "64361e1e-ba48-4e99-9432-5dc11a837cb5",
   "metadata": {},
   "outputs": [
    {
     "name": "stdout",
     "output_type": "stream",
     "text": [
      "array('i', [10, 2, 3, 4, 5])\n"
     ]
    }
   ],
   "source": [
    "array_example[0] = 10\n",
    "print(array_example)"
   ]
  }
 ],
 "metadata": {
  "kernelspec": {
   "display_name": "Python 3 (ipykernel)",
   "language": "python",
   "name": "python3"
  },
  "language_info": {
   "codemirror_mode": {
    "name": "ipython",
    "version": 3
   },
   "file_extension": ".py",
   "mimetype": "text/x-python",
   "name": "python",
   "nbconvert_exporter": "python",
   "pygments_lexer": "ipython3",
   "version": "3.12.2"
  }
 },
 "nbformat": 4,
 "nbformat_minor": 5
}
