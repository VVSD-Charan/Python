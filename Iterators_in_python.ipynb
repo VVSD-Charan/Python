{
 "cells": [
  {
   "cell_type": "markdown",
   "id": "0cbe8a1c-ab65-441b-9c69-34442392b55d",
   "metadata": {},
   "source": [
    "## Iterators in Python\n",
    "\n",
    "Iterators are advanced python concepts that allow for efficient looping and memory management. Iterators provide a way to access elements of a collection sequentially without exposing the actual underlying structure."
   ]
  },
  {
   "cell_type": "code",
   "execution_count": 1,
   "id": "733094b7-ca68-453b-b595-eca02cfff366",
   "metadata": {},
   "outputs": [
    {
     "name": "stdout",
     "output_type": "stream",
     "text": [
      "1 2 3 4 5 6 "
     ]
    }
   ],
   "source": [
    "# Normal iteration of list\n",
    "\n",
    "array = [1,2,3,4,5,6]\n",
    "\n",
    "for number in array:\n",
    "    print(number,end=' ')"
   ]
  },
  {
   "cell_type": "code",
   "execution_count": 2,
   "id": "54861438-2f78-4c3b-bc8f-83076c27881b",
   "metadata": {},
   "outputs": [
    {
     "name": "stdout",
     "output_type": "stream",
     "text": [
      "<class 'list_iterator'>\n"
     ]
    }
   ],
   "source": [
    "# Iterator\n",
    "\n",
    "iterator = iter(array)\n",
    "print(type(iterator))"
   ]
  },
  {
   "cell_type": "code",
   "execution_count": 3,
   "id": "48659001-2fc4-40db-99bb-707aa3992f13",
   "metadata": {},
   "outputs": [
    {
     "data": {
      "text/plain": [
       "<list_iterator at 0x16db189b400>"
      ]
     },
     "execution_count": 3,
     "metadata": {},
     "output_type": "execute_result"
    }
   ],
   "source": [
    "# Iterator is lazy loaded i.e we cannot get the elements until we iterate through that particular element \n",
    "\n",
    "iterator"
   ]
  },
  {
   "cell_type": "code",
   "execution_count": 4,
   "id": "8f360d52-dd2e-4b08-9448-267cbda1dcfb",
   "metadata": {},
   "outputs": [
    {
     "name": "stdout",
     "output_type": "stream",
     "text": [
      "1\n",
      "2\n",
      "3\n"
     ]
    }
   ],
   "source": [
    "# Iterating through all elements with iterator\n",
    "\n",
    "print(next(iterator))\n",
    "print(next(iterator))\n",
    "print(next(iterator))"
   ]
  },
  {
   "cell_type": "code",
   "execution_count": 5,
   "id": "2b66d469-8afd-440c-8d0e-7cfdf4f22f1f",
   "metadata": {},
   "outputs": [],
   "source": [
    "iterator = iter(array)"
   ]
  },
  {
   "cell_type": "code",
   "execution_count": 12,
   "id": "f921de70-4825-48d6-874e-5e47d5ec1595",
   "metadata": {},
   "outputs": [
    {
     "name": "stdout",
     "output_type": "stream",
     "text": [
      "No elements left in the iterator\n"
     ]
    }
   ],
   "source": [
    "try:\n",
    "    print(next(iterator))\n",
    "except StopIteration:\n",
    "    print(\"No elements left in the iterator\")"
   ]
  },
  {
   "cell_type": "markdown",
   "id": "1656df33-8911-4920-bc72-bcc4d5d45ab3",
   "metadata": {},
   "source": [
    "#### Using iterator for string"
   ]
  },
  {
   "cell_type": "code",
   "execution_count": 14,
   "id": "0ae03f12-0dfa-4bdf-b122-fd3bb2bf39ac",
   "metadata": {},
   "outputs": [],
   "source": [
    "my_string = \"Hello_world\"\n",
    "string_iterator = iter(my_string)"
   ]
  },
  {
   "cell_type": "code",
   "execution_count": 15,
   "id": "2560f727-3957-4e95-a98c-b036a5cad557",
   "metadata": {},
   "outputs": [
    {
     "name": "stdout",
     "output_type": "stream",
     "text": [
      "<class 'str_ascii_iterator'>\n"
     ]
    }
   ],
   "source": [
    "print(type(string_iterator))"
   ]
  },
  {
   "cell_type": "code",
   "execution_count": 16,
   "id": "c43b711f-a7f0-405b-af9f-bc89b440394a",
   "metadata": {},
   "outputs": [
    {
     "name": "stdout",
     "output_type": "stream",
     "text": [
      "H\n",
      "e\n"
     ]
    }
   ],
   "source": [
    "print(next(string_iterator))\n",
    "print(next(string_iterator))"
   ]
  }
 ],
 "metadata": {
  "kernelspec": {
   "display_name": "Python 3 (ipykernel)",
   "language": "python",
   "name": "python3"
  },
  "language_info": {
   "codemirror_mode": {
    "name": "ipython",
    "version": 3
   },
   "file_extension": ".py",
   "mimetype": "text/x-python",
   "name": "python",
   "nbconvert_exporter": "python",
   "pygments_lexer": "ipython3",
   "version": "3.12.2"
  }
 },
 "nbformat": 4,
 "nbformat_minor": 5
}
