{
 "cells": [
  {
   "cell_type": "code",
   "execution_count": 1,
   "id": "07bac877-27f5-4617-bb4a-d8ba6e70f402",
   "metadata": {},
   "outputs": [
    {
     "name": "stdout",
     "output_type": "stream",
     "text": [
      "Current working directory is C:\\Users\\SRIDATTA CHARAN\\Desktop\\Python\\File Handling\n"
     ]
    }
   ],
   "source": [
    "# Finding out current working directory\n",
    "import os\n",
    "\n",
    "current_directory = os.getcwd()\n",
    "print(f\"Current working directory is {current_directory}\")"
   ]
  },
  {
   "cell_type": "code",
   "execution_count": 2,
   "id": "55727772-83ea-4a5e-b4e3-3784fba452a2",
   "metadata": {},
   "outputs": [
    {
     "name": "stdout",
     "output_type": "stream",
     "text": [
      "Directory example_directory created\n"
     ]
    }
   ],
   "source": [
    "#Creating a new directory\n",
    "\n",
    "new_directory_name = \"example_directory\"\n",
    "os.mkdir(new_directory_name)\n",
    "print(f\"Directory {new_directory_name} created\")"
   ]
  },
  {
   "cell_type": "code",
   "execution_count": 5,
   "id": "bd4b0e79-7f3d-41b7-94c3-ff5dffae2003",
   "metadata": {},
   "outputs": [
    {
     "name": "stdout",
     "output_type": "stream",
     "text": [
      "['.ipynb_checkpoints', 'example_directory', 'File_operations.ipynb', 'File_paths.ipynb', 'sample.bin', 'sample.txt']\n"
     ]
    }
   ],
   "source": [
    "#Listing files and directories\n",
    "\n",
    "items =os.listdir('.')\n",
    "print(items)"
   ]
  },
  {
   "cell_type": "code",
   "execution_count": 8,
   "id": "c4ee826d-9f6e-4e34-b02a-b67dd57824b0",
   "metadata": {},
   "outputs": [
    {
     "name": "stdout",
     "output_type": "stream",
     "text": [
      "folder\\file.txt\n",
      "C:\\Users\\SRIDATTA CHARAN\\Desktop\\Python\\File Handling\\folder\\file.txt\n"
     ]
    }
   ],
   "source": [
    "# Joining paths\n",
    "\n",
    "dir_name = \"folder\"\n",
    "file_name = \"file.txt\"\n",
    "\n",
    "full_path = os.path.join(dir_name,file_name)\n",
    "curr_path = os.path.join(os.getcwd(),dir_name,file_name)\n",
    "\n",
    "print(full_path)\n",
    "print(curr_path)"
   ]
  },
  {
   "cell_type": "code",
   "execution_count": 9,
   "id": "b7a7a386-3a87-44a3-ac84-38b19d65fb37",
   "metadata": {},
   "outputs": [
    {
     "name": "stdout",
     "output_type": "stream",
     "text": [
      "example_directory exists\n"
     ]
    }
   ],
   "source": [
    "# Checking if a path exists\n",
    "\n",
    "path = \"example_directory\"\n",
    "if os.path.exists(path):\n",
    "    print(f\"{path} exists\")\n",
    "else:\n",
    "    print(f\"{path} doesn't exist\")"
   ]
  },
  {
   "cell_type": "code",
   "execution_count": 10,
   "id": "7561a59c-a81a-4459-80c8-12917c248c27",
   "metadata": {},
   "outputs": [
    {
     "name": "stdout",
     "output_type": "stream",
     "text": [
      "example_directory is a directory\n"
     ]
    }
   ],
   "source": [
    "# Checking if a path is a file or directory\n",
    "\n",
    "path = \"example_directory\"\n",
    "\n",
    "if os.path.isfile(path):\n",
    "    print(f\"{path} is a file\")\n",
    "elif os.path.isdir(path):\n",
    "    print(f\"{path} is a directory\")\n",
    "else:\n",
    "    print(f\"{path} is neither a file nor a directory\")"
   ]
  },
  {
   "cell_type": "code",
   "execution_count": 11,
   "id": "f05d46d9-2356-426e-92db-5b3e545b6dbe",
   "metadata": {},
   "outputs": [
    {
     "name": "stdout",
     "output_type": "stream",
     "text": [
      "C:\\Users\\SRIDATTA CHARAN\\Desktop\\Python\\File Handling\\example_directory\n"
     ]
    }
   ],
   "source": [
    "# Getting the absolute path\n",
    "\n",
    "relative_path = \"example_directory\"\n",
    "absolute_path = os.path.abspath(relative_path)\n",
    "print(absolute_path)"
   ]
  }
 ],
 "metadata": {
  "kernelspec": {
   "display_name": "Python 3 (ipykernel)",
   "language": "python",
   "name": "python3"
  },
  "language_info": {
   "codemirror_mode": {
    "name": "ipython",
    "version": 3
   },
   "file_extension": ".py",
   "mimetype": "text/x-python",
   "name": "python",
   "nbconvert_exporter": "python",
   "pygments_lexer": "ipython3",
   "version": "3.12.2"
  }
 },
 "nbformat": 4,
 "nbformat_minor": 5
}
