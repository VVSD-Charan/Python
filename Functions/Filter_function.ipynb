{
 "cells": [
  {
   "cell_type": "markdown",
   "id": "a01718a5-f24d-4529-85d6-17e352b352a0",
   "metadata": {},
   "source": [
    "# Filter function in python\n",
    "\n",
    "The filter() function in python constructs an iterator from elements of an iterable for which a function returns true. Filter function is used to filter out items from a list or any iterable based on condition."
   ]
  },
  {
   "cell_type": "code",
   "execution_count": 4,
   "id": "5d311515-cf01-4763-90e9-e9c6103f4d9b",
   "metadata": {},
   "outputs": [
    {
     "name": "stdout",
     "output_type": "stream",
     "text": [
      "Even numbers in the list are :  [6, 8, 10, 12]\n"
     ]
    }
   ],
   "source": [
    "# Filtering out even elements from the array\n",
    "\n",
    "is_even = lambda x : x % 2 == 0\n",
    "\n",
    "array = [5,6,7,8,9,10,11,12]\n",
    "print(\"Even numbers in the list are : \",list(filter(is_even,array)))"
   ]
  },
  {
   "cell_type": "code",
   "execution_count": 5,
   "id": "e43a180c-1070-4420-b44e-918bea2d86e1",
   "metadata": {},
   "outputs": [
    {
     "name": "stdout",
     "output_type": "stream",
     "text": [
      "Numbers in array that are even and greater than 5 are :  [8, 10, 34, 82, 64]\n"
     ]
    }
   ],
   "source": [
    "# Filtering elements that are even and greater than or equal to five\n",
    "\n",
    "def is_even_and_greater_than_five(number):\n",
    "    return number >= 5 and number % 2 == 0\n",
    "\n",
    "array = [1,8,2,10,19,34,29,82,64,2,5,1]\n",
    "even_and_greater = list(filter(is_even_and_greater_than_five,array))\n",
    "\n",
    "print(\"Numbers in array that are even and greater than 5 are : \",even_and_greater)"
   ]
  },
  {
   "cell_type": "code",
   "execution_count": 7,
   "id": "ba125b58-4258-42ff-81e9-d896ecf0021f",
   "metadata": {},
   "outputs": [
    {
     "name": "stdout",
     "output_type": "stream",
     "text": [
      "Males in the dictionary are :  [{'name': 'A', 'gender': 'M'}, {'name': 'C', 'gender': 'M'}]\n"
     ]
    }
   ],
   "source": [
    "# Applying filter on an array of dictionaries\n",
    "\n",
    "people = [{\"name\":\"A\",\"gender\":\"M\"},\n",
    "         {\"name\":\"B\",\"gender\":\"F\"},\n",
    "         {\"name\":\"C\",\"gender\":\"M\"}]\n",
    "\n",
    "filter_males = lambda x : x[\"gender\"] == \"M\"\n",
    "\n",
    "filtered_list = list(filter(filter_males,people))\n",
    "print(\"Males in the dictionary are : \",filtered_list)"
   ]
  }
 ],
 "metadata": {
  "kernelspec": {
   "display_name": "Python 3 (ipykernel)",
   "language": "python",
   "name": "python3"
  },
  "language_info": {
   "codemirror_mode": {
    "name": "ipython",
    "version": 3
   },
   "file_extension": ".py",
   "mimetype": "text/x-python",
   "name": "python",
   "nbconvert_exporter": "python",
   "pygments_lexer": "ipython3",
   "version": "3.12.2"
  }
 },
 "nbformat": 4,
 "nbformat_minor": 5
}
