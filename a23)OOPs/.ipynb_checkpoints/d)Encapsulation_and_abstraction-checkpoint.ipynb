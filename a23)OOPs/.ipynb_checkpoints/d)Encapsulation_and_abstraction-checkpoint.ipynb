{
 "cells": [
  {
   "cell_type": "markdown",
   "id": "46fd43db-8299-478f-937e-4dfd1fba9dc6",
   "metadata": {},
   "source": [
    "# Encapsultation\n",
    "\n",
    "It involves binding data and methods that operate on data within the unit."
   ]
  },
  {
   "cell_type": "markdown",
   "id": "8bc52121-92fd-4db9-9da5-ca382e3e52ff",
   "metadata": {},
   "source": [
    "#### Using Public variables"
   ]
  },
  {
   "cell_type": "code",
   "execution_count": 1,
   "id": "825c8b15-dad4-4b15-9ef3-5dfdada0acc0",
   "metadata": {},
   "outputs": [
    {
     "name": "stdout",
     "output_type": "stream",
     "text": [
      "Person name is : Charan\n",
      "Person age is : 22\n"
     ]
    }
   ],
   "source": [
    "# Encapsulation with getter and setter methods\n",
    "# Public , protected and private variables\n",
    "\n",
    "\n",
    "# Using public variables\n",
    "class Person:\n",
    "    def __init__(self,name,age):\n",
    "        self.name = name   # public variable\n",
    "        self.age = age     # public variable\n",
    "\n",
    "person = Person(\"Charan\",22)\n",
    "print(f\"Person name is : {person.name}\")\n",
    "print(f\"Person age is : {person.age}\")"
   ]
  },
  {
   "cell_type": "code",
   "execution_count": 2,
   "id": "6992b2db-90d4-4252-891d-19d67afcba01",
   "metadata": {
    "scrolled": true
   },
   "outputs": [
    {
     "data": {
      "text/plain": [
       "['__class__',\n",
       " '__delattr__',\n",
       " '__dict__',\n",
       " '__dir__',\n",
       " '__doc__',\n",
       " '__eq__',\n",
       " '__format__',\n",
       " '__ge__',\n",
       " '__getattribute__',\n",
       " '__getstate__',\n",
       " '__gt__',\n",
       " '__hash__',\n",
       " '__init__',\n",
       " '__init_subclass__',\n",
       " '__le__',\n",
       " '__lt__',\n",
       " '__module__',\n",
       " '__ne__',\n",
       " '__new__',\n",
       " '__reduce__',\n",
       " '__reduce_ex__',\n",
       " '__repr__',\n",
       " '__setattr__',\n",
       " '__sizeof__',\n",
       " '__str__',\n",
       " '__subclasshook__',\n",
       " '__weakref__',\n",
       " 'age',\n",
       " 'name']"
      ]
     },
     "execution_count": 2,
     "metadata": {},
     "output_type": "execute_result"
    }
   ],
   "source": [
    "dir(person)"
   ]
  },
  {
   "cell_type": "markdown",
   "id": "e0b3dee7-361e-431f-b220-eac70edd64ce",
   "metadata": {},
   "source": [
    "#### Using private variables"
   ]
  },
  {
   "cell_type": "code",
   "execution_count": 3,
   "id": "0a544dfe-53f4-4064-a4cd-499981c6773e",
   "metadata": {},
   "outputs": [],
   "source": [
    "class Person:\n",
    "    def __init__(self,name,age,gender):\n",
    "        self.__name = name  #Private variable\n",
    "        self.__age = age    #Private variable\n",
    "        self.gender = gender #Public variable"
   ]
  },
  {
   "cell_type": "code",
   "execution_count": 4,
   "id": "f6ea8373-f771-46fb-8f8e-6a8ce54037c1",
   "metadata": {},
   "outputs": [],
   "source": [
    "person = Person(\"Charan\",23,'M')"
   ]
  },
  {
   "cell_type": "code",
   "execution_count": 5,
   "id": "6a7de569-2211-4d3d-9da5-d43d156cd0eb",
   "metadata": {},
   "outputs": [
    {
     "data": {
      "text/plain": [
       "['_Person__age',\n",
       " '_Person__name',\n",
       " '__class__',\n",
       " '__delattr__',\n",
       " '__dict__',\n",
       " '__dir__',\n",
       " '__doc__',\n",
       " '__eq__',\n",
       " '__format__',\n",
       " '__ge__',\n",
       " '__getattribute__',\n",
       " '__getstate__',\n",
       " '__gt__',\n",
       " '__hash__',\n",
       " '__init__',\n",
       " '__init_subclass__',\n",
       " '__le__',\n",
       " '__lt__',\n",
       " '__module__',\n",
       " '__ne__',\n",
       " '__new__',\n",
       " '__reduce__',\n",
       " '__reduce_ex__',\n",
       " '__repr__',\n",
       " '__setattr__',\n",
       " '__sizeof__',\n",
       " '__str__',\n",
       " '__subclasshook__',\n",
       " '__weakref__',\n",
       " 'gender']"
      ]
     },
     "execution_count": 5,
     "metadata": {},
     "output_type": "execute_result"
    }
   ],
   "source": [
    "# Private variables name and age will be stored as _Person__name and _Person__age while public variable will be stored as it is\n",
    "\n",
    "dir(person)"
   ]
  },
  {
   "cell_type": "markdown",
   "id": "c26ab4d2-8a6b-4451-9456-3fe8c792b84f",
   "metadata": {},
   "source": [
    "#### Protected"
   ]
  },
  {
   "cell_type": "code",
   "execution_count": 6,
   "id": "508bde34-0aef-4aba-b7ab-f9ee9327df80",
   "metadata": {},
   "outputs": [
    {
     "name": "stdout",
     "output_type": "stream",
     "text": [
      "Charan\n",
      "23\n"
     ]
    }
   ],
   "source": [
    "#Base class\n",
    "class Person:\n",
    "    def __init__(self,name,age,gender):\n",
    "        self._name = name  #Protected variable\n",
    "        self._age = age    #Protected variables\n",
    "        self.gender = gender  #Public variable\n",
    "\n",
    "# Derived class\n",
    "class Employee(Person):\n",
    "    def __init__(self,name,age,gender):\n",
    "        super().__init__(name,age,gender)\n",
    "\n",
    "employee = Employee(\"Charan\",23,'M')\n",
    "\n",
    "# Since protected variables can be accessed from subclasses, we will not get an error\n",
    "print(employee._name)\n",
    "print(employee._age)"
   ]
  },
  {
   "cell_type": "code",
   "execution_count": 7,
   "id": "bfe13cc2-27b1-4860-a793-7da581993373",
   "metadata": {},
   "outputs": [
    {
     "data": {
      "text/plain": [
       "['__class__',\n",
       " '__delattr__',\n",
       " '__dict__',\n",
       " '__dir__',\n",
       " '__doc__',\n",
       " '__eq__',\n",
       " '__format__',\n",
       " '__ge__',\n",
       " '__getattribute__',\n",
       " '__getstate__',\n",
       " '__gt__',\n",
       " '__hash__',\n",
       " '__init__',\n",
       " '__init_subclass__',\n",
       " '__le__',\n",
       " '__lt__',\n",
       " '__module__',\n",
       " '__ne__',\n",
       " '__new__',\n",
       " '__reduce__',\n",
       " '__reduce_ex__',\n",
       " '__repr__',\n",
       " '__setattr__',\n",
       " '__sizeof__',\n",
       " '__str__',\n",
       " '__subclasshook__',\n",
       " '__weakref__',\n",
       " '_age',\n",
       " '_name',\n",
       " 'gender']"
      ]
     },
     "execution_count": 7,
     "metadata": {},
     "output_type": "execute_result"
    }
   ],
   "source": [
    "dir(employee)"
   ]
  },
  {
   "cell_type": "markdown",
   "id": "29d0ac44-6e49-4df4-bdf0-84eaabce297f",
   "metadata": {},
   "source": [
    "#### With getter and setters"
   ]
  },
  {
   "cell_type": "code",
   "execution_count": 8,
   "id": "d60fbcda-e918-4c60-a193-c5ceb9afc925",
   "metadata": {},
   "outputs": [
    {
     "name": "stdout",
     "output_type": "stream",
     "text": [
      "Values initially : \n",
      "Charan\n",
      "23\n",
      "\n",
      "Values after using setters : \n",
      "VVSD Charan\n",
      "22\n"
     ]
    }
   ],
   "source": [
    "class Person:\n",
    "    def __init__(self,name,age):\n",
    "        self.__name = name\n",
    "        self.__age = age\n",
    "    def get_name(self):\n",
    "        return self.__name\n",
    "    def get_age(self):\n",
    "        return self.__age\n",
    "    def set_name(self,name):\n",
    "        self.__name = name\n",
    "    def set_age(self,age):\n",
    "        self.__age = age\n",
    "\n",
    "charan = Person(\"Charan\",23)\n",
    "\n",
    "print(\"Values initially : \")\n",
    "print(charan.get_name())\n",
    "print(charan.get_age())\n",
    "\n",
    "#Changing values using setters\n",
    "charan.set_name(\"VVSD Charan\")\n",
    "charan.set_age(22)\n",
    "\n",
    "print(\"\\nValues after using setters : \")\n",
    "print(charan.get_name())\n",
    "print(charan.get_age())"
   ]
  },
  {
   "cell_type": "code",
   "execution_count": 9,
   "id": "d938a342-3a95-4839-adec-9ccf00f03350",
   "metadata": {},
   "outputs": [
    {
     "data": {
      "text/plain": [
       "['_Person__age',\n",
       " '_Person__name',\n",
       " '__class__',\n",
       " '__delattr__',\n",
       " '__dict__',\n",
       " '__dir__',\n",
       " '__doc__',\n",
       " '__eq__',\n",
       " '__format__',\n",
       " '__ge__',\n",
       " '__getattribute__',\n",
       " '__getstate__',\n",
       " '__gt__',\n",
       " '__hash__',\n",
       " '__init__',\n",
       " '__init_subclass__',\n",
       " '__le__',\n",
       " '__lt__',\n",
       " '__module__',\n",
       " '__ne__',\n",
       " '__new__',\n",
       " '__reduce__',\n",
       " '__reduce_ex__',\n",
       " '__repr__',\n",
       " '__setattr__',\n",
       " '__sizeof__',\n",
       " '__str__',\n",
       " '__subclasshook__',\n",
       " '__weakref__',\n",
       " 'get_age',\n",
       " 'get_name',\n",
       " 'set_age',\n",
       " 'set_name']"
      ]
     },
     "execution_count": 9,
     "metadata": {},
     "output_type": "execute_result"
    }
   ],
   "source": [
    "dir(charan)"
   ]
  },
  {
   "cell_type": "markdown",
   "id": "29fd8b32-8aa2-44fa-bf3e-eefc714df972",
   "metadata": {},
   "source": [
    "# Abstraction\n",
    "\n",
    "It involves hiding complex implementation details and exposing only necessary features."
   ]
  },
  {
   "cell_type": "code",
   "execution_count": 10,
   "id": "ddda78d6-6977-4b70-9678-9420ca17bcdc",
   "metadata": {},
   "outputs": [
    {
     "name": "stdout",
     "output_type": "stream",
     "text": [
      "Bike has 2 wheels\n"
     ]
    }
   ],
   "source": [
    "from abc import ABC,abstractmethod\n",
    "\n",
    "#Abstract base class\n",
    "class Vehicle(ABC):\n",
    "    def driving(elf):\n",
    "        print(\"This vehicle can be driven\")\n",
    "    @abstractmethod\n",
    "    def wheels(self):\n",
    "        pass\n",
    "\n",
    "# Derived class\n",
    "# Derived class must implement abstract methods of parent class\n",
    "class Bike(Vehicle):\n",
    "    def wheels(self):\n",
    "        print(\"Bike has 2 wheels\")\n",
    "\n",
    "bike = Bike()\n",
    "bike.wheels()"
   ]
  },
  {
   "cell_type": "code",
   "execution_count": 11,
   "id": "bdec7a3f-ce6f-4952-9bc6-dc8cb4edb46f",
   "metadata": {},
   "outputs": [
    {
     "ename": "TypeError",
     "evalue": "Can't instantiate abstract class Car without an implementation for abstract method 'wheels'",
     "output_type": "error",
     "traceback": [
      "\u001b[1;31m---------------------------------------------------------------------------\u001b[0m",
      "\u001b[1;31mTypeError\u001b[0m                                 Traceback (most recent call last)",
      "Cell \u001b[1;32mIn[11], line 7\u001b[0m\n\u001b[0;32m      4\u001b[0m     \u001b[38;5;28;01mdef\u001b[39;00m \u001b[38;5;21mmirrors\u001b[39m(\u001b[38;5;28mself\u001b[39m):\n\u001b[0;32m      5\u001b[0m         \u001b[38;5;28mprint\u001b[39m(\u001b[38;5;124m\"\u001b[39m\u001b[38;5;124mCar has 4 mirrors\u001b[39m\u001b[38;5;124m\"\u001b[39m)\n\u001b[1;32m----> 7\u001b[0m car \u001b[38;5;241m=\u001b[39m \u001b[43mCar\u001b[49m\u001b[43m(\u001b[49m\u001b[43m)\u001b[49m\n",
      "\u001b[1;31mTypeError\u001b[0m: Can't instantiate abstract class Car without an implementation for abstract method 'wheels'"
     ]
    }
   ],
   "source": [
    "# ERROR\n",
    "# If we donot implement abstract method of base class in derived class,we get an error\n",
    "class Car(Vehicle):\n",
    "    def mirrors(self):\n",
    "        print(\"Car has 4 mirrors\")\n",
    "\n",
    "car = Car()"
   ]
  }
 ],
 "metadata": {
  "kernelspec": {
   "display_name": "Python 3 (ipykernel)",
   "language": "python",
   "name": "python3"
  },
  "language_info": {
   "codemirror_mode": {
    "name": "ipython",
    "version": 3
   },
   "file_extension": ".py",
   "mimetype": "text/x-python",
   "name": "python",
   "nbconvert_exporter": "python",
   "pygments_lexer": "ipython3",
   "version": "3.12.2"
  }
 },
 "nbformat": 4,
 "nbformat_minor": 5
}
