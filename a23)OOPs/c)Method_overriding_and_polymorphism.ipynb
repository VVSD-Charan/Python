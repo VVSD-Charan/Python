{
 "cells": [
  {
   "cell_type": "markdown",
   "id": "bd16980e-a2aa-4b15-93b7-08c526241e35",
   "metadata": {},
   "source": [
    "# Method over-riding"
   ]
  },
  {
   "cell_type": "code",
   "execution_count": 1,
   "id": "d3a1668d-0e0f-4754-94a9-e62caa5f7044",
   "metadata": {},
   "outputs": [],
   "source": [
    "# Method over-riding\n",
    "# Base class\n",
    "\n",
    "class Animal:\n",
    "    def speak(self):\n",
    "        return \"Sound of the animal\"\n",
    "\n",
    "# Derived class\n",
    "class Dog(Animal):\n",
    "    def speak(self):\n",
    "        return \"Woof!\"\n",
    "\n",
    "# Derived class\n",
    "class Cat(Animal):\n",
    "    def speak(self):\n",
    "        return \"Meow!\""
   ]
  },
  {
   "cell_type": "code",
   "execution_count": 2,
   "id": "9d86f092-294a-4796-a7af-a51faf2d9ade",
   "metadata": {},
   "outputs": [
    {
     "data": {
      "text/plain": [
       "'Woof!'"
      ]
     },
     "execution_count": 2,
     "metadata": {},
     "output_type": "execute_result"
    }
   ],
   "source": [
    "dog = Dog()\n",
    "dog.speak()"
   ]
  },
  {
   "cell_type": "code",
   "execution_count": 3,
   "id": "e662562d-5cfe-4c99-b71f-a5de29294c67",
   "metadata": {},
   "outputs": [
    {
     "data": {
      "text/plain": [
       "'Meow!'"
      ]
     },
     "execution_count": 3,
     "metadata": {},
     "output_type": "execute_result"
    }
   ],
   "source": [
    "cat = Cat()\n",
    "cat.speak()"
   ]
  },
  {
   "cell_type": "markdown",
   "id": "3291fe66-3e6c-41ef-b0f5-0f40bb890635",
   "metadata": {},
   "source": [
    "# Polymorphism"
   ]
  },
  {
   "cell_type": "code",
   "execution_count": 8,
   "id": "4c14dab3-d11a-41b7-9803-832589523a19",
   "metadata": {},
   "outputs": [],
   "source": [
    "from math import pi\n",
    "\n",
    "# Base class\n",
    "class Shape:\n",
    "    def area(self):\n",
    "        return \"The are of the figure\"\n",
    "\n",
    "# Derived class\n",
    "class Rectangle(Shape):\n",
    "    def __init__(self,length,breadth):\n",
    "        self.length = length\n",
    "        self.breadth = breadth\n",
    "    def area(self):\n",
    "        return f\"Area of rectangle is {self.breadth*self.length}\"\n",
    "\n",
    "# Derived class\n",
    "class Circle(Shape):\n",
    "    def __init__(self,radius):\n",
    "        self.radius = radius\n",
    "    def area(self):\n",
    "        return f\"Area of circle is {pi*self.radius*self.radius}\"\n",
    "\n",
    "# Function to demonstrate polymorphism\n",
    "def print_area(obj):\n",
    "    print(obj.area())"
   ]
  },
  {
   "cell_type": "code",
   "execution_count": 6,
   "id": "a9ee3141-c68e-4bab-8604-2104e8a1d38a",
   "metadata": {},
   "outputs": [
    {
     "name": "stdout",
     "output_type": "stream",
     "text": [
      "Area of rectangle is 20\n"
     ]
    }
   ],
   "source": [
    "rectangle = Rectangle(4,5)\n",
    "print_area(rectangle)"
   ]
  },
  {
   "cell_type": "code",
   "execution_count": 9,
   "id": "04abfa9b-2f52-45f1-a6e3-105634ebcdab",
   "metadata": {},
   "outputs": [
    {
     "name": "stdout",
     "output_type": "stream",
     "text": [
      "Area of circle is 78.53981633974483\n"
     ]
    }
   ],
   "source": [
    "circle = Circle(5)\n",
    "print_area(circle)"
   ]
  },
  {
   "cell_type": "markdown",
   "id": "2708d000-f34b-461c-9078-285a43b90e91",
   "metadata": {},
   "source": [
    "### Polymorphism with abstract base class (abc)"
   ]
  },
  {
   "cell_type": "code",
   "execution_count": 10,
   "id": "84349f98-fb0d-41e4-9c10-84acc66dc24c",
   "metadata": {},
   "outputs": [],
   "source": [
    "from abc import ABC,abstractmethod\n",
    "\n",
    "#Defining an abstract class\n",
    "class Vehicle(ABC):\n",
    "    @abstractmethod\n",
    "    def start_engine(self):\n",
    "        pass\n",
    "\n",
    "#Derived class 1\n",
    "class Car(Vehicle):\n",
    "    def start_engine(self):\n",
    "        return \"Car engine started\"\n",
    "\n",
    "#Derived class 2\n",
    "class MotorCycle(Vehicle):\n",
    "    def start_engine(self):\n",
    "        return \"Motorcycle engine starts\""
   ]
  },
  {
   "cell_type": "code",
   "execution_count": 12,
   "id": "a2a65150-5071-43e7-9f5b-e5a1429765fd",
   "metadata": {},
   "outputs": [
    {
     "name": "stdout",
     "output_type": "stream",
     "text": [
      "Car engine started\n"
     ]
    }
   ],
   "source": [
    "car = Car()\n",
    "print(car.start_engine())"
   ]
  },
  {
   "cell_type": "code",
   "execution_count": 13,
   "id": "fd8a691a-deda-4b1f-a8e6-dd51aafe5809",
   "metadata": {},
   "outputs": [
    {
     "name": "stdout",
     "output_type": "stream",
     "text": [
      "Motorcycle engine starts\n"
     ]
    }
   ],
   "source": [
    "motorcycle = MotorCycle()\n",
    "print(motorcycle.start_engine())"
   ]
  }
 ],
 "metadata": {
  "kernelspec": {
   "display_name": "Python 3 (ipykernel)",
   "language": "python",
   "name": "python3"
  },
  "language_info": {
   "codemirror_mode": {
    "name": "ipython",
    "version": 3
   },
   "file_extension": ".py",
   "mimetype": "text/x-python",
   "name": "python",
   "nbconvert_exporter": "python",
   "pygments_lexer": "ipython3",
   "version": "3.12.2"
  }
 },
 "nbformat": 4,
 "nbformat_minor": 5
}
