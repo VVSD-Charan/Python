{
 "cells": [
  {
   "cell_type": "markdown",
   "id": "657f0e5f-bad7-461e-aa49-c2965abe96c2",
   "metadata": {},
   "source": [
    "# Linear search"
   ]
  },
  {
   "cell_type": "code",
   "execution_count": 1,
   "id": "ed1f980d-a050-47ab-9279-5403e855713a",
   "metadata": {},
   "outputs": [],
   "source": [
    "def linear_search(array,target):\n",
    "    \"\"\"\n",
    "    This function returns the index of target element if it is present in array.\n",
    "    If target element is not in array, this function returns -1\n",
    "\n",
    "    args:\n",
    "        array -> A list of elements\n",
    "        target -> Target element\n",
    "\n",
    "    returns:\n",
    "        index of the target if it is present in the array\n",
    "    \"\"\"\n",
    "    for i in range(len(array)):\n",
    "        if array[i] == target:\n",
    "            return i\n",
    "    return -1"
   ]
  },
  {
   "cell_type": "code",
   "execution_count": 2,
   "id": "e65c1604-ab36-42ae-8c4c-cbccc0c66023",
   "metadata": {},
   "outputs": [],
   "source": [
    "array = [10,34,68,23,4,545,32]"
   ]
  },
  {
   "cell_type": "code",
   "execution_count": 3,
   "id": "07075d49-c51c-475c-98d4-dbb35cf6483d",
   "metadata": {},
   "outputs": [
    {
     "name": "stdout",
     "output_type": "stream",
     "text": [
      "5\n"
     ]
    }
   ],
   "source": [
    "# If number is present in the array we get index\n",
    "\n",
    "print(linear_search(array,545))"
   ]
  },
  {
   "cell_type": "code",
   "execution_count": 4,
   "id": "4cc8732f-27bd-4fcc-97cd-33b3f2b5a2b1",
   "metadata": {},
   "outputs": [
    {
     "name": "stdout",
     "output_type": "stream",
     "text": [
      "-1\n"
     ]
    }
   ],
   "source": [
    "# If number is not in array, we get -1\n",
    "\n",
    "print(linear_search(array,70))"
   ]
  },
  {
   "cell_type": "markdown",
   "id": "66c00221-6a88-4b0a-8bc1-95123a9ade3c",
   "metadata": {},
   "source": [
    "# Binary Search"
   ]
  },
  {
   "cell_type": "code",
   "execution_count": 5,
   "id": "2e39117c-6751-4fad-91e0-1362bf85dece",
   "metadata": {},
   "outputs": [],
   "source": [
    "def binary_search(array,target):\n",
    "    start = 0\n",
    "    end = len(array)-1\n",
    "    while start <= end:\n",
    "        mid = (start + end)//2\n",
    "        if array[mid] == target:\n",
    "            return mid\n",
    "        elif array[mid] > target:\n",
    "            end = mid-1\n",
    "        else:\n",
    "            start = mid + 1\n",
    "    return -1"
   ]
  },
  {
   "cell_type": "code",
   "execution_count": 6,
   "id": "0a3e65d3-68a1-48e0-b033-a19b8c17ba9b",
   "metadata": {},
   "outputs": [],
   "source": [
    "sorted_array = [10,23,35,46,49,50,70,87,92]"
   ]
  },
  {
   "cell_type": "code",
   "execution_count": 7,
   "id": "82b4c92e-c95f-407f-9634-4117f481460b",
   "metadata": {},
   "outputs": [
    {
     "name": "stdout",
     "output_type": "stream",
     "text": [
      "4\n"
     ]
    }
   ],
   "source": [
    "# Searching existing element\n",
    "\n",
    "print(binary_search(sorted_array,49))"
   ]
  },
  {
   "cell_type": "code",
   "execution_count": 8,
   "id": "12d11511-9f24-4ee3-b334-7407196c4167",
   "metadata": {},
   "outputs": [
    {
     "name": "stdout",
     "output_type": "stream",
     "text": [
      "3\n"
     ]
    }
   ],
   "source": [
    "print(binary_search(sorted_array,46))"
   ]
  },
  {
   "cell_type": "code",
   "execution_count": 9,
   "id": "8dbadc5e-0bc3-4e96-8d57-7c0646596b82",
   "metadata": {},
   "outputs": [
    {
     "name": "stdout",
     "output_type": "stream",
     "text": [
      "8\n"
     ]
    }
   ],
   "source": [
    "# Searching last element\n",
    "\n",
    "print(binary_search(sorted_array,92))"
   ]
  },
  {
   "cell_type": "code",
   "execution_count": 10,
   "id": "ddd395cb-61df-4c33-b81b-89516d8547c2",
   "metadata": {},
   "outputs": [
    {
     "name": "stdout",
     "output_type": "stream",
     "text": [
      "0\n"
     ]
    }
   ],
   "source": [
    "# Searching for first element\n",
    "\n",
    "print(binary_search(sorted_array,10))"
   ]
  },
  {
   "cell_type": "code",
   "execution_count": 11,
   "id": "f2bb66b9-3a68-472a-981b-f8ed50cfcc30",
   "metadata": {},
   "outputs": [
    {
     "name": "stdout",
     "output_type": "stream",
     "text": [
      "-1\n"
     ]
    }
   ],
   "source": [
    "# Searching for an element that is not in array\n",
    "\n",
    "print(binary_search(sorted_array,52))"
   ]
  }
 ],
 "metadata": {
  "kernelspec": {
   "display_name": "Python 3 (ipykernel)",
   "language": "python",
   "name": "python3"
  },
  "language_info": {
   "codemirror_mode": {
    "name": "ipython",
    "version": 3
   },
   "file_extension": ".py",
   "mimetype": "text/x-python",
   "name": "python",
   "nbconvert_exporter": "python",
   "pygments_lexer": "ipython3",
   "version": "3.12.2"
  }
 },
 "nbformat": 4,
 "nbformat_minor": 5
}
