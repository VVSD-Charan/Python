{
 "cells": [
  {
   "cell_type": "markdown",
   "id": "4fdf3165-67f7-4cc0-944e-59ccc4ddc9de",
   "metadata": {},
   "source": [
    "# Map function in python\n",
    "\n",
    "The map() function applies to a given function to all the items in an input list or iterable and returns a map object. Map function is used to transform data in a list comprehensively."
   ]
  },
  {
   "cell_type": "code",
   "execution_count": 3,
   "id": "9ba3fafa-1d58-42b1-b776-4b5bd804192f",
   "metadata": {},
   "outputs": [
    {
     "name": "stdout",
     "output_type": "stream",
     "text": [
      "Square of 10 is :  100\n",
      "Square of 12 is :  144\n"
     ]
    }
   ],
   "source": [
    "# Calling function for each number individually\n",
    "\n",
    "def square(x):\n",
    "    return x*x\n",
    "\n",
    "print(\"Square of 10 is : \",square(10))\n",
    "print(\"Square of 12 is : \",square(12))"
   ]
  },
  {
   "cell_type": "code",
   "execution_count": 5,
   "id": "741ee049-fcb6-4fb8-915f-63751be06cf8",
   "metadata": {},
   "outputs": [
    {
     "data": {
      "text/plain": [
       "[1, 4, 9, 16, 25, 36, 49, 64]"
      ]
     },
     "execution_count": 5,
     "metadata": {},
     "output_type": "execute_result"
    }
   ],
   "source": [
    "# For an array of elements\n",
    "\n",
    "array = [1,2,3,4,5,6,7,8]\n",
    "list(map(square,array))"
   ]
  },
  {
   "cell_type": "code",
   "execution_count": 6,
   "id": "f69a1134-a852-48f9-9950-923b7b2203b1",
   "metadata": {},
   "outputs": [
    {
     "data": {
      "text/plain": [
       "[1, 8, 27, 64, 125, 216, 343, 512]"
      ]
     },
     "execution_count": 6,
     "metadata": {},
     "output_type": "execute_result"
    }
   ],
   "source": [
    "# Lamda function with map\n",
    "\n",
    "cube = lambda x: x**3 \n",
    "list(map(cube,array))"
   ]
  },
  {
   "cell_type": "markdown",
   "id": "63f35b49-2199-4eed-8101-37483f72636e",
   "metadata": {},
   "source": [
    "### Mapping multiple iterables"
   ]
  },
  {
   "cell_type": "code",
   "execution_count": 9,
   "id": "0e63e50d-2622-4fdb-818a-14c266d8094d",
   "metadata": {},
   "outputs": [
    {
     "name": "stdout",
     "output_type": "stream",
     "text": [
      "[5, 7, 9]\n"
     ]
    }
   ],
   "source": [
    "# Adding corresponding elements of two arrays\n",
    "\n",
    "numbers1 = [1,2,3]\n",
    "numbers2 = [4,5,6]\n",
    "\n",
    "add_numbers = lambda x,y : x + y\n",
    "\n",
    "added_numbers = list(map(add_numbers,numbers1,numbers2))\n",
    "print(added_numbers)"
   ]
  },
  {
   "cell_type": "code",
   "execution_count": 10,
   "id": "6cad3f50-84bc-4740-afb4-d88fa15016cd",
   "metadata": {},
   "outputs": [
    {
     "name": "stdout",
     "output_type": "stream",
     "text": [
      "[164, 14, 241, 264, 209]\n"
     ]
    }
   ],
   "source": [
    "# Converting a list of strings to integers\n",
    "\n",
    "array = [\"164\",\"14\",\"241\",\"264\",\"209\"]\n",
    "integer_array = list(map(int,array))\n",
    "\n",
    "print(integer_array)"
   ]
  }
 ],
 "metadata": {
  "kernelspec": {
   "display_name": "Python 3 (ipykernel)",
   "language": "python",
   "name": "python3"
  },
  "language_info": {
   "codemirror_mode": {
    "name": "ipython",
    "version": 3
   },
   "file_extension": ".py",
   "mimetype": "text/x-python",
   "name": "python",
   "nbconvert_exporter": "python",
   "pygments_lexer": "ipython3",
   "version": "3.12.2"
  }
 },
 "nbformat": 4,
 "nbformat_minor": 5
}
