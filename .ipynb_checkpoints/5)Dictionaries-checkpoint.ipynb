{
 "cells": [
  {
   "cell_type": "markdown",
   "id": "d5007369-26f1-4a11-a332-07082b7751e1",
   "metadata": {},
   "source": [
    "# Dictionaries\n",
    "\n",
    "Dictionaries are unordered collections of items. They store data in key-value pairs. Keys must be unique and immutable (strings,numbers,tuples),while values can be of any type."
   ]
  },
  {
   "cell_type": "code",
   "execution_count": 1,
   "id": "229e12bc-7c80-4709-ad58-9c48b8a89167",
   "metadata": {},
   "outputs": [
    {
     "name": "stdout",
     "output_type": "stream",
     "text": [
      "<class 'dict'>\n"
     ]
    }
   ],
   "source": [
    "empty_dict = {}\n",
    "print(type(empty_dict))"
   ]
  },
  {
   "cell_type": "code",
   "execution_count": 2,
   "id": "6e802836-0037-4b2c-9ac8-ad3ba6cefc59",
   "metadata": {},
   "outputs": [
    {
     "name": "stdout",
     "output_type": "stream",
     "text": [
      "<class 'dict'>\n"
     ]
    }
   ],
   "source": [
    "empty_dict = dict()\n",
    "print(type(empty_dict))"
   ]
  },
  {
   "cell_type": "code",
   "execution_count": 3,
   "id": "84c8f026-b383-44f4-b191-b30f6d70aa39",
   "metadata": {},
   "outputs": [
    {
     "name": "stdout",
     "output_type": "stream",
     "text": [
      "{'name': 'Charan', 'age': 22, 'location': 'Hyderabad'}\n",
      "<class 'dict'>\n"
     ]
    }
   ],
   "source": [
    "student = {\"name\":\"Charan\",\"age\":22,\"location\":\"Hyderabad\"}\n",
    "print(student)\n",
    "print(type(student))"
   ]
  },
  {
   "cell_type": "code",
   "execution_count": 4,
   "id": "3ee862d7-7e8f-43b8-9913-89c0a66b9fda",
   "metadata": {},
   "outputs": [
    {
     "name": "stdout",
     "output_type": "stream",
     "text": [
      "{'name': 'VVSD Charan', 'age': 22}\n"
     ]
    }
   ],
   "source": [
    "# Duplicate keys will be eliminated. In case of duplicate keys, only last key-value pair will be stored\n",
    "\n",
    "student = {\"name\":\"Charan\",\"age\":22,\"name\":\"VVSD Charan\"}\n",
    "print(student)"
   ]
  },
  {
   "cell_type": "markdown",
   "id": "44442be8-88e4-4dc9-b8df-0d39fb3c4e0e",
   "metadata": {},
   "source": [
    "### Accessing elements in dictionaries"
   ]
  },
  {
   "cell_type": "code",
   "execution_count": 5,
   "id": "fcb16fe8-9bf9-4815-bfcd-02b0ddd77b74",
   "metadata": {},
   "outputs": [
    {
     "name": "stdout",
     "output_type": "stream",
     "text": [
      "22\n",
      "Charan\n"
     ]
    }
   ],
   "source": [
    "student = {\"name\":\"Charan\",\"age\":22,\"branch\":\"CSE\"}\n",
    "\n",
    "print(student[\"age\"])\n",
    "print(student[\"name\"])"
   ]
  },
  {
   "cell_type": "code",
   "execution_count": 6,
   "id": "57304cb0-cc44-4c4b-bf84-329838771843",
   "metadata": {},
   "outputs": [
    {
     "name": "stdout",
     "output_type": "stream",
     "text": [
      "Charan\n",
      "22\n"
     ]
    }
   ],
   "source": [
    "# Using get mthod\n",
    "\n",
    "print(student.get(\"name\"))\n",
    "print(student.get(\"age\"))"
   ]
  },
  {
   "cell_type": "code",
   "execution_count": 7,
   "id": "3618c3fa-676f-4859-aec7-47498e380908",
   "metadata": {},
   "outputs": [
    {
     "name": "stdout",
     "output_type": "stream",
     "text": [
      "None\n",
      "No such key present\n"
     ]
    }
   ],
   "source": [
    "# In case key is not present, we can give default value as well\n",
    "\n",
    "print(student.get(\"grade\"))\n",
    "print(student.get(\"grade\",\"No such key present\"))"
   ]
  },
  {
   "cell_type": "markdown",
   "id": "dbae2efb-90b3-44e7-b6ab-5904b08013aa",
   "metadata": {},
   "source": [
    "### Modifying elements in dictionaries\n",
    "\n",
    "Dictionaires are mutable but keys must be unique at all times"
   ]
  },
  {
   "cell_type": "code",
   "execution_count": 8,
   "id": "c33268e4-3656-4735-ae83-83a26d6057a5",
   "metadata": {},
   "outputs": [
    {
     "name": "stdout",
     "output_type": "stream",
     "text": [
      "Before adding location :  {'name': 'Charan', 'age': 22, 'branch': 'CSE'}\n",
      "After adding location :  {'name': 'Charan', 'age': 22, 'branch': 'CSE', 'location': 'Hyderabad'}\n"
     ]
    }
   ],
   "source": [
    "# Adding a new key-value pair\n",
    "\n",
    "student = {\"name\":\"Charan\",\"age\":22,\"branch\":\"CSE\"}\n",
    "print(\"Before adding location : \",student)\n",
    "\n",
    "student[\"location\"] = \"Hyderabad\"\n",
    "print(\"After adding location : \",student)"
   ]
  },
  {
   "cell_type": "code",
   "execution_count": 9,
   "id": "71267c65-e983-43d9-bb48-4e84081c8843",
   "metadata": {},
   "outputs": [
    {
     "name": "stdout",
     "output_type": "stream",
     "text": [
      "Before updating age :  {'name': 'Charan', 'age': 22, 'branch': 'CSE', 'location': 'Hyderabad'}\n",
      "After updating age :  {'name': 'Charan', 'age': 23, 'branch': 'CSE', 'location': 'Hyderabad'}\n"
     ]
    }
   ],
   "source": [
    "# Updating value of the key\n",
    "\n",
    "print(\"Before updating age : \",student)\n",
    "student[\"age\"] = 23\n",
    "print(\"After updating age : \",student)"
   ]
  },
  {
   "cell_type": "code",
   "execution_count": 10,
   "id": "24a0261c-db62-4099-b89e-39f9351ee53c",
   "metadata": {},
   "outputs": [
    {
     "name": "stdout",
     "output_type": "stream",
     "text": [
      "Before deleting location :  {'name': 'Charan', 'age': 23, 'branch': 'CSE', 'location': 'Hyderabad'}\n",
      "After deleting location :  {'name': 'Charan', 'age': 23, 'branch': 'CSE'}\n"
     ]
    }
   ],
   "source": [
    "# Deleting key-value pair\n",
    "\n",
    "print(\"Before deleting location : \",student)\n",
    "\n",
    "del student[\"location\"]\n",
    "print(\"After deleting location : \",student)"
   ]
  },
  {
   "cell_type": "markdown",
   "id": "034c6e4c-9d93-4ab6-b587-655bd0af4734",
   "metadata": {},
   "source": [
    "### Dictionary methods"
   ]
  },
  {
   "cell_type": "code",
   "execution_count": 11,
   "id": "716f6603-66f3-47b3-b941-74ab006cc201",
   "metadata": {},
   "outputs": [
    {
     "name": "stdout",
     "output_type": "stream",
     "text": [
      "dict_keys(['name', 'age', 'branch'])\n"
     ]
    }
   ],
   "source": [
    "# Obtaining all keys of the dictionary\n",
    "\n",
    "all_keys = student.keys()\n",
    "print(all_keys)"
   ]
  },
  {
   "cell_type": "code",
   "execution_count": 12,
   "id": "1bb18ec0-5caa-457e-bab3-a0e0ef7a5e60",
   "metadata": {},
   "outputs": [
    {
     "name": "stdout",
     "output_type": "stream",
     "text": [
      "dict_values(['Charan', 23, 'CSE'])\n"
     ]
    }
   ],
   "source": [
    "# Obtaining all values of the dictionary\n",
    "\n",
    "all_values = student.values()\n",
    "print(all_values)"
   ]
  },
  {
   "cell_type": "code",
   "execution_count": 13,
   "id": "56583d45-d6be-4c07-be51-69c1a19a5613",
   "metadata": {},
   "outputs": [
    {
     "name": "stdout",
     "output_type": "stream",
     "text": [
      "dict_items([('name', 'Charan'), ('age', 23), ('branch', 'CSE')])\n"
     ]
    }
   ],
   "source": [
    "# Obtaining all key-value pairs\n",
    "\n",
    "all_pairs = student.items()\n",
    "print(all_pairs)"
   ]
  },
  {
   "cell_type": "markdown",
   "id": "27cf9ee8-446a-4923-b125-3c654f796e9a",
   "metadata": {},
   "source": [
    "### Creating copies of dictionaries"
   ]
  },
  {
   "cell_type": "code",
   "execution_count": 14,
   "id": "5a7077bf-2108-4eca-b0b2-4cae754d8293",
   "metadata": {},
   "outputs": [
    {
     "name": "stdout",
     "output_type": "stream",
     "text": [
      "Student dictionary initially :  {'name': 'Charan', 'age': 23, 'branch': 'CSE'}\n",
      "Student copy dictionary initially :  {'name': 'Charan', 'age': 23, 'branch': 'CSE'}\n",
      "\n",
      "Student dictionary after change :  {'name': 'Charan', 'age': 22, 'branch': 'CSE'}\n",
      "Student copy dictionary without change :  {'name': 'Charan', 'age': 22, 'branch': 'CSE'}\n"
     ]
    }
   ],
   "source": [
    "# Shallow copy of dictionary\n",
    "# When we perform shallow copy, change in key-value pair of one dictionary will be reflected in second dictionary too\n",
    "\n",
    "student_copy = student\n",
    "print(\"Student dictionary initially : \",student)\n",
    "print(\"Student copy dictionary initially : \",student_copy)\n",
    "\n",
    "student[\"age\"] = 22\n",
    "\n",
    "print(\"\\nStudent dictionary after change : \",student)\n",
    "print(\"Student copy dictionary without change : \",student_copy)"
   ]
  },
  {
   "cell_type": "code",
   "execution_count": 15,
   "id": "e6e4ac40-8765-4cef-8715-330919ab425b",
   "metadata": {},
   "outputs": [
    {
     "name": "stdout",
     "output_type": "stream",
     "text": [
      "Student dictionary before intially :  {'name': 'Charan', 'age': 22, 'branch': 'CSE'}\n",
      "Student copy dictionary initially :  {'name': 'Charan', 'age': 22, 'branch': 'CSE'}\n",
      "\n",
      "Student dictionary after change :  {'name': 'CHARAN', 'age': 22, 'branch': 'CSE'}\n",
      "Student copy dictionary without change :  {'name': 'Charan', 'age': 22, 'branch': 'CSE'}\n"
     ]
    }
   ],
   "source": [
    "# Deep copy of dictionary\n",
    "# In this case, change in one dictionary will not be reflected in other\n",
    "\n",
    "student_copy = student.copy()\n",
    "print(\"Student dictionary before intially : \",student)\n",
    "print(\"Student copy dictionary initially : \",student_copy)\n",
    "\n",
    "student[\"name\"] = \"CHARAN\"\n",
    "\n",
    "print(\"\\nStudent dictionary after change : \",student)\n",
    "print(\"Student copy dictionary without change : \",student_copy)"
   ]
  },
  {
   "cell_type": "markdown",
   "id": "20224bb0-0056-4f4a-87a8-393110c0b904",
   "metadata": {},
   "source": [
    "### Iterating over the keys of dictionary"
   ]
  },
  {
   "cell_type": "code",
   "execution_count": 18,
   "id": "96cdfb59-c83f-43c2-87b9-c37eb5c179d8",
   "metadata": {},
   "outputs": [
    {
     "name": "stdout",
     "output_type": "stream",
     "text": [
      "name\n",
      "age\n",
      "branch\n"
     ]
    }
   ],
   "source": [
    "# Iterating over the keys\n",
    "\n",
    "for keys in student.keys():\n",
    "    print(keys)"
   ]
  },
  {
   "cell_type": "code",
   "execution_count": 19,
   "id": "a18382b8-6ac2-44b6-82e9-b99a57919590",
   "metadata": {},
   "outputs": [
    {
     "name": "stdout",
     "output_type": "stream",
     "text": [
      "CHARAN\n",
      "22\n",
      "CSE\n"
     ]
    }
   ],
   "source": [
    "# Iterating over the values\n",
    "\n",
    "for values in student.values():\n",
    "    print(values)"
   ]
  },
  {
   "cell_type": "code",
   "execution_count": 22,
   "id": "3cf7b4d5-3d32-4a2f-866d-6c7aeba1239c",
   "metadata": {},
   "outputs": [
    {
     "name": "stdout",
     "output_type": "stream",
     "text": [
      "name : CHARAN\n",
      "age : 22\n",
      "branch : CSE\n"
     ]
    }
   ],
   "source": [
    "# Iterating over the key-value pairs\n",
    "\n",
    "for key,value in student.items():\n",
    "    print(f\"{key} : {value}\")"
   ]
  },
  {
   "cell_type": "markdown",
   "id": "386598e3-c995-427e-a91c-6bfd780978d6",
   "metadata": {},
   "source": [
    "### Nested Dictionaries"
   ]
  },
  {
   "cell_type": "code",
   "execution_count": 23,
   "id": "49da1846-9581-486a-9a04-19deacd5f799",
   "metadata": {},
   "outputs": [
    {
     "name": "stdout",
     "output_type": "stream",
     "text": [
      "{'student1': {'name': 'Charan', 'age': 22}, 'student2': {'name': 'Ricky Ponting', 'age': 48}}\n"
     ]
    }
   ],
   "source": [
    "students = {\n",
    "    \"student1\" : {\n",
    "        \"name\" : \"Charan\",\n",
    "        \"age\" : 22\n",
    "    },\n",
    "    \"student2\" : {\n",
    "        \"name\" : \"Ricky Ponting\",\n",
    "        \"age\" : 48\n",
    "    }\n",
    "}\n",
    "\n",
    "print(students)"
   ]
  },
  {
   "cell_type": "code",
   "execution_count": 26,
   "id": "54a565c0-61ea-4f72-9b26-769eeeb02a2d",
   "metadata": {},
   "outputs": [
    {
     "name": "stdout",
     "output_type": "stream",
     "text": [
      "Student 1 dictionary :  {'name': 'Charan', 'age': 22}\n",
      "Student 1 name :  Charan\n",
      "Student 1 age :  22\n"
     ]
    }
   ],
   "source": [
    "# Accessing nested dictionaries\n",
    "\n",
    "print(\"Student 1 dictionary : \",students[\"student1\"])\n",
    "print(\"Student 1 name : \",students[\"student1\"][\"name\"])\n",
    "print(\"Student 1 age : \",students[\"student1\"][\"age\"])"
   ]
  },
  {
   "cell_type": "code",
   "execution_count": 29,
   "id": "1fb96f9e-83f6-4338-99ec-d0930050e726",
   "metadata": {},
   "outputs": [
    {
     "name": "stdout",
     "output_type": "stream",
     "text": [
      "student1 : {'name': 'Charan', 'age': 22}\n",
      "name : Charan\n",
      "age : 22\n",
      "student2 : {'name': 'Ricky Ponting', 'age': 48}\n",
      "name : Ricky Ponting\n",
      "age : 48\n"
     ]
    }
   ],
   "source": [
    "# Iterating over nested dictionaries\n",
    "\n",
    "for student_number,student_dict in students.items():\n",
    "    print(f\"{student_number} : {student_dict}\")\n",
    "    for key,value in student_dict.items():\n",
    "        print(f\"{key} : {value}\")"
   ]
  },
  {
   "cell_type": "markdown",
   "id": "a4358d4b-88e2-404d-822e-5e265cf20d81",
   "metadata": {},
   "source": [
    "### Dictionary comprehension"
   ]
  },
  {
   "cell_type": "code",
   "execution_count": 31,
   "id": "498666a5-f504-4cd4-91cd-7e74dd661235",
   "metadata": {},
   "outputs": [
    {
     "name": "stdout",
     "output_type": "stream",
     "text": [
      "{0: 0, 1: 1, 2: 4, 3: 9, 4: 16}\n"
     ]
    }
   ],
   "source": [
    "# Creating key value pairs of numbers and squares\n",
    "\n",
    "squares = {x:x**2 for x in range(5)}\n",
    "print(squares)"
   ]
  },
  {
   "cell_type": "code",
   "execution_count": 32,
   "id": "88f10d22-42b5-4dc7-9529-9057703023b3",
   "metadata": {},
   "outputs": [
    {
     "name": "stdout",
     "output_type": "stream",
     "text": [
      "{0: 0, 2: 4, 4: 16, 6: 36, 8: 64}\n"
     ]
    }
   ],
   "source": [
    "# Conditional dictionary comprehension\n",
    "\n",
    "evens = {x : x**2 for x in range(10) if x%2 == 0}\n",
    "print(evens)"
   ]
  },
  {
   "cell_type": "markdown",
   "id": "3fbfa33d-71e0-4758-9758-f7898bee4b73",
   "metadata": {},
   "source": [
    "### Some basic applications"
   ]
  },
  {
   "cell_type": "code",
   "execution_count": 35,
   "id": "49ff6a9e-d413-44c0-8ef4-3c88b3887df7",
   "metadata": {},
   "outputs": [
    {
     "name": "stdout",
     "output_type": "stream",
     "text": [
      "{1: 2, 2: 2, 3: 3, 4: 2} \n",
      "\n",
      "1 repeated 2 times\n",
      "2 repeated 2 times\n",
      "3 repeated 3 times\n",
      "4 repeated 2 times\n"
     ]
    }
   ],
   "source": [
    "# Finding frequency of elements in lisgt\n",
    "\n",
    "array = [1,2,3,4,3,2,4,1,3]\n",
    "frequency = {}\n",
    "\n",
    "for number in array:\n",
    "    if number in frequency:\n",
    "        frequency[number] += 1\n",
    "    else:\n",
    "        frequency[number] = 1\n",
    "\n",
    "print(frequency,\"\\n\")\n",
    "\n",
    "for key,value in frequency.items():\n",
    "    print(f\"{key} repeated {value} times\")"
   ]
  },
  {
   "cell_type": "code",
   "execution_count": 37,
   "id": "3d8fe505-3d21-4627-af3f-ebf06112c099",
   "metadata": {},
   "outputs": [
    {
     "name": "stdout",
     "output_type": "stream",
     "text": [
      "{'a': 1, 'b': 3, 'c': 4}\n"
     ]
    }
   ],
   "source": [
    "# Merging two dictionaries\n",
    "\n",
    "dictionary1 = {\n",
    "    \"a\" : 1,\n",
    "    \"b\" : 2\n",
    "}\n",
    "\n",
    "dictionary2 = {\n",
    "    \"b\" : 3,\n",
    "    \"c\" : 4\n",
    "}\n",
    "\n",
    "merged_dictionary = {**dictionary1,**dictionary2}\n",
    "print(merged_dictionary)"
   ]
  }
 ],
 "metadata": {
  "kernelspec": {
   "display_name": "Python 3 (ipykernel)",
   "language": "python",
   "name": "python3"
  },
  "language_info": {
   "codemirror_mode": {
    "name": "ipython",
    "version": 3
   },
   "file_extension": ".py",
   "mimetype": "text/x-python",
   "name": "python",
   "nbconvert_exporter": "python",
   "pygments_lexer": "ipython3",
   "version": "3.12.2"
  }
 },
 "nbformat": 4,
 "nbformat_minor": 5
}
