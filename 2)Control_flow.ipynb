{
 "cells": [
  {
   "cell_type": "markdown",
   "id": "af3431c7-aaae-4594-ad98-55ea92bc3976",
   "metadata": {},
   "source": [
    "# If , elif and else"
   ]
  },
  {
   "cell_type": "code",
   "execution_count": 1,
   "id": "997be5f0-fc44-45eb-8a2b-506caaa02010",
   "metadata": {},
   "outputs": [
    {
     "name": "stdin",
     "output_type": "stream",
     "text": [
      "Enter your age :  25\n"
     ]
    },
    {
     "name": "stdout",
     "output_type": "stream",
     "text": [
      "You must be working\n"
     ]
    }
   ],
   "source": [
    "age = int(input(\"Enter your age : \"))\n",
    "\n",
    "if age >= 60:\n",
    "    print(\"You must be retired and having rest\")\n",
    "elif age >= 22:\n",
    "    print(\"You must be working\")\n",
    "else:\n",
    "    print(\"You must be studying\")"
   ]
  },
  {
   "cell_type": "code",
   "execution_count": 5,
   "id": "b232b888-08ca-4926-8abf-9cd1e52805cf",
   "metadata": {},
   "outputs": [
    {
     "name": "stdin",
     "output_type": "stream",
     "text": [
      " 32\n"
     ]
    },
    {
     "name": "stdout",
     "output_type": "stream",
     "text": [
      "Number is positive\n",
      "Number is even\n"
     ]
    }
   ],
   "source": [
    "number = int(input())\n",
    "\n",
    "if number > 0:\n",
    "    print(\"Number is positive\")\n",
    "    if number % 2 == 0:\n",
    "        print(\"Number is even\")\n",
    "    else:\n",
    "        print(\"Number is odd\")\n",
    "elif number < 0:\n",
    "    print(\"Number is negative\")\n",
    "else:\n",
    "    print(\"Zero is neither positive nor negative\")"
   ]
  },
  {
   "cell_type": "code",
   "execution_count": 12,
   "id": "12d35228-c070-4b0f-a5f3-46170d7c121f",
   "metadata": {},
   "outputs": [
    {
     "name": "stdin",
     "output_type": "stream",
     "text": [
      "Enter the first number : 20\n",
      "Enter the second number :  0\n",
      "Enter operation to be performed (+,-,*,/,%) :  %\n"
     ]
    },
    {
     "name": "stdout",
     "output_type": "stream",
     "text": [
      "Divisor cannot be zero\n"
     ]
    }
   ],
   "source": [
    "number1 = float(input(\"Enter the first number :\"))\n",
    "number2 = float(input(\"Enter the second number : \"))\n",
    "operation = input(\"Enter operation to be performed (+,-,*,/,%) : \")\n",
    "\n",
    "if operation == '+':\n",
    "    print(number1,\" + \",number2,\" = \",number1 + number2)\n",
    "elif operation == '-':\n",
    "    print(number1,\" - \",number2,\" = \",number1 - number2)\n",
    "elif operation == \"*\":\n",
    "    print(number1,\" * \",number2,\" = \",number1*number2)\n",
    "elif operation == \"/\":\n",
    "    if number2 > 0:\n",
    "        print(number1,\" / \",number2,\" = \",number1 / number2)\n",
    "    else:\n",
    "        print(\"Divisor cannot be zero!\")\n",
    "elif operation == \"%\":\n",
    "    if number2 > 0:\n",
    "        print(number1,\" % \",number2,\" = \",number1 % number2)\n",
    "    else:\n",
    "        print(\"Divisor cannot be zero\")\n",
    "else:\n",
    "    print(\"The input is invalid.Please select between (+,-,*,/,%)\")"
   ]
  },
  {
   "cell_type": "markdown",
   "id": "9d1bfef0-6000-4f35-b0cb-8ac2cac6a1e9",
   "metadata": {},
   "source": [
    "# For Loop"
   ]
  },
  {
   "cell_type": "code",
   "execution_count": null,
   "id": "293f77e2-a461-4ffb-8f58-3075de2b5071",
   "metadata": {},
   "outputs": [],
   "source": []
  }
 ],
 "metadata": {
  "kernelspec": {
   "display_name": "Python 3 (ipykernel)",
   "language": "python",
   "name": "python3"
  },
  "language_info": {
   "codemirror_mode": {
    "name": "ipython",
    "version": 3
   },
   "file_extension": ".py",
   "mimetype": "text/x-python",
   "name": "python",
   "nbconvert_exporter": "python",
   "pygments_lexer": "ipython3",
   "version": "3.12.2"
  }
 },
 "nbformat": 4,
 "nbformat_minor": 5
}
