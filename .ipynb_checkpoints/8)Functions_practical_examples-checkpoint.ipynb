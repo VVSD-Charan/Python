{
 "cells": [
  {
   "cell_type": "markdown",
   "id": "184594f7-fb08-4f49-94e2-bd845d500888",
   "metadata": {},
   "source": [
    "### Temperature conversion"
   ]
  },
  {
   "cell_type": "code",
   "execution_count": 1,
   "id": "928f07fa-067e-4f65-827e-e1407eda19a0",
   "metadata": {},
   "outputs": [],
   "source": [
    "def convert_temperature(temperature,unit):\n",
    "    \"\"\"This function converts temperature between celsius and fahrenheit units \"\"\"\n",
    "    if unit == 'C':\n",
    "        return temperature*9/5 + 32 #Celsius to fahrenheit\n",
    "    elif unit == 'F':\n",
    "        return (temperature-32)*5/9 # Fahrenheit to celsius\n",
    "    else:\n",
    "        return None"
   ]
  },
  {
   "cell_type": "code",
   "execution_count": 2,
   "id": "63f73813-ecf0-4021-9592-e8367a503794",
   "metadata": {},
   "outputs": [
    {
     "name": "stdout",
     "output_type": "stream",
     "text": [
      "25 degree celsius to Fahrenheit : 77.0\n",
      "90 degree Fahrenheit to Celsius :  32.22222222222222\n"
     ]
    }
   ],
   "source": [
    "print(\"25 degree celsius to Fahrenheit :\",convert_temperature(25,'C'))\n",
    "print(\"90 degree Fahrenheit to Celsius : \",convert_temperature(90,'F'))"
   ]
  },
  {
   "cell_type": "markdown",
   "id": "11058491-866f-4e0c-82e2-53dccfd94b97",
   "metadata": {},
   "source": [
    "### Password strength checker"
   ]
  },
  {
   "cell_type": "code",
   "execution_count": 3,
   "id": "e03a3524-7dd1-453b-82df-7d24806c8aa5",
   "metadata": {},
   "outputs": [],
   "source": [
    "def is_strong_password(password):\n",
    "    \"\"\" This function checks if password is strong or not \"\"\"\n",
    "    if len(password) < 8:\n",
    "        return False\n",
    "    if not any(char.isdigit() for char in password):\n",
    "        return False\n",
    "    if not any(char.islower() for char in password):\n",
    "        return False\n",
    "    if not any(char.isupper() for char in password):\n",
    "        return False\n",
    "    if not any(char in '!@#$%^&*_+' for char in password):\n",
    "        return False\n",
    "    return True"
   ]
  },
  {
   "cell_type": "code",
   "execution_count": 4,
   "id": "4f4536d1-247b-4535-b8a5-104be13f9784",
   "metadata": {},
   "outputs": [
    {
     "name": "stdout",
     "output_type": "stream",
     "text": [
      "False\n",
      "False\n",
      "False\n",
      "True\n"
     ]
    }
   ],
   "source": [
    "# Only lowercase characters\n",
    "print(is_strong_password(\"charan\"))\n",
    "\n",
    "# Uppercase and lowercase characters\n",
    "print(is_strong_password(\"Charan\"))\n",
    "\n",
    "# Uppercase,LowerCase and digits\n",
    "print(is_strong_password(\"Charan2001\"))\n",
    "\n",
    "# Uppercase,LowerCase,Digits and special character\n",
    "print(is_strong_password(\"Charan@2001\"))"
   ]
  },
  {
   "cell_type": "markdown",
   "id": "493cd48a-ac7d-487e-8dee-cb036b0e0d12",
   "metadata": {},
   "source": [
    "### Calculate the total cost of items in a shopping cart"
   ]
  },
  {
   "cell_type": "code",
   "execution_count": 5,
   "id": "29c9d69f-4aad-4a64-8ef5-71b07a59ba2a",
   "metadata": {},
   "outputs": [],
   "source": [
    "def calculate_total_cost(cart):\n",
    "    \"\"\" This function calaculates total cost of items in cart \"\"\"\n",
    "    total_cost = 0\n",
    "    for item in cart:\n",
    "        total_cost += item['price']*item['quantity']\n",
    "    return total_cost"
   ]
  },
  {
   "cell_type": "code",
   "execution_count": 6,
   "id": "9b434e19-1e3b-4152-834d-2d83fd3e6bbb",
   "metadata": {},
   "outputs": [
    {
     "name": "stdout",
     "output_type": "stream",
     "text": [
      "320\n"
     ]
    }
   ],
   "source": [
    "cart = [\n",
    "    {\n",
    "        'name': 'Apple',\n",
    "        'price' : 40,\n",
    "        'quantity' : 3\n",
    "    },\n",
    "    {\n",
    "        'name' : 'Orange',\n",
    "        'price' : 50,\n",
    "        'quantity' : 4\n",
    "    }\n",
    "]\n",
    "\n",
    "print(calculate_total_cost(cart))"
   ]
  },
  {
   "cell_type": "markdown",
   "id": "86cb184c-9155-4cb4-ad24-4ff6d1999db3",
   "metadata": {},
   "source": [
    "### Check if a string is palindrome"
   ]
  },
  {
   "cell_type": "code",
   "execution_count": 7,
   "id": "d097176d-bb98-4e97-8fb1-dc944ebbf8fb",
   "metadata": {},
   "outputs": [],
   "source": [
    "def is_palindrome(s):\n",
    "    \"\"\" This function checks if a string is palindrome or not by removing spaces and irrespective of lower or upper case \"\"\"\n",
    "    s = s.lower().replace(\" \",\"\")\n",
    "    return s == s[::-1]"
   ]
  },
  {
   "cell_type": "code",
   "execution_count": 8,
   "id": "37cf05be-f119-4223-856c-1568ac6a3a27",
   "metadata": {},
   "outputs": [
    {
     "name": "stdout",
     "output_type": "stream",
     "text": [
      "True\n"
     ]
    }
   ],
   "source": [
    "print(is_palindrome(\"Char RaHC\"))"
   ]
  },
  {
   "cell_type": "markdown",
   "id": "2f7a8898-a0c7-40ce-be2f-7dd62a204f86",
   "metadata": {},
   "source": [
    "### Calculate factorials of a number using recursion"
   ]
  },
  {
   "cell_type": "code",
   "execution_count": 9,
   "id": "a1d4190d-cf9b-4615-9e7e-4757a170497f",
   "metadata": {},
   "outputs": [],
   "source": [
    "def factorial(number):\n",
    "    if number == 0:\n",
    "        return 1\n",
    "    else:\n",
    "        return number * factorial(number-1)"
   ]
  },
  {
   "cell_type": "code",
   "execution_count": 10,
   "id": "2d5bb2cd-f255-43b8-834d-5fe8b576a386",
   "metadata": {},
   "outputs": [
    {
     "name": "stdout",
     "output_type": "stream",
     "text": [
      "Factorial of 5 is : 120\n",
      "Factorial of 10 is : 3628800\n"
     ]
    }
   ],
   "source": [
    "print(\"Factorial of 5 is :\",factorial(5))\n",
    "print(\"Factorial of 10 is :\",factorial(10))"
   ]
  },
  {
   "cell_type": "markdown",
   "id": "6b0c5ea1-14ed-440d-aa9d-305d4f5587bf",
   "metadata": {},
   "source": [
    "### Reading a file and counting frequency of each word"
   ]
  },
  {
   "cell_type": "code",
   "execution_count": 11,
   "id": "e63804fd-27ec-4bf2-ae52-e305fbb52b16",
   "metadata": {},
   "outputs": [],
   "source": [
    "def count_word_frequency(file_path):\n",
    "    word_count = {}\n",
    "    with open(file_path,'r') as file:\n",
    "        for line in file:\n",
    "            words = line.split()\n",
    "            for word in words:\n",
    "                word = word.lower().strip('.,!?;:\"\\'')\n",
    "                word_count[word] = word_count.get(word,0) + 1\n",
    "    return word_count"
   ]
  },
  {
   "cell_type": "code",
   "execution_count": 12,
   "id": "0c2ed61c-925a-4291-8106-8c7f1889d8e8",
   "metadata": {},
   "outputs": [
    {
     "name": "stdout",
     "output_type": "stream",
     "text": [
      "{'hi': 1, 'i': 2, 'am': 2, 'vummethala': 1, 'venkata': 1, 'sri': 1, 'datta': 1, 'charan': 2, 'specialist': 1, 'programmer': 1, 'at': 1, 'infosys': 1, 'you': 1, 'can': 1, 'call': 1, 'me': 1}\n"
     ]
    }
   ],
   "source": [
    "file_path = 'sample.txt'\n",
    "print(count_word_frequency(file_path))"
   ]
  },
  {
   "cell_type": "markdown",
   "id": "5f638f85-f6af-46c2-b449-51b380e3124f",
   "metadata": {},
   "source": [
    "### Validate email address"
   ]
  },
  {
   "cell_type": "code",
   "execution_count": 15,
   "id": "f202b093-fbe2-4643-ab9e-b3077c203bb7",
   "metadata": {},
   "outputs": [],
   "source": [
    "import re\n",
    "\n",
    "def validate_email(email):\n",
    "    \"\"\" This function checks if email is valid or not \"\"\"\n",
    "    pattern = r'^[a-zA-Z0-9_.+-]+@[a-zA-Z0-9-]+\\.[a-zA-Z0-9-.]+$'\n",
    "    return re.match(pattern,email) is not None"
   ]
  },
  {
   "cell_type": "code",
   "execution_count": 16,
   "id": "a587a1ed-f1d8-4cc6-8372-e559bb413009",
   "metadata": {},
   "outputs": [
    {
     "name": "stdout",
     "output_type": "stream",
     "text": [
      "True\n",
      "False\n"
     ]
    }
   ],
   "source": [
    "print(validate_email(\"vvsdcharan2001@gmail.com\"))\n",
    "print(validate_email(\"vvsdcharan2001\"))"
   ]
  }
 ],
 "metadata": {
  "kernelspec": {
   "display_name": "Python 3 (ipykernel)",
   "language": "python",
   "name": "python3"
  },
  "language_info": {
   "codemirror_mode": {
    "name": "ipython",
    "version": 3
   },
   "file_extension": ".py",
   "mimetype": "text/x-python",
   "name": "python",
   "nbconvert_exporter": "python",
   "pygments_lexer": "ipython3",
   "version": "3.12.2"
  }
 },
 "nbformat": 4,
 "nbformat_minor": 5
}
