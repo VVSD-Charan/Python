{
 "cells": [
  {
   "cell_type": "markdown",
   "id": "e147fdf9-b024-44c2-9c4d-05f836190044",
   "metadata": {},
   "source": [
    "# Magic methods in Python\n",
    "\n",
    "Magic methods(dunder methods / double underscore methods) enable us to define the beahvior of objects for built-in operations like arithmetic operations , comparisons etc.\n",
    "\n",
    "Some examples:\n",
    "<li>__init__ => Initializes a new instance of a class</li>\n",
    "<li>__str__ => Returns string respresentation of an object</li>\n",
    "<li>__repr__ => Returns official string representation of an object</li>\n",
    "<li>__len__ => Returns length of the object</li>\n",
    "<li>__getitem__ => Gets an item from a container</li>\n",
    "<li>__setitem__ => Sets an item in an container</li>"
   ]
  },
  {
   "cell_type": "code",
   "execution_count": 12,
   "id": "50f7a69a-5776-41ad-9a02-20ed1391f2be",
   "metadata": {
    "collapsed": true,
    "jupyter": {
     "outputs_hidden": true
    }
   },
   "outputs": [
    {
     "data": {
      "text/plain": [
       "['__class__',\n",
       " '__delattr__',\n",
       " '__dict__',\n",
       " '__dir__',\n",
       " '__doc__',\n",
       " '__eq__',\n",
       " '__format__',\n",
       " '__ge__',\n",
       " '__getattribute__',\n",
       " '__getstate__',\n",
       " '__gt__',\n",
       " '__hash__',\n",
       " '__init__',\n",
       " '__init_subclass__',\n",
       " '__le__',\n",
       " '__lt__',\n",
       " '__module__',\n",
       " '__ne__',\n",
       " '__new__',\n",
       " '__reduce__',\n",
       " '__reduce_ex__',\n",
       " '__repr__',\n",
       " '__setattr__',\n",
       " '__sizeof__',\n",
       " '__str__',\n",
       " '__subclasshook__',\n",
       " '__weakref__']"
      ]
     },
     "execution_count": 12,
     "metadata": {},
     "output_type": "execute_result"
    }
   ],
   "source": [
    "class Person:\n",
    "    pass\n",
    "\n",
    "person = Person()\n",
    "\n",
    "#A list of all magic methods\n",
    "dir(person)"
   ]
  },
  {
   "cell_type": "code",
   "execution_count": 14,
   "id": "0150c4c3-2c2d-4ac6-afee-60cbd40bde15",
   "metadata": {},
   "outputs": [
    {
     "name": "stdout",
     "output_type": "stream",
     "text": [
      "<__main__.Person object at 0x000001BDDC3BA660>\n"
     ]
    }
   ],
   "source": [
    "# String representation of object\n",
    "class Person:\n",
    "    def __init__(self,name,age):\n",
    "        self.name = name\n",
    "        self.age = age\n",
    "\n",
    "person = Person(\"Charan\",23)\n",
    "\n",
    "# By default we will print person.__str__()\n",
    "print(person)"
   ]
  },
  {
   "cell_type": "code",
   "execution_count": 15,
   "id": "b4c08e5e-5755-4f7d-9c41-f634b1fbd528",
   "metadata": {},
   "outputs": [
    {
     "name": "stdout",
     "output_type": "stream",
     "text": [
      "Charan is 23 years old\n"
     ]
    }
   ],
   "source": [
    "# Overriding the string representation of object\n",
    "class Person:\n",
    "    def __init__(self,name,age):\n",
    "        self.name = name\n",
    "        self.age = age\n",
    "    def __str__(self):\n",
    "        return f\"{self.name} is {self.age} years old\"\n",
    "\n",
    "person = Person(\"Charan\",23)\n",
    "print(person)"
   ]
  },
  {
   "cell_type": "code",
   "execution_count": 16,
   "id": "fa4e8932-355e-4d05-b5ce-d09d651beb38",
   "metadata": {},
   "outputs": [
    {
     "name": "stdout",
     "output_type": "stream",
     "text": [
      "Person(name = Charan,age = 23)\n"
     ]
    }
   ],
   "source": [
    "# Using repr\n",
    "class Person:\n",
    "    def __init__(self,name,age):\n",
    "        self.name = name\n",
    "        self.age = age\n",
    "    def __repr__(self):\n",
    "        return f\"Person(name = {self.name},age = {self.age})\"\n",
    "\n",
    "person = Person(\"Charan\",23)\n",
    "print(repr(person))"
   ]
  }
 ],
 "metadata": {
  "kernelspec": {
   "display_name": "Python 3 (ipykernel)",
   "language": "python",
   "name": "python3"
  },
  "language_info": {
   "codemirror_mode": {
    "name": "ipython",
    "version": 3
   },
   "file_extension": ".py",
   "mimetype": "text/x-python",
   "name": "python",
   "nbconvert_exporter": "python",
   "pygments_lexer": "ipython3",
   "version": "3.12.2"
  }
 },
 "nbformat": 4,
 "nbformat_minor": 5
}
