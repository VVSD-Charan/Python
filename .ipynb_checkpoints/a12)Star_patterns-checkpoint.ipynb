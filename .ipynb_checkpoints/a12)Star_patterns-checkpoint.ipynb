{
 "cells": [
  {
   "cell_type": "code",
   "execution_count": 1,
   "id": "54007e8e-1dd2-4337-b3c1-96b8b038856a",
   "metadata": {},
   "outputs": [
    {
     "name": "stdout",
     "output_type": "stream",
     "text": [
      "*****\n",
      "*****\n",
      "*****\n",
      "*****\n",
      "*****\n"
     ]
    }
   ],
   "source": [
    "def generate_square(n):\n",
    "    \"\"\"\n",
    "    Function to return a square pattern of '*' of side n as a list of strings.\n",
    "    \n",
    "    Parameters:\n",
    "    n (int): The size of the square.\n",
    "    \n",
    "    Returns:\n",
    "    list: A list of strings where each string represents a row of the square.\n",
    "    \"\"\"\n",
    "    # Your code here\n",
    "    str = \"\"\n",
    "    for i in range(n):\n",
    "        str += \"*\"\n",
    "    \n",
    "    arr = [str for i in range(n)]\n",
    "    return arr\n",
    "\n",
    "array = generate_square(5)\n",
    "\n",
    "for row in array:\n",
    "    print(row)"
   ]
  },
  {
   "cell_type": "code",
   "execution_count": 2,
   "id": "a114e3b3-e554-4460-bcde-48100034eff2",
   "metadata": {},
   "outputs": [
    {
     "name": "stdout",
     "output_type": "stream",
     "text": [
      "*****\n",
      "*   *\n",
      "*   *\n",
      "*   *\n",
      "*****\n"
     ]
    }
   ],
   "source": [
    "def generate_hollow_square(n):\n",
    "    \"\"\"\n",
    "    Function to return a hollow square pattern of '*' of side n as a list of strings.\n",
    "    \n",
    "    Parameters:\n",
    "    n (int): The size of the square.\n",
    "    \n",
    "    Returns:\n",
    "    list: A list of strings where each string represents a row of the hollow square.\n",
    "    \"\"\"\n",
    "    # Your code here\n",
    "    if n == 1:\n",
    "        return [\"*\"]\n",
    "    if n == 2:\n",
    "        return [\"**\",\"**\"]\n",
    "        \n",
    "    complete_square = \"\"\n",
    "    hollow_sqaure = \"\"\n",
    "    \n",
    "    for i in range(n):\n",
    "        complete_square += \"*\"\n",
    "        if i == 0 or i == n-1:\n",
    "            hollow_sqaure += \"*\"\n",
    "        else:\n",
    "            hollow_sqaure += \" \"\n",
    "            \n",
    "    array = [complete_square]\n",
    "    \n",
    "    for i in range(n-2):\n",
    "        array.append(hollow_sqaure)\n",
    "    array.append(complete_square)\n",
    "    \n",
    "    return array;\n",
    "\n",
    "array = generate_hollow_square(5)\n",
    "\n",
    "for row in array:\n",
    "    print(row)"
   ]
  },
  {
   "cell_type": "code",
   "execution_count": 3,
   "id": "edab4f7e-c935-4902-8140-005a79c8de26",
   "metadata": {},
   "outputs": [
    {
     "name": "stdout",
     "output_type": "stream",
     "text": [
      "******\n",
      "******\n",
      "******\n",
      "******\n",
      "******\n"
     ]
    }
   ],
   "source": [
    "def generate_rectangle(n, m):\n",
    "    \"\"\"\n",
    "    Function to return a rectangle pattern of '*' with length n and breadth m as a list of strings.\n",
    "    \n",
    "    Parameters:\n",
    "    n (int): The number of rows in the rectangle.\n",
    "    m (int): The number of columns in the rectangle.\n",
    "    \n",
    "    Returns:\n",
    "    list: A list of strings where each string represents a row of the rectangle pattern.\n",
    "    \"\"\"\n",
    "    # Your code here\n",
    "    row_string = \"\"\n",
    "    for i in range (m):\n",
    "        row_string += \"*\"\n",
    "    array = [row_string for i in range(n)]\n",
    "    return array\n",
    "\n",
    "array = generate_rectangle(5,6)\n",
    "\n",
    "for row in array:\n",
    "    print(row)"
   ]
  },
  {
   "cell_type": "code",
   "execution_count": 4,
   "id": "15c47a70-dde0-4f0f-b3e6-37a00bfdf9b8",
   "metadata": {},
   "outputs": [
    {
     "name": "stdout",
     "output_type": "stream",
     "text": [
      "*\n",
      "**\n",
      "***\n",
      "****\n",
      "*****\n"
     ]
    }
   ],
   "source": [
    "def generate_triangle(n):\n",
    "    \"\"\"\n",
    "    Function to return a right-angled triangle of '*' of side n as a list of strings.\n",
    "    \n",
    "    Parameters:\n",
    "    n (int): The height and base of the triangle.\n",
    "    \n",
    "    Returns:\n",
    "    list: A list of strings where each string represents a row of the triangle.\n",
    "    \"\"\"\n",
    "    # Your code here\n",
    "    array = []\n",
    "    for row in range(n):\n",
    "        string = \"\"\n",
    "        for col in range(row+1):\n",
    "            string += \"*\"\n",
    "        array.append(string)\n",
    "    return array\n",
    "\n",
    "array = generate_triangle(5)\n",
    "\n",
    "for row in array:\n",
    "    print(row)"
   ]
  },
  {
   "cell_type": "code",
   "execution_count": 5,
   "id": "b1266539-3526-4ac7-8f66-91af3d593253",
   "metadata": {},
   "outputs": [
    {
     "name": "stdout",
     "output_type": "stream",
     "text": [
      "*****\n",
      "****\n",
      "***\n",
      "**\n",
      "*\n"
     ]
    }
   ],
   "source": [
    "def generate_inverted_triangle(n):\n",
    "    \"\"\"\n",
    "    Function to return an inverted right-angled triangle of '*' of side n as a list of strings.\n",
    "    \n",
    "    Parameters:\n",
    "    n (int): The height and base of the triangle.\n",
    "    \n",
    "    Returns:\n",
    "    list: A list of strings where each string represents a row of the triangle.\n",
    "    \"\"\"\n",
    "    # Your code here\n",
    "    array = []\n",
    "    for row in range(n):\n",
    "        string = \"\"\n",
    "        for col in range(n-row):\n",
    "            string += \"*\"\n",
    "        array.append(string)\n",
    "    return array\n",
    "\n",
    "array = generate_inverted_triangle(5)\n",
    "for row in array:\n",
    "    print(row)"
   ]
  },
  {
   "cell_type": "markdown",
   "id": "ba2fbb7e-28be-47a1-a1d5-26854a6c4a4e",
   "metadata": {},
   "source": [
    "### Generating pyramid"
   ]
  },
  {
   "cell_type": "code",
   "execution_count": 17,
   "id": "a9ffafb6-2361-43ca-99b8-444c47e26ef8",
   "metadata": {},
   "outputs": [
    {
     "name": "stdout",
     "output_type": "stream",
     "text": [
      "    *    \n",
      "   ***   \n",
      "  *****  \n",
      " ******* \n",
      "*********\n"
     ]
    }
   ],
   "source": [
    "def generate_pyramid(n):\n",
    "    \"\"\"\n",
    "    Function to return a pyramid pattern of '*' of side n as a list of strings.\n",
    "    \n",
    "    Parameters:\n",
    "    n (int): The number of rows in the pyramid.\n",
    "    \n",
    "    Returns:\n",
    "    list: A list of strings where each string represents a row of the pyramid.\n",
    "    \"\"\"\n",
    "    # Your code here\n",
    "    array = []\n",
    "    for i in range(n):\n",
    "        stars_string = ''.join([\"*\" for j in range(2*i+1)])\n",
    "        spaces_string = ''.join(\" \" for j in range(n-i-1))\n",
    "        string = spaces_string + stars_string + spaces_string\n",
    "        array.append(string)\n",
    "    return array\n",
    "        \n",
    "\n",
    "array = generate_pyramid(5)\n",
    "for row in array:\n",
    "    print(row)"
   ]
  },
  {
   "cell_type": "markdown",
   "id": "d33fe84f-b95b-4f29-86c2-469d8cf13ae3",
   "metadata": {},
   "source": [
    "### Generating inverted pyramid"
   ]
  },
  {
   "cell_type": "code",
   "execution_count": 15,
   "id": "c0d5601e-94cc-4bc7-baff-19cb152e75af",
   "metadata": {},
   "outputs": [
    {
     "name": "stdout",
     "output_type": "stream",
     "text": [
      " ********* \n",
      "  *******  \n",
      "   *****   \n",
      "    ***    \n",
      "     *     \n"
     ]
    }
   ],
   "source": [
    "def generate_inverted_pyramid(n):\n",
    "    \"\"\"\n",
    "    Function to return an inverted pyramid pattern of '*' of side n as a list of strings.\n",
    "    \n",
    "    Parameters:\n",
    "    n (int): The number of rows in the inverted pyramid.\n",
    "    \n",
    "    Returns:\n",
    "    list: A list of strings where each string represents a row of the inverted pyramid.\n",
    "    \"\"\"\n",
    "    # Your code here\n",
    "    array = []\n",
    "    for i in range(n):\n",
    "        stars_string = ''.join([\"*\" for j in range(2*n-1-2*i)])\n",
    "        spaces_string = ''.join([\" \" for j in range(i+1)])\n",
    "        string = spaces_string + stars_string + spaces_string\n",
    "        array.append(string)\n",
    "    return array\n",
    "\n",
    "array = generate_inverted_pyramid(5)\n",
    "for row in array:\n",
    "    print(row)"
   ]
  },
  {
   "cell_type": "markdown",
   "id": "a93843f1-9ddd-43ad-b688-fbdb1776f225",
   "metadata": {},
   "source": [
    "### Generate number triangle"
   ]
  },
  {
   "cell_type": "code",
   "execution_count": 14,
   "id": "914a5e8a-c633-4a14-a6d4-1fe017b2f25b",
   "metadata": {},
   "outputs": [
    {
     "name": "stdout",
     "output_type": "stream",
     "text": [
      "1\n",
      "22\n",
      "333\n",
      "4444\n",
      "55555\n"
     ]
    }
   ],
   "source": [
    "def generate_number_triangle(n):\n",
    "    \"\"\"\n",
    "    Function to return a right-angled triangle of repeated numbers of side n as a list of strings.\n",
    "    \n",
    "    Parameters:\n",
    "    n (int): The height of the triangle.\n",
    "    \n",
    "    Returns:\n",
    "    list: A list of strings where each string represents a row of the triangle.\n",
    "    \"\"\"\n",
    "    # Your code here\n",
    "    array = []\n",
    "    for i in range(n):\n",
    "        string = ''.join([str(i+1) for j in range(i+1)])\n",
    "        array.append(string)\n",
    "    return array\n",
    "\n",
    "array = generate_number_triangle(5)\n",
    "for row in array:\n",
    "    print(row)"
   ]
  },
  {
   "cell_type": "markdown",
   "id": "6ffae36e-b130-4510-9924-e6eb4edf825b",
   "metadata": {},
   "source": [
    "### Generating Floyds triangle"
   ]
  },
  {
   "cell_type": "code",
   "execution_count": 9,
   "id": "d6272de5-0930-46b4-a5c1-6e3d6d58ba65",
   "metadata": {},
   "outputs": [
    {
     "name": "stdout",
     "output_type": "stream",
     "text": [
      "1\n",
      "2 3\n",
      "4 5 6\n",
      "7 8 9 10\n",
      "11 12 13 14 15\n"
     ]
    }
   ],
   "source": [
    "def generate_floyds_triangle(n):\n",
    "    \"\"\"\n",
    "    Function to return the first n rows of Floyd's Triangle as a list of strings.\n",
    "    \n",
    "    Parameters:\n",
    "    n (int): The number of rows in the triangle.\n",
    "    \n",
    "    Returns:\n",
    "    list: A list of strings where each string represents a row of Floyd's Triangle.\n",
    "    \"\"\"\n",
    "    # Your code here\n",
    "    array = []\n",
    "    current_number = 1\n",
    "    for i in range(n):\n",
    "        string = ' '.join([str(j) for j in range(current_number,current_number+i+1)])\n",
    "        array.append(string)\n",
    "        current_number += (i+1)\n",
    "    return array\n",
    "\n",
    "array = generate_floyds_triangle(5)\n",
    "for row in array:\n",
    "    print(row)"
   ]
  },
  {
   "cell_type": "markdown",
   "id": "57e0b3f0-3743-421e-9f77-fdf5e4eaee89",
   "metadata": {},
   "source": [
    "### Generating diamond"
   ]
  },
  {
   "cell_type": "code",
   "execution_count": 10,
   "id": "f125c22b-beee-492a-bf36-d67856da48e5",
   "metadata": {},
   "outputs": [
    {
     "name": "stdout",
     "output_type": "stream",
     "text": [
      "    *    \n",
      "   ***   \n",
      "  *****  \n",
      " ******* \n",
      "*********\n",
      " ******* \n",
      "  *****  \n",
      "   ***   \n",
      "    *    \n"
     ]
    }
   ],
   "source": [
    "def generate_triangle_helper(n):\n",
    "    array = []\n",
    "    for i in range(n):\n",
    "        spaces_string = ''.join([\" \" for j in range(n-i-1)])\n",
    "        stars_string = ''.join([\"*\" for j in range(2*i+1)])\n",
    "        string = spaces_string + stars_string + spaces_string\n",
    "        array.append(string)\n",
    "    return array\n",
    "\n",
    "def generate_diamond(n):\n",
    "    triangle = generate_triangle_helper(n)\n",
    "    for i in range(n-2,-1,-1):\n",
    "        triangle.append(triangle[i])\n",
    "    return triangle\n",
    "\n",
    "array = generate_diamond(5)\n",
    "for row in array:\n",
    "    print(row)"
   ]
  },
  {
   "cell_type": "markdown",
   "id": "30d2eec6-ce78-4f0c-a4d5-5bd39a560131",
   "metadata": {},
   "source": [
    "### Generating right angled triangle"
   ]
  },
  {
   "cell_type": "code",
   "execution_count": 11,
   "id": "5e7715e5-a6e2-4adb-b6e7-bb5e412522b1",
   "metadata": {},
   "outputs": [
    {
     "name": "stdout",
     "output_type": "stream",
     "text": [
      "    *\n",
      "   **\n",
      "  ***\n",
      " ****\n",
      "*****\n"
     ]
    }
   ],
   "source": [
    "def generate_right_angled_triangle(n):\n",
    "    \"\"\"\n",
    "    Function to return a right-angled triangle of '*' of side n as a list of strings.\n",
    "    \n",
    "    Parameters:\n",
    "    n (int): The height of the triangle.\n",
    "    \n",
    "    Returns:\n",
    "    list: A list of strings where each string represents a row of the triangle.\n",
    "    \"\"\"\n",
    "    # Your code here\n",
    "    array = []\n",
    "    for i in range(n):\n",
    "        spaces_string = ''.join([\" \" for j in range(n-i-1)])\n",
    "        stars_string = ''.join([\"*\" for j in range(i+1)])\n",
    "        array.append(spaces_string+stars_string)\n",
    "    return array\n",
    "\n",
    "array = generate_right_angled_triangle(5)\n",
    "for row in array:\n",
    "    print(row)"
   ]
  },
  {
   "cell_type": "markdown",
   "id": "c570c67c-0d7f-468f-ab31-594c4755f9a8",
   "metadata": {},
   "source": [
    "### Generating sandglass"
   ]
  },
  {
   "cell_type": "code",
   "execution_count": 12,
   "id": "ed8ef1ac-2dfd-4a7d-a0ce-abfb2bf87f60",
   "metadata": {},
   "outputs": [
    {
     "name": "stdout",
     "output_type": "stream",
     "text": [
      "*********\n",
      " ******* \n",
      "  *****  \n",
      "   ***   \n",
      "    *    \n",
      "   ***   \n",
      "  *****  \n",
      " ******* \n",
      "*********\n"
     ]
    }
   ],
   "source": [
    "def generate_sandglass(n):\n",
    "    \"\"\"\n",
    "    Function to return a sandglass pattern of '*' of side n as a list of strings.\n",
    "    \n",
    "    Parameters:\n",
    "    n (int): The height of the sandglass.\n",
    "    \n",
    "    Returns:\n",
    "    list: A list of strings where each string represents a row of the sandglass pattern.\n",
    "    \"\"\"\n",
    "    # Your code here\n",
    "    array = [\"\" for i in range(2*n-1)]\n",
    "    starting_index = 0\n",
    "    ending_index = 2*n-2\n",
    "    while starting_index <= ending_index:\n",
    "        stars_string = ''.join([\"*\" for i in range(2*n-1-2*starting_index)])\n",
    "        spaces_string = ''.join([\" \" for i in range(starting_index)])\n",
    "        string = spaces_string + stars_string + spaces_string\n",
    "        array[starting_index] = array[ending_index] = string\n",
    "        starting_index += 1\n",
    "        ending_index -= 1\n",
    "    return array\n",
    "\n",
    "array = generate_sandglass(5)\n",
    "for row in array:\n",
    "    print(row)"
   ]
  },
  {
   "cell_type": "markdown",
   "id": "4cecd106-582b-4edc-b500-ba718b321ab2",
   "metadata": {},
   "source": [
    "### Generating hollow right angled triangle"
   ]
  },
  {
   "cell_type": "code",
   "execution_count": 13,
   "id": "3fb5eceb-f027-42f2-a01d-e38aa342b6f0",
   "metadata": {},
   "outputs": [
    {
     "name": "stdout",
     "output_type": "stream",
     "text": [
      "*\n",
      "**\n",
      "* *\n",
      "*  *\n",
      "*****\n"
     ]
    }
   ],
   "source": [
    "def generate_hollow_right_angled_triangle(n):\n",
    "    \"\"\"\n",
    "    Function to return a hollow right-angled triangle of '*' of side n as a list of strings.\n",
    "    \n",
    "    Parameters:\n",
    "    n (int): The height of the triangle.\n",
    "    \n",
    "    Returns:\n",
    "    list: A list of strings where each string represents a row of the triangle.\n",
    "    \"\"\"\n",
    "    # Your code here\n",
    "    if n == 1:\n",
    "        return [\"*\"]\n",
    "    array = [\"*\"]\n",
    "    for i in range(0,n-2):\n",
    "        spaces_string = ''.join([\" \" for j in range(i)])\n",
    "        array.append(\"*\"+spaces_string+\"*\")\n",
    "    array.append(''.join([\"*\" for i in range(n)]))\n",
    "    return array\n",
    "        \n",
    "array = generate_hollow_right_angled_triangle(5)\n",
    "for row in array:\n",
    "    print(row)"
   ]
  }
 ],
 "metadata": {
  "kernelspec": {
   "display_name": "Python 3 (ipykernel)",
   "language": "python",
   "name": "python3"
  },
  "language_info": {
   "codemirror_mode": {
    "name": "ipython",
    "version": 3
   },
   "file_extension": ".py",
   "mimetype": "text/x-python",
   "name": "python",
   "nbconvert_exporter": "python",
   "pygments_lexer": "ipython3",
   "version": "3.12.2"
  }
 },
 "nbformat": 4,
 "nbformat_minor": 5
}
