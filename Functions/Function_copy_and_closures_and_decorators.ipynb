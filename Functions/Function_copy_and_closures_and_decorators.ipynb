{
 "cells": [
  {
   "cell_type": "markdown",
   "id": "f7a8883f-9317-4230-b191-26439af26120",
   "metadata": {},
   "source": [
    "### Function copy"
   ]
  },
  {
   "cell_type": "code",
   "execution_count": 1,
   "id": "77151620-3e21-4a93-b053-e9c451beaa4d",
   "metadata": {},
   "outputs": [
    {
     "data": {
      "text/plain": [
       "'Hello!'"
      ]
     },
     "execution_count": 1,
     "metadata": {},
     "output_type": "execute_result"
    }
   ],
   "source": [
    "def welcome():\n",
    "    return \"Hello!\"\n",
    "\n",
    "welcome()"
   ]
  },
  {
   "cell_type": "code",
   "execution_count": 2,
   "id": "335659c9-e76c-43de-b8ae-083d2962154d",
   "metadata": {},
   "outputs": [
    {
     "data": {
      "text/plain": [
       "'Hello!'"
      ]
     },
     "execution_count": 2,
     "metadata": {},
     "output_type": "execute_result"
    }
   ],
   "source": [
    "# Copying function into other\n",
    "welcome_copy = welcome\n",
    "welcome_copy()"
   ]
  },
  {
   "cell_type": "code",
   "execution_count": 3,
   "id": "e82d7b54-3028-417b-9241-45cdcff3befd",
   "metadata": {},
   "outputs": [],
   "source": [
    "# Deleting welcome function\n",
    "del welcome"
   ]
  },
  {
   "cell_type": "code",
   "execution_count": 5,
   "id": "8d1e42da-342b-438c-93f7-11fb04be0b28",
   "metadata": {},
   "outputs": [
    {
     "data": {
      "text/plain": [
       "'Hello!'"
      ]
     },
     "execution_count": 5,
     "metadata": {},
     "output_type": "execute_result"
    }
   ],
   "source": [
    "# Copy of the function exists even after the function is deleted\n",
    "welcome_copy()"
   ]
  },
  {
   "cell_type": "markdown",
   "id": "11037459-ce35-4b7b-828c-ebdf2ed8edc2",
   "metadata": {},
   "source": [
    "### Closures"
   ]
  },
  {
   "cell_type": "code",
   "execution_count": 14,
   "id": "c22c3937-ebf8-40aa-aa23-fc99e19b7e1e",
   "metadata": {},
   "outputs": [
    {
     "name": "stdout",
     "output_type": "stream",
     "text": [
      "Hi I am Charan\n",
      "Hello! Welcome!\n",
      "Feel free to contact me\n"
     ]
    }
   ],
   "source": [
    "def main_welcome(message):\n",
    "    def sub_welcome():\n",
    "        print(\"Hi I am Charan\")\n",
    "        print(message)\n",
    "        print(\"Feel free to contact me\")\n",
    "    return sub_welcome()\n",
    "    \n",
    "main_welcome(\"Hello! Welcome!\")"
   ]
  },
  {
   "cell_type": "code",
   "execution_count": 15,
   "id": "6b3d6838-158b-40a4-a9e0-8d8162029ce4",
   "metadata": {},
   "outputs": [
    {
     "name": "stdout",
     "output_type": "stream",
     "text": [
      "Hi,How are you?\n",
      "Hope you are doing great!\n",
      "Feel free to contact me\n"
     ]
    }
   ],
   "source": [
    "# Passing function as parameter\n",
    "\n",
    "def main_welcome(function):\n",
    "    def sub_welcome():\n",
    "        print(\"Hi,How are you?\")\n",
    "        function(\"Hope you are doing great!\")\n",
    "        print(\"Feel free to contact me\")\n",
    "    return sub_welcome()\n",
    "\n",
    "main_welcome(print)"
   ]
  },
  {
   "cell_type": "code",
   "execution_count": 17,
   "id": "e027adde-7123-403e-91b9-fb490062ea89",
   "metadata": {},
   "outputs": [
    {
     "name": "stdout",
     "output_type": "stream",
     "text": [
      "Hey there!\n",
      "5\n",
      "Alright buddy!Light weight!\n"
     ]
    }
   ],
   "source": [
    "# Passing multiple parameters\n",
    "\n",
    "def main_welcome(function,number_list):\n",
    "    def sub_welcome():\n",
    "        print(\"Hey there!\")\n",
    "        print(function(number_list))\n",
    "        print(\"Alright buddy!Light weight!\")\n",
    "    return sub_welcome()\n",
    "\n",
    "main_welcome(len,[1,2,3,4,5])"
   ]
  },
  {
   "cell_type": "markdown",
   "id": "2597375c-085d-43db-a155-b0e886ee2eb1",
   "metadata": {},
   "source": [
    "### Decorators\n",
    "\n",
    "Decorators are powerful and flexible feature in python that allows modifying behavior of a function or class method. Decoratores are used to add functionality to functions or methods without modifying their actual code."
   ]
  },
  {
   "cell_type": "code",
   "execution_count": 24,
   "id": "6d6522f5-ce08-4495-9794-fec6dba48d68",
   "metadata": {},
   "outputs": [
    {
     "name": "stdout",
     "output_type": "stream",
     "text": [
      "Hi!\n",
      "I am Charan\n",
      "How are you?\n"
     ]
    }
   ],
   "source": [
    "# Without decorator\n",
    "def main_welcome(function):\n",
    "    def sub_welcome():\n",
    "        print(\"Hi!\")\n",
    "        function()\n",
    "        print(\"How are you?\")\n",
    "    return sub_welcome()\n",
    "\n",
    "def my_introduction():\n",
    "    print(\"I am Charan\")\n",
    "\n",
    "main_welcome(my_introduction)"
   ]
  },
  {
   "cell_type": "code",
   "execution_count": 25,
   "id": "098e3cfb-ce42-4eca-bb07-1c955353953f",
   "metadata": {},
   "outputs": [
    {
     "name": "stdout",
     "output_type": "stream",
     "text": [
      "Hi!\n",
      "I am Vummethala Venkata Sri Datta Charan\n",
      "How are you?\n"
     ]
    }
   ],
   "source": [
    "# With decorator\n",
    "\n",
    "@main_welcome\n",
    "def my_introduction():\n",
    "    print(\"I am Vummethala Venkata Sri Datta Charan\")"
   ]
  },
  {
   "cell_type": "markdown",
   "id": "f7ef36e2-a39b-44d0-82e3-5f8f56917071",
   "metadata": {},
   "source": [
    "##### Decorator with arguments"
   ]
  },
  {
   "cell_type": "code",
   "execution_count": 26,
   "id": "5b24c48b-05fa-4dd2-87f4-1f2a6dfe0ae1",
   "metadata": {},
   "outputs": [],
   "source": [
    "def repeat(n):\n",
    "    def decorator(function):\n",
    "        def wrapper(*args,**kwargs):\n",
    "            for _ in range(n):\n",
    "                function(*args,**kwargs)\n",
    "        return wrapper\n",
    "    return decorator"
   ]
  },
  {
   "cell_type": "code",
   "execution_count": 29,
   "id": "41b5c236-5c25-4ef4-a9c7-d24a685d2e76",
   "metadata": {},
   "outputs": [
    {
     "name": "stdout",
     "output_type": "stream",
     "text": [
      "Hello!\n",
      "Hello!\n",
      "Hello!\n"
     ]
    }
   ],
   "source": [
    "@repeat(3)\n",
    "def say_hello():\n",
    "    print(\"Hello!\")\n",
    "\n",
    "say_hello()"
   ]
  },
  {
   "cell_type": "markdown",
   "id": "804e82dd-c419-4781-812d-e0f15d0f4c8d",
   "metadata": {},
   "source": [
    "### Conclusion about decorators\n",
    "\n",
    "Decorators are powerful tool in Python for extending and modifying the behavior of functions and methods. Decorators provide a clean and readbale way to add functionality such as logging, timing, access control and more without changing the original code. "
   ]
  }
 ],
 "metadata": {
  "kernelspec": {
   "display_name": "Python 3 (ipykernel)",
   "language": "python",
   "name": "python3"
  },
  "language_info": {
   "codemirror_mode": {
    "name": "ipython",
    "version": 3
   },
   "file_extension": ".py",
   "mimetype": "text/x-python",
   "name": "python",
   "nbconvert_exporter": "python",
   "pygments_lexer": "ipython3",
   "version": "3.12.2"
  }
 },
 "nbformat": 4,
 "nbformat_minor": 5
}
