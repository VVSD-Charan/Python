{
 "cells": [
  {
   "cell_type": "code",
   "execution_count": null,
   "id": "c6b59b42-c393-4593-8036-3fd00db1ff2f",
   "metadata": {},
   "outputs": [],
   "source": []
  }
 ],
 "metadata": {
  "kernelspec": {
   "display_name": "",
   "name": ""
  },
  "language_info": {
   "name": ""
  }
 },
 "nbformat": 4,
 "nbformat_minor": 5
}
