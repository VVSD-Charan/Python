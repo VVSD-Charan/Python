{
 "cells": [
  {
   "cell_type": "markdown",
   "id": "af3431c7-aaae-4594-ad98-55ea92bc3976",
   "metadata": {},
   "source": [
    "# If , elif and else"
   ]
  },
  {
   "cell_type": "code",
   "execution_count": 1,
   "id": "997be5f0-fc44-45eb-8a2b-506caaa02010",
   "metadata": {},
   "outputs": [
    {
     "name": "stdin",
     "output_type": "stream",
     "text": [
      "Enter your age :  25\n"
     ]
    },
    {
     "name": "stdout",
     "output_type": "stream",
     "text": [
      "You must be working\n"
     ]
    }
   ],
   "source": [
    "age = int(input(\"Enter your age : \"))\n",
    "\n",
    "if age >= 60:\n",
    "    print(\"You must be retired and having rest\")\n",
    "elif age >= 22:\n",
    "    print(\"You must be working\")\n",
    "else:\n",
    "    print(\"You must be studying\")"
   ]
  },
  {
   "cell_type": "code",
   "execution_count": 5,
   "id": "b232b888-08ca-4926-8abf-9cd1e52805cf",
   "metadata": {},
   "outputs": [
    {
     "name": "stdin",
     "output_type": "stream",
     "text": [
      " 32\n"
     ]
    },
    {
     "name": "stdout",
     "output_type": "stream",
     "text": [
      "Number is positive\n",
      "Number is even\n"
     ]
    }
   ],
   "source": [
    "number = int(input())\n",
    "\n",
    "if number > 0:\n",
    "    print(\"Number is positive\")\n",
    "    if number % 2 == 0:\n",
    "        print(\"Number is even\")\n",
    "    else:\n",
    "        print(\"Number is odd\")\n",
    "elif number < 0:\n",
    "    print(\"Number is negative\")\n",
    "else:\n",
    "    print(\"Zero is neither positive nor negative\")"
   ]
  },
  {
   "cell_type": "code",
   "execution_count": 12,
   "id": "12d35228-c070-4b0f-a5f3-46170d7c121f",
   "metadata": {},
   "outputs": [
    {
     "name": "stdin",
     "output_type": "stream",
     "text": [
      "Enter the first number : 20\n",
      "Enter the second number :  0\n",
      "Enter operation to be performed (+,-,*,/,%) :  %\n"
     ]
    },
    {
     "name": "stdout",
     "output_type": "stream",
     "text": [
      "Divisor cannot be zero\n"
     ]
    }
   ],
   "source": [
    "number1 = float(input(\"Enter the first number :\"))\n",
    "number2 = float(input(\"Enter the second number : \"))\n",
    "operation = input(\"Enter operation to be performed (+,-,*,/,%) : \")\n",
    "\n",
    "if operation == '+':\n",
    "    print(number1,\" + \",number2,\" = \",number1 + number2)\n",
    "elif operation == '-':\n",
    "    print(number1,\" - \",number2,\" = \",number1 - number2)\n",
    "elif operation == \"*\":\n",
    "    print(number1,\" * \",number2,\" = \",number1*number2)\n",
    "elif operation == \"/\":\n",
    "    if number2 > 0:\n",
    "        print(number1,\" / \",number2,\" = \",number1 / number2)\n",
    "    else:\n",
    "        print(\"Divisor cannot be zero!\")\n",
    "elif operation == \"%\":\n",
    "    if number2 > 0:\n",
    "        print(number1,\" % \",number2,\" = \",number1 % number2)\n",
    "    else:\n",
    "        print(\"Divisor cannot be zero\")\n",
    "else:\n",
    "    print(\"The input is invalid.Please select between (+,-,*,/,%)\")"
   ]
  },
  {
   "cell_type": "markdown",
   "id": "9d1bfef0-6000-4f35-b0cb-8ac2cac6a1e9",
   "metadata": {},
   "source": [
    "# For Loop"
   ]
  },
  {
   "cell_type": "code",
   "execution_count": 15,
   "id": "293f77e2-a461-4ffb-8f58-3075de2b5071",
   "metadata": {},
   "outputs": [
    {
     "data": {
      "text/plain": [
       "range(0, 5)"
      ]
     },
     "execution_count": 15,
     "metadata": {},
     "output_type": "execute_result"
    }
   ],
   "source": [
    "range(5)"
   ]
  },
  {
   "cell_type": "code",
   "execution_count": 16,
   "id": "61c93235-829b-4842-b958-9e101e0e1d3f",
   "metadata": {},
   "outputs": [
    {
     "name": "stdout",
     "output_type": "stream",
     "text": [
      "0\n",
      "1\n",
      "2\n",
      "3\n",
      "4\n"
     ]
    }
   ],
   "source": [
    "for i in range(5):\n",
    "    print(i)"
   ]
  },
  {
   "cell_type": "code",
   "execution_count": 18,
   "id": "b5e44b59-8a1b-47d3-a824-272a94940b56",
   "metadata": {},
   "outputs": [
    {
     "name": "stdout",
     "output_type": "stream",
     "text": [
      "1\n",
      "3\n",
      "5\n",
      "7\n",
      "9\n"
     ]
    }
   ],
   "source": [
    "# range(starting,ending,step)\n",
    "\n",
    "for i in range(1,10,2):\n",
    "    print(i)"
   ]
  },
  {
   "cell_type": "code",
   "execution_count": 20,
   "id": "2bbf0539-587e-4c38-8376-cbe7ee0b1005",
   "metadata": {},
   "outputs": [
    {
     "name": "stdout",
     "output_type": "stream",
     "text": [
      "10\n",
      "9\n",
      "8\n",
      "7\n",
      "6\n",
      "5\n",
      "4\n",
      "3\n",
      "2\n"
     ]
    }
   ],
   "source": [
    "for i in range(10,1,-1):\n",
    "    print(i)"
   ]
  },
  {
   "cell_type": "markdown",
   "id": "39029b53-6717-4cea-92b1-fc82f1014713",
   "metadata": {},
   "source": [
    "# Iterating the string"
   ]
  },
  {
   "cell_type": "code",
   "execution_count": 21,
   "id": "ae35e4f3-3fd4-4cab-af40-789b4cf8e63b",
   "metadata": {},
   "outputs": [
    {
     "name": "stdout",
     "output_type": "stream",
     "text": [
      "V\n",
      "V\n",
      "S\n",
      "D\n",
      " \n",
      "C\n",
      "h\n",
      "a\n",
      "r\n",
      "a\n",
      "n\n"
     ]
    }
   ],
   "source": [
    "name = \"VVSD Charan\"\n",
    "\n",
    "for i in name:\n",
    "    print(i)"
   ]
  },
  {
   "cell_type": "markdown",
   "id": "9af8396c-bff9-4d29-bc58-d7d4b6fa18c6",
   "metadata": {},
   "source": [
    "# While loop"
   ]
  },
  {
   "cell_type": "code",
   "execution_count": 22,
   "id": "dac5e692-98fd-407f-98ed-51fc97873229",
   "metadata": {},
   "outputs": [
    {
     "name": "stdout",
     "output_type": "stream",
     "text": [
      "0\n",
      "1\n",
      "2\n",
      "3\n",
      "4\n"
     ]
    }
   ],
   "source": [
    "count = 0\n",
    "\n",
    "while count < 5:\n",
    "    print(count)\n",
    "    count = count + 1"
   ]
  },
  {
   "cell_type": "markdown",
   "id": "d5afb86e-ee6a-4540-86e6-54360ab8e39c",
   "metadata": {},
   "source": [
    "# Break statement"
   ]
  },
  {
   "cell_type": "code",
   "execution_count": 23,
   "id": "17280a4e-05cd-4ff9-966e-79330fe8c195",
   "metadata": {},
   "outputs": [
    {
     "name": "stdout",
     "output_type": "stream",
     "text": [
      "0\n",
      "1\n",
      "2\n",
      "3\n",
      "4\n"
     ]
    }
   ],
   "source": [
    "for i in range(10):\n",
    "    if i == 5:\n",
    "        break\n",
    "    print(i)"
   ]
  },
  {
   "cell_type": "markdown",
   "id": "8afa7ca6-2e90-4b42-becd-62fc78209ddd",
   "metadata": {},
   "source": [
    "# Continue statement"
   ]
  },
  {
   "cell_type": "code",
   "execution_count": 24,
   "id": "1114eed8-4dc0-4b8e-aba1-b19942124218",
   "metadata": {},
   "outputs": [
    {
     "name": "stdout",
     "output_type": "stream",
     "text": [
      "1\n",
      "3\n",
      "5\n",
      "7\n",
      "9\n"
     ]
    }
   ],
   "source": [
    "for i in range(10):\n",
    "    if i % 2 == 0:\n",
    "        continue\n",
    "    print(i)"
   ]
  },
  {
   "cell_type": "markdown",
   "id": "0c98a385-a820-4fa0-b3a3-5952d62da2cc",
   "metadata": {},
   "source": [
    "# Pass statement"
   ]
  },
  {
   "cell_type": "code",
   "execution_count": 26,
   "id": "189d621c-3624-4fb6-a1ad-64104df120eb",
   "metadata": {},
   "outputs": [
    {
     "name": "stdout",
     "output_type": "stream",
     "text": [
      "0\n",
      "1\n",
      "2\n",
      "3\n",
      "4\n",
      "Pass executed\n",
      "5\n",
      "6\n",
      "7\n",
      "8\n",
      "9\n"
     ]
    }
   ],
   "source": [
    "# Pass statement is like a NULL and does nothing. It can be used for empty if condition\n",
    "\n",
    "for i in range(10):\n",
    "    if i == 5:\n",
    "        pass\n",
    "        print(\"Pass executed\")\n",
    "    print(i)"
   ]
  },
  {
   "cell_type": "code",
   "execution_count": 28,
   "id": "61e1d5b1-96dd-41fe-9bfb-8e1fbb58830f",
   "metadata": {},
   "outputs": [
    {
     "name": "stdout",
     "output_type": "stream",
     "text": [
      "i:0 j:0\n",
      "i:0 j:1\n",
      "i:0 j:2\n",
      "i:0 j:3\n",
      "i:0 j:4\n",
      "i:1 j:0\n",
      "i:1 j:1\n",
      "i:1 j:2\n",
      "i:1 j:3\n",
      "i:1 j:4\n",
      "i:2 j:0\n",
      "i:2 j:1\n",
      "i:2 j:2\n",
      "i:2 j:3\n",
      "i:2 j:4\n"
     ]
    }
   ],
   "source": [
    "for i in range(3):\n",
    "    for j in range(5):\n",
    "        print(f\"i:{i} j:{j}\")"
   ]
  },
  {
   "cell_type": "code",
   "execution_count": 33,
   "id": "3a48f322-5f16-491a-bd62-1ad490b87c65",
   "metadata": {},
   "outputs": [
    {
     "name": "stdout",
     "output_type": "stream",
     "text": [
      "2\n",
      "3\n",
      "5\n",
      "7\n",
      "11\n",
      "13\n",
      "17\n",
      "19\n",
      "23\n",
      "29\n",
      "31\n",
      "37\n",
      "41\n",
      "43\n",
      "47\n",
      "53\n",
      "59\n",
      "61\n",
      "67\n",
      "71\n",
      "73\n",
      "79\n",
      "83\n",
      "89\n",
      "97\n"
     ]
    }
   ],
   "source": [
    "# Prime numbers between 1 and 100\n",
    "# Checkout how we can use else along with for loop as well\n",
    "\n",
    "for i in range(2,101):\n",
    "    for j in range(2,i):\n",
    "        if i % j == 0:\n",
    "            break\n",
    "    else:\n",
    "        print(i)"
   ]
  }
 ],
 "metadata": {
  "kernelspec": {
   "display_name": "Python 3 (ipykernel)",
   "language": "python",
   "name": "python3"
  },
  "language_info": {
   "codemirror_mode": {
    "name": "ipython",
    "version": 3
   },
   "file_extension": ".py",
   "mimetype": "text/x-python",
   "name": "python",
   "nbconvert_exporter": "python",
   "pygments_lexer": "ipython3",
   "version": "3.12.2"
  }
 },
 "nbformat": 4,
 "nbformat_minor": 5
}
