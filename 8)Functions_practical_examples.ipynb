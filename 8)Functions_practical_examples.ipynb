{
 "cells": [
  {
   "cell_type": "markdown",
   "id": "184594f7-fb08-4f49-94e2-bd845d500888",
   "metadata": {},
   "source": [
    "### Temperature conversion"
   ]
  },
  {
   "cell_type": "code",
   "execution_count": 1,
   "id": "928f07fa-067e-4f65-827e-e1407eda19a0",
   "metadata": {},
   "outputs": [],
   "source": [
    "def convert_temperature(temperature,unit):\n",
    "    \"\"\"This function converts temperature between celsius and fahrenheit units \"\"\"\n",
    "    if unit == 'C':\n",
    "        return temperature*9/5 + 32 #Celsius to fahrenheit\n",
    "    elif unit == 'F':\n",
    "        return (temperature-32)*5/9 # Fahrenheit to celsius\n",
    "    else:\n",
    "        return None"
   ]
  },
  {
   "cell_type": "code",
   "execution_count": 2,
   "id": "63f73813-ecf0-4021-9592-e8367a503794",
   "metadata": {},
   "outputs": [
    {
     "name": "stdout",
     "output_type": "stream",
     "text": [
      "25 degree celsius to Fahrenheit : 77.0\n",
      "90 degree Fahrenheit to Celsius :  32.22222222222222\n"
     ]
    }
   ],
   "source": [
    "print(\"25 degree celsius to Fahrenheit :\",convert_temperature(25,'C'))\n",
    "print(\"90 degree Fahrenheit to Celsius : \",convert_temperature(90,'F'))"
   ]
  },
  {
   "cell_type": "markdown",
   "id": "11058491-866f-4e0c-82e2-53dccfd94b97",
   "metadata": {},
   "source": [
    "### Password strength checker"
   ]
  },
  {
   "cell_type": "code",
   "execution_count": 3,
   "id": "e03a3524-7dd1-453b-82df-7d24806c8aa5",
   "metadata": {},
   "outputs": [],
   "source": [
    "def is_strong_password(password):\n",
    "    \"\"\" This function checks if password is strong or not \"\"\"\n",
    "    if len(password) < 8:\n",
    "        return False\n",
    "    if not any(char.isdigit() for char in password):\n",
    "        return False\n",
    "    if not any(char.islower() for char in password):\n",
    "        return False\n",
    "    if not any(char.isupper() for char in password):\n",
    "        return False\n",
    "    if not any(char in '!@#$%^&*_+' for char in password):\n",
    "        return False\n",
    "    return True"
   ]
  },
  {
   "cell_type": "code",
   "execution_count": 4,
   "id": "4f4536d1-247b-4535-b8a5-104be13f9784",
   "metadata": {},
   "outputs": [
    {
     "name": "stdout",
     "output_type": "stream",
     "text": [
      "False\n",
      "False\n",
      "False\n",
      "True\n"
     ]
    }
   ],
   "source": [
    "# Only lowercase characters\n",
    "print(is_strong_password(\"charan\"))\n",
    "\n",
    "# Uppercase and lowercase characters\n",
    "print(is_strong_password(\"Charan\"))\n",
    "\n",
    "# Uppercase,LowerCase and digits\n",
    "print(is_strong_password(\"Charan2001\"))\n",
    "\n",
    "# Uppercase,LowerCase,Digits and special character\n",
    "print(is_strong_password(\"Charan@2001\"))"
   ]
  },
  {
   "cell_type": "markdown",
   "id": "493cd48a-ac7d-487e-8dee-cb036b0e0d12",
   "metadata": {},
   "source": [
    "### Calculate the total cost of items in a shopping cart"
   ]
  },
  {
   "cell_type": "code",
   "execution_count": 5,
   "id": "29c9d69f-4aad-4a64-8ef5-71b07a59ba2a",
   "metadata": {},
   "outputs": [],
   "source": [
    "def calculate_total_cost(cart):\n",
    "    \"\"\" This function calaculates total cost of items in cart \"\"\"\n",
    "    total_cost = 0\n",
    "    for item in cart:\n",
    "        total_cost += item['price']*item['quantity']\n",
    "    return total_cost"
   ]
  },
  {
   "cell_type": "code",
   "execution_count": 6,
   "id": "9b434e19-1e3b-4152-834d-2d83fd3e6bbb",
   "metadata": {},
   "outputs": [
    {
     "name": "stdout",
     "output_type": "stream",
     "text": [
      "320\n"
     ]
    }
   ],
   "source": [
    "cart = [\n",
    "    {\n",
    "        'name': 'Apple',\n",
    "        'price' : 40,\n",
    "        'quantity' : 3\n",
    "    },\n",
    "    {\n",
    "        'name' : 'Orange',\n",
    "        'price' : 50,\n",
    "        'quantity' : 4\n",
    "    }\n",
    "]\n",
    "\n",
    "print(calculate_total_cost(cart))"
   ]
  },
  {
   "cell_type": "markdown",
   "id": "86cb184c-9155-4cb4-ad24-4ff6d1999db3",
   "metadata": {},
   "source": [
    "### Check if a string is palindrome"
   ]
  },
  {
   "cell_type": "code",
   "execution_count": null,
   "id": "d097176d-bb98-4e97-8fb1-dc944ebbf8fb",
   "metadata": {},
   "outputs": [],
   "source": []
  }
 ],
 "metadata": {
  "kernelspec": {
   "display_name": "Python 3 (ipykernel)",
   "language": "python",
   "name": "python3"
  },
  "language_info": {
   "codemirror_mode": {
    "name": "ipython",
    "version": 3
   },
   "file_extension": ".py",
   "mimetype": "text/x-python",
   "name": "python",
   "nbconvert_exporter": "python",
   "pygments_lexer": "ipython3",
   "version": "3.12.2"
  }
 },
 "nbformat": 4,
 "nbformat_minor": 5
}
