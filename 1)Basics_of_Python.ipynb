{
 "cells": [
  {
   "cell_type": "markdown",
   "id": "9a21f815-a0d9-4fdd-a57c-33d57f2c7c9c",
   "metadata": {},
   "source": [
    "# Syntax and Semantics\n",
    "\n",
    "Syntax is correct arrangements of words and symbols in a code. <br><br>Semantics refers to meaning or interpretation of symbols, characters and commands in a language. Semantics is all about what the code is supposed to do when it runs"
   ]
  },
  {
   "cell_type": "code",
   "execution_count": 1,
   "id": "0405130f-f4ec-4bad-9dfd-30e9ad84027d",
   "metadata": {},
   "outputs": [
    {
     "name": "stdout",
     "output_type": "stream",
     "text": [
      "Rohit\n",
      "Sharma\n"
     ]
    }
   ],
   "source": [
    "# Python is case sensitive\n",
    "\n",
    "name = \"Rohit\"\n",
    "Name = \"Sharma\"\n",
    "\n",
    "print(name)\n",
    "print(Name)"
   ]
  },
  {
   "cell_type": "code",
   "execution_count": 3,
   "id": "f951a3e4-fb14-4b51-8b79-3bc03b73f9ed",
   "metadata": {},
   "outputs": [
    {
     "name": "stdout",
     "output_type": "stream",
     "text": [
      "You are old\n"
     ]
    }
   ],
   "source": [
    "# Python uses indentation to define blocks (1 tab or 4 spaces)\n",
    "\n",
    "age = 22\n",
    "if age > 20:\n",
    "    print(\"You are old\")\n",
    "else:\n",
    "    print(\"You are young\")"
   ]
  },
  {
   "cell_type": "code",
   "execution_count": 4,
   "id": "4b340d77-6b12-4c61-ad9c-1f80c100efd9",
   "metadata": {},
   "outputs": [
    {
     "name": "stdout",
     "output_type": "stream",
     "text": [
      "28\n"
     ]
    }
   ],
   "source": [
    "# For line continuation, we can use \\\n",
    "\n",
    "total_score = 1 + 2 + 3 + 4 + 5  \\\n",
    "+ 6 + 7\n",
    "\n",
    "print(total_score)"
   ]
  },
  {
   "cell_type": "code",
   "execution_count": 5,
   "id": "85340b1f-a445-4558-b6d9-058df6d394c0",
   "metadata": {},
   "outputs": [
    {
     "name": "stdout",
     "output_type": "stream",
     "text": [
      "15\n"
     ]
    }
   ],
   "source": [
    "# We can have multiple statements in a single line\n",
    "\n",
    "x = 5;  y = 10;   z = x + y\n",
    "print(z)"
   ]
  },
  {
   "cell_type": "code",
   "execution_count": 10,
   "id": "de775642-ba04-4b7d-8d07-8b9135c014b4",
   "metadata": {},
   "outputs": [
    {
     "name": "stdout",
     "output_type": "stream",
     "text": [
      "<class 'int'>\n",
      "<class 'str'>\n",
      "<class 'str'>\n"
     ]
    }
   ],
   "source": [
    "# Assigning variables\n",
    "# Python uses dynamic typing i.e data type is decided during run time\n",
    "\n",
    "age = 22\n",
    "name = \"Charan\"\n",
    "\n",
    "print(type(age))\n",
    "print(type(name))\n",
    "\n",
    "age = \"older\"\n",
    "print(type(age))"
   ]
  },
  {
   "cell_type": "markdown",
   "id": "c34f21b7-7442-49ea-a8a8-1038b5095419",
   "metadata": {},
   "source": [
    "# Variables in Python"
   ]
  },
  {
   "cell_type": "code",
   "execution_count": 13,
   "id": "ad1e53ac-3542-4832-b2f8-58b9c10f3008",
   "metadata": {},
   "outputs": [
    {
     "name": "stdout",
     "output_type": "stream",
     "text": [
      "Age :  22   <class 'int'>\n",
      "Height :  5.9   <class 'float'>\n",
      "Name :  Charan   <class 'str'>\n",
      "Is student?  False   <class 'bool'>\n"
     ]
    }
   ],
   "source": [
    "# Declaring and assigning variables\n",
    "\n",
    "age = 22\n",
    "height = 5.9\n",
    "name = \"Charan\"\n",
    "is_student = False\n",
    "\n",
    "print(\"Age : \",age,\" \",type(age))\n",
    "print(\"Height : \",height,\" \",type(height))\n",
    "print(\"Name : \",name,\" \",type(name))\n",
    "print(\"Is student? \",is_student,\" \",type(is_student))"
   ]
  },
  {
   "cell_type": "code",
   "execution_count": null,
   "id": "7d9a555d-72e2-405f-91b6-78e961d25681",
   "metadata": {},
   "outputs": [],
   "source": []
  }
 ],
 "metadata": {
  "kernelspec": {
   "display_name": "Python 3 (ipykernel)",
   "language": "python",
   "name": "python3"
  },
  "language_info": {
   "codemirror_mode": {
    "name": "ipython",
    "version": 3
   },
   "file_extension": ".py",
   "mimetype": "text/x-python",
   "name": "python",
   "nbconvert_exporter": "python",
   "pygments_lexer": "ipython3",
   "version": "3.12.2"
  }
 },
 "nbformat": 4,
 "nbformat_minor": 5
}
