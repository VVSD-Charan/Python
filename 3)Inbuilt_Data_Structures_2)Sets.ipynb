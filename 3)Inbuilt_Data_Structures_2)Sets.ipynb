{
 "cells": [
  {
   "cell_type": "markdown",
   "id": "88470dec-8aa5-4bb9-944d-4bcb9360a326",
   "metadata": {},
   "source": [
    "# Sets\n",
    "\n",
    "Sets are in-built data type in Python used to store collections of unique items. Sets are unordered(donot follow a specific order while storing) and doesn't allow duplicate elements. Sets are useful for : \n",
    "\n",
    "<ul>\n",
    "    <li>Eliminating duplicate entries</li>\n",
    "    <li>Performing mathematical set operations like Union,Intersection,Difference,Symmetric difference</li>\n",
    "</ul>"
   ]
  },
  {
   "cell_type": "code",
   "execution_count": 1,
   "id": "5fafb6fd-ee71-4801-a611-5fad4dac97b6",
   "metadata": {},
   "outputs": [
    {
     "name": "stdout",
     "output_type": "stream",
     "text": [
      "{1, 2, 3, 4, 5}\n",
      "<class 'set'>\n"
     ]
    }
   ],
   "source": [
    "# Creating a set\n",
    "\n",
    "numbers = {1,2,3,4,5}\n",
    "print(numbers)\n",
    "print(type(numbers))"
   ]
  },
  {
   "cell_type": "code",
   "execution_count": 2,
   "id": "c5b246b3-af77-49c7-8e4e-c37ce79a0fac",
   "metadata": {},
   "outputs": [
    {
     "name": "stdout",
     "output_type": "stream",
     "text": [
      "<class 'set'>\n"
     ]
    }
   ],
   "source": [
    "my_empty_set = set()\n",
    "print(type(my_empty_set))"
   ]
  },
  {
   "cell_type": "code",
   "execution_count": 3,
   "id": "46fcb406-8866-4715-a383-5f693edcb713",
   "metadata": {},
   "outputs": [
    {
     "name": "stdout",
     "output_type": "stream",
     "text": [
      "{1, 2, 3, 4, 5, 6, 7}\n"
     ]
    }
   ],
   "source": [
    "# Duplicate elements will not be present in set\n",
    "\n",
    "my_set = set([1,2,3,4,5,6,7,3,2,1])\n",
    "print(my_set)"
   ]
  },
  {
   "cell_type": "code",
   "execution_count": 4,
   "id": "41b626dd-53f9-4197-8492-508bee4caf4c",
   "metadata": {},
   "outputs": [
    {
     "name": "stdout",
     "output_type": "stream",
     "text": [
      "{1, 2, 3, 4, 5, 6, 7, 8, 9}\n"
     ]
    }
   ],
   "source": [
    "# Elements will be stored in ascending order in set\n",
    "\n",
    "my_set = set([1,3,5,7,9,2,4,6,8,1,3])\n",
    "print(my_set)"
   ]
  },
  {
   "cell_type": "markdown",
   "id": "63e37719-73e2-4991-825f-03317a7843e7",
   "metadata": {},
   "source": [
    "### Adding and removing elements from set"
   ]
  },
  {
   "cell_type": "code",
   "execution_count": 5,
   "id": "01f48aa1-068d-450c-b627-ca28a3cade20",
   "metadata": {},
   "outputs": [
    {
     "name": "stdout",
     "output_type": "stream",
     "text": [
      "Before adding :  {1, 2, 3, 4, 5}\n",
      "After adding :  {1, 2, 3, 4, 5, 6}\n"
     ]
    }
   ],
   "source": [
    "my_set = set([1,2,3,4,5])\n",
    "\n",
    "print(\"Before adding : \",my_set)\n",
    "my_set.add(6)\n",
    "print(\"After adding : \",my_set)"
   ]
  },
  {
   "cell_type": "code",
   "execution_count": 6,
   "id": "c08e3682-1a80-42fa-bb89-38b7f8ddba12",
   "metadata": {},
   "outputs": [
    {
     "name": "stdout",
     "output_type": "stream",
     "text": [
      "After removing 3 :  {1, 2, 4, 5, 6}\n"
     ]
    }
   ],
   "source": [
    "my_set.remove(3)\n",
    "print(\"After removing 3 : \",my_set)"
   ]
  },
  {
   "cell_type": "code",
   "execution_count": 7,
   "id": "540955b7-0627-4587-a4b8-68139ba4db20",
   "metadata": {},
   "outputs": [
    {
     "ename": "KeyError",
     "evalue": "10",
     "output_type": "error",
     "traceback": [
      "\u001b[1;31m---------------------------------------------------------------------------\u001b[0m",
      "\u001b[1;31mKeyError\u001b[0m                                  Traceback (most recent call last)",
      "Cell \u001b[1;32mIn[7], line 4\u001b[0m\n\u001b[0;32m      1\u001b[0m \u001b[38;5;66;03m# Issue with remove method\u001b[39;00m\n\u001b[0;32m      2\u001b[0m \u001b[38;5;66;03m# If element is not in set,then we will get \"KeyError\"\u001b[39;00m\n\u001b[1;32m----> 4\u001b[0m \u001b[43mmy_set\u001b[49m\u001b[38;5;241;43m.\u001b[39;49m\u001b[43mremove\u001b[49m\u001b[43m(\u001b[49m\u001b[38;5;241;43m10\u001b[39;49m\u001b[43m)\u001b[49m\n",
      "\u001b[1;31mKeyError\u001b[0m: 10"
     ]
    }
   ],
   "source": [
    "# Issue with remove method\n",
    "# If element is not in set,then we will get \"KeyError\"\n",
    "\n",
    "my_set.remove(10)"
   ]
  },
  {
   "cell_type": "code",
   "execution_count": 8,
   "id": "b56523ac-8fee-4b2c-b2f9-fcbd046eabba",
   "metadata": {},
   "outputs": [],
   "source": [
    "# So we can use discard method as an alternative\n",
    "# Discard method removes element if it is present otherwise no error is given\n",
    "\n",
    "my_set.discard(10)"
   ]
  },
  {
   "cell_type": "code",
   "execution_count": 9,
   "id": "e593b5a4-681c-4cf3-808b-6730f9d70d3c",
   "metadata": {},
   "outputs": [
    {
     "name": "stdout",
     "output_type": "stream",
     "text": [
      "Removed element is :  1\n",
      "Set after removing first element :  {2, 4, 5, 6}\n"
     ]
    }
   ],
   "source": [
    "# First element will be removed from the set if pop is used\n",
    "\n",
    "removed_element = my_set.pop()\n",
    "print(\"Removed element is : \",removed_element)\n",
    "print(\"Set after removing first element : \",my_set)"
   ]
  },
  {
   "cell_type": "code",
   "execution_count": 10,
   "id": "0a84d8e4-c6ba-4b94-b42d-f71078230635",
   "metadata": {},
   "outputs": [
    {
     "name": "stdout",
     "output_type": "stream",
     "text": [
      "set()\n"
     ]
    }
   ],
   "source": [
    "# Removinf all elements from set\n",
    "\n",
    "my_set.clear()\n",
    "print(my_set)"
   ]
  },
  {
   "cell_type": "markdown",
   "id": "2f8ba1f6-a98f-4fbc-bf19-5214dfb66d9c",
   "metadata": {},
   "source": [
    "### Membership Test"
   ]
  },
  {
   "cell_type": "code",
   "execution_count": 11,
   "id": "7513eede-2e9e-4638-a059-eddba7eedb62",
   "metadata": {},
   "outputs": [
    {
     "name": "stdout",
     "output_type": "stream",
     "text": [
      "Is 3 present in set ?  True\n",
      "Is 10 present in set ? False\n"
     ]
    }
   ],
   "source": [
    "my_set = set([1,2,3,4,5,6])\n",
    "print(\"Is 3 present in set ? \",3 in my_set)\n",
    "print(\"Is 10 present in set ?\",10 in my_set)"
   ]
  },
  {
   "cell_type": "markdown",
   "id": "87ce8f9e-5f40-406d-be4a-437d582a62ca",
   "metadata": {},
   "source": [
    "### Mathematical operations on sets"
   ]
  },
  {
   "cell_type": "code",
   "execution_count": 12,
   "id": "8dcf8563-2a22-4a30-a0df-68531b5a3e6d",
   "metadata": {},
   "outputs": [],
   "source": [
    "set1 = {1,2,3,4,5,6}\n",
    "set2 = {4,5,6,7,8,9}"
   ]
  },
  {
   "cell_type": "code",
   "execution_count": 13,
   "id": "7a694a58-cd35-41fc-a67b-e687269f23b0",
   "metadata": {},
   "outputs": [
    {
     "name": "stdout",
     "output_type": "stream",
     "text": [
      "{1, 2, 3, 4, 5, 6, 7, 8, 9}\n"
     ]
    }
   ],
   "source": [
    "# Union\n",
    "\n",
    "union_set = set1.union(set2)\n",
    "print(union_set)"
   ]
  },
  {
   "cell_type": "code",
   "execution_count": 14,
   "id": "44db7c0f-8431-4473-a073-60e8f0917c16",
   "metadata": {},
   "outputs": [
    {
     "name": "stdout",
     "output_type": "stream",
     "text": [
      "{4, 5, 6}\n"
     ]
    }
   ],
   "source": [
    "# Intersection\n",
    "\n",
    "intersection_set = set1.intersection(set2)\n",
    "print(intersection_set)"
   ]
  },
  {
   "cell_type": "code",
   "execution_count": 15,
   "id": "edba8f52-9c18-4599-9c94-97c3614075f9",
   "metadata": {},
   "outputs": [
    {
     "name": "stdout",
     "output_type": "stream",
     "text": [
      "Set1 before intersection update :  {1, 2, 3, 4, 5, 6}\n",
      "Set1 after intersection update :  {4, 5, 6}\n"
     ]
    }
   ],
   "source": [
    "# Intersection update\n",
    "# It takes out intersection set and updates the original set\n",
    "\n",
    "print(\"Set1 before intersection update : \",set1)\n",
    "set1.intersection_update(set2)\n",
    "print(\"Set1 after intersection update : \",set1)"
   ]
  },
  {
   "cell_type": "code",
   "execution_count": 17,
   "id": "62472384-a01d-4a50-8064-7181dcb6da77",
   "metadata": {},
   "outputs": [
    {
     "name": "stdout",
     "output_type": "stream",
     "text": [
      "{1, 2, 3}\n"
     ]
    }
   ],
   "source": [
    "# Difference of sets\n",
    "set1 = {1,2,3,4,5,6}\n",
    "set2 = {4,5,6,7,8,9}\n",
    "\n",
    "difference_set = set1.difference(set2)\n",
    "print(difference_set)"
   ]
  },
  {
   "cell_type": "code",
   "execution_count": 18,
   "id": "cca3f1a7-c5d6-4209-b47d-80969153c80a",
   "metadata": {},
   "outputs": [
    {
     "name": "stdout",
     "output_type": "stream",
     "text": [
      "{1, 2, 3, 7, 8, 9}\n"
     ]
    }
   ],
   "source": [
    "# Symmetric difference\n",
    "# It is union of UNIQUE elements in sets.\n",
    "# Common elements are removed\n",
    "\n",
    "symmetric_difference_set = set1.symmetric_difference(set2)\n",
    "print(symmetric_difference_set)"
   ]
  },
  {
   "cell_type": "markdown",
   "id": "b028434e-d7ae-47b7-9250-54527a65d917",
   "metadata": {},
   "source": [
    "### Sets methods"
   ]
  },
  {
   "cell_type": "code",
   "execution_count": 19,
   "id": "47eb2319-7dc5-4ad3-9875-19a8adb6cfe7",
   "metadata": {},
   "outputs": [
    {
     "name": "stdout",
     "output_type": "stream",
     "text": [
      "False\n"
     ]
    }
   ],
   "source": [
    "set1 = {1,2,3,4,5}\n",
    "set2 = {3,4,5}\n",
    "\n",
    "print(set1.issubset(set2))"
   ]
  },
  {
   "cell_type": "code",
   "execution_count": 20,
   "id": "4a9ebdf5-46f6-461b-a21a-9c48ae4a524c",
   "metadata": {},
   "outputs": [
    {
     "name": "stdout",
     "output_type": "stream",
     "text": [
      "True\n"
     ]
    }
   ],
   "source": [
    "print(set1.issuperset(set2))"
   ]
  },
  {
   "cell_type": "markdown",
   "id": "06ff9511-7dab-4efc-a494-4e88dc3c8dbb",
   "metadata": {},
   "source": [
    "### Some applications of set"
   ]
  },
  {
   "cell_type": "code",
   "execution_count": 21,
   "id": "e527e5f7-ccc8-4794-a650-2ed12dbbc8e2",
   "metadata": {},
   "outputs": [
    {
     "data": {
      "text/plain": [
       "{1, 2, 3, 4, 5, 6}"
      ]
     },
     "execution_count": 21,
     "metadata": {},
     "output_type": "execute_result"
    }
   ],
   "source": [
    "# Removing duplicate elements from list\n",
    "\n",
    "numbers = [1,2,4,5,3,6,2,3,1,4]\n",
    "set(numbers)"
   ]
  },
  {
   "cell_type": "code",
   "execution_count": 26,
   "id": "8e2f0018-182a-4310-8e7c-0a5a696c069e",
   "metadata": {},
   "outputs": [
    {
     "name": "stdout",
     "output_type": "stream",
     "text": [
      "Unique words in sentence are :  {'captains', 'best', 'Ricky', 'is', 'of', 'one', 'the', 'in', 'world', 'Ponting'}\n",
      "Total unique words :  10\n"
     ]
    }
   ],
   "source": [
    "# Counting unique words in the list\n",
    "\n",
    "text = \"Ricky Ponting is one of the best captains in the world\"\n",
    "words = text.split()\n",
    "\n",
    "unique_words = set(words)\n",
    "\n",
    "print(\"Unique words in sentence are : \",unique_words)\n",
    "print(\"Total unique words : \",len(unique_words))"
   ]
  }
 ],
 "metadata": {
  "kernelspec": {
   "display_name": "Python 3 (ipykernel)",
   "language": "python",
   "name": "python3"
  },
  "language_info": {
   "codemirror_mode": {
    "name": "ipython",
    "version": 3
   },
   "file_extension": ".py",
   "mimetype": "text/x-python",
   "name": "python",
   "nbconvert_exporter": "python",
   "pygments_lexer": "ipython3",
   "version": "3.12.2"
  }
 },
 "nbformat": 4,
 "nbformat_minor": 5
}
