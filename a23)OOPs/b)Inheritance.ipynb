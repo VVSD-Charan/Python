{
 "cells": [
  {
   "cell_type": "markdown",
   "id": "31a83ecb-60e6-4a8a-8317-2272ad215966",
   "metadata": {},
   "source": [
    "# Inheritance\n",
    "\n",
    "Inheritance allows a class to inherit attributes and methods from another class."
   ]
  },
  {
   "cell_type": "markdown",
   "id": "b2a04950-6f58-4487-8d99-f42a92c32ca3",
   "metadata": {},
   "source": [
    "### Single inheritance"
   ]
  },
  {
   "cell_type": "code",
   "execution_count": 3,
   "id": "cfcecdef-ef56-4a9f-8e12-df92c59ec022",
   "metadata": {},
   "outputs": [],
   "source": [
    "# Parent class\n",
    "class Car:\n",
    "    def __init__(self,windows,doors,enginetype):\n",
    "        self.windows = windows\n",
    "        self.doors = doors\n",
    "        self.enginetype = enginetype\n",
    "\n",
    "    def drive(self):\n",
    "        print(f\"The person will drive {self.enginetype} car\")"
   ]
  },
  {
   "cell_type": "code",
   "execution_count": 2,
   "id": "d49f9e81-011c-4d2a-a800-c749c9965c30",
   "metadata": {},
   "outputs": [
    {
     "name": "stdout",
     "output_type": "stream",
     "text": [
      "The person will drive petrol car\n"
     ]
    }
   ],
   "source": [
    "car1 = Car(4,5,\"petrol\")\n",
    "car1.drive()"
   ]
  },
  {
   "cell_type": "code",
   "execution_count": 4,
   "id": "25693342-849e-4940-af27-861073c49f2d",
   "metadata": {},
   "outputs": [],
   "source": [
    "# Child class\n",
    "class Tesla(Car):\n",
    "    def __init__(self,windows,doors,enginetype,is_self_driving):\n",
    "        super().__init__(windows,doors,enginetype)\n",
    "        self.is_self_driving = is_self_driving\n",
    "        \n",
    "    def self_driving(self):\n",
    "        print(f\"Tesla supports self driving ? {self.is_self_driving}\")"
   ]
  },
  {
   "cell_type": "code",
   "execution_count": 9,
   "id": "32e6a1f5-c52c-4949-88a6-359b849e44d0",
   "metadata": {},
   "outputs": [
    {
     "name": "stdout",
     "output_type": "stream",
     "text": [
      "Tesla supports self driving ? True\n",
      "4\n",
      "5\n",
      "electric\n"
     ]
    }
   ],
   "source": [
    "tesla1 = Tesla(4,5,\"electric\",True)\n",
    "tesla1.self_driving()\n",
    "print(tesla1.windows)\n",
    "print(tesla1.doors)\n",
    "print(tesla1.enginetype)"
   ]
  },
  {
   "cell_type": "markdown",
   "id": "83bc010f-d8c1-4e17-91ea-5fa28b95f1f5",
   "metadata": {},
   "source": [
    "### Multiple inheritance"
   ]
  },
  {
   "cell_type": "code",
   "execution_count": 16,
   "id": "65fd6193-0f1c-4b61-911f-8c1e91da3a94",
   "metadata": {},
   "outputs": [],
   "source": [
    "#Parent class 1\n",
    "class Animal:\n",
    "    def __init__(self,name):\n",
    "        self.name = name\n",
    "\n",
    "    def speak(self):\n",
    "        print(\"This method must be implemented by subclass\")"
   ]
  },
  {
   "cell_type": "code",
   "execution_count": 14,
   "id": "12400f25-8eec-4b66-8576-77fb4f7f82fc",
   "metadata": {},
   "outputs": [],
   "source": [
    "#Parent class 2\n",
    "class Pet:\n",
    "    def __init__(self,owner):\n",
    "        self.owner = owner"
   ]
  },
  {
   "cell_type": "code",
   "execution_count": 15,
   "id": "fabff6e3-9a54-4dd4-80d0-39526734fa5e",
   "metadata": {},
   "outputs": [],
   "source": [
    "# Child class (Derived class)\n",
    "class Dog(Animal,Pet):\n",
    "    def __init__(self,name,owner):\n",
    "        Animal.__init__(self,name)\n",
    "        Pet.__init__(self,owner)\n",
    "\n",
    "    def speak(self):\n",
    "        return f\"{self.name} says woof\""
   ]
  },
  {
   "cell_type": "code",
   "execution_count": 18,
   "id": "6f4c3285-2143-4d51-bd99-75c8bf546ce9",
   "metadata": {},
   "outputs": [
    {
     "name": "stdout",
     "output_type": "stream",
     "text": [
      "Don says woof\n",
      "Owner : Charan\n"
     ]
    }
   ],
   "source": [
    "dog = Dog(\"Don\",\"Charan\")\n",
    "print(dog.speak())\n",
    "print(f\"Owner : {dog.owner}\")"
   ]
  }
 ],
 "metadata": {
  "kernelspec": {
   "display_name": "Python 3 (ipykernel)",
   "language": "python",
   "name": "python3"
  },
  "language_info": {
   "codemirror_mode": {
    "name": "ipython",
    "version": 3
   },
   "file_extension": ".py",
   "mimetype": "text/x-python",
   "name": "python",
   "nbconvert_exporter": "python",
   "pygments_lexer": "ipython3",
   "version": "3.12.2"
  }
 },
 "nbformat": 4,
 "nbformat_minor": 5
}
