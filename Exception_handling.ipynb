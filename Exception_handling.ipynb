{
 "cells": [
  {
   "cell_type": "code",
   "execution_count": 1,
   "id": "fac10a84-d3f7-465a-8570-951cc8cdebac",
   "metadata": {},
   "outputs": [
    {
     "name": "stdout",
     "output_type": "stream",
     "text": [
      "name 'b' is not defined\n"
     ]
    }
   ],
   "source": [
    "# Handling NameError\n",
    "\n",
    "try:\n",
    "    a = b\n",
    "    print(a)\n",
    "except NameError as ex:\n",
    "    print(ex)"
   ]
  },
  {
   "cell_type": "code",
   "execution_count": 2,
   "id": "96030726-8f62-4834-b2bd-0a661538974d",
   "metadata": {},
   "outputs": [
    {
     "name": "stdout",
     "output_type": "stream",
     "text": [
      "division by zero\n",
      "Denominator must be greater than zero\n"
     ]
    }
   ],
   "source": [
    "# Handling Zero Division error\n",
    "\n",
    "try:\n",
    "    answer = 100/0\n",
    "except ZeroDivisionError as ex:\n",
    "    print(ex)\n",
    "    print(\"Denominator must be greater than zero\")"
   ]
  },
  {
   "cell_type": "code",
   "execution_count": 3,
   "id": "b1aa471d-1678-4733-9785-ff03361c0684",
   "metadata": {},
   "outputs": [
    {
     "name": "stdout",
     "output_type": "stream",
     "text": [
      "Exception : division by zero\n"
     ]
    }
   ],
   "source": [
    "# Handling all errors\n",
    "\n",
    "try:\n",
    "    answer = 100/0\n",
    "except NameError as ex:\n",
    "    print(f\"NameError : {ex}\")\n",
    "except Exception as ex1:\n",
    "    print(f\"Exception : {ex1}\")"
   ]
  },
  {
   "cell_type": "code",
   "execution_count": 4,
   "id": "08306a2c-c17d-49c1-b4f4-e3016208cb07",
   "metadata": {},
   "outputs": [
    {
     "name": "stdin",
     "output_type": "stream",
     "text": [
      "Enter a number 0\n"
     ]
    },
    {
     "name": "stdout",
     "output_type": "stream",
     "text": [
      "Zero Division error : division by zero\n"
     ]
    }
   ],
   "source": [
    "# Handling multiple errors\n",
    "\n",
    "try:\n",
    "    number = int(input(\"Enter a number\"))\n",
    "    result = 10 / number\n",
    "    print(result)\n",
    "except ValueError as ex1:\n",
    "    print(f\"ValueError : {ex1}\")\n",
    "except ZeroDivisionError as ex2:\n",
    "    print(f\"Zero Division error : {ex2}\")"
   ]
  },
  {
   "cell_type": "code",
   "execution_count": 7,
   "id": "ffd15677-54c6-48b5-a69d-aa38b3d0c8d9",
   "metadata": {},
   "outputs": [
    {
     "name": "stdin",
     "output_type": "stream",
     "text": [
      "Enter a number :  3\n"
     ]
    },
    {
     "name": "stdout",
     "output_type": "stream",
     "text": [
      "If this executed perfectly, then this goes to else\n",
      "In the else block. This is executed because there was no error!\n",
      "Result is 3.3333333333333335\n"
     ]
    }
   ],
   "source": [
    "# Using else block which executes if code is executed perfelctly in try block\n",
    "\n",
    "try:\n",
    "    number = int(input(\"Enter a number : \"))\n",
    "    result = (10/number)\n",
    "    print(\"If this executed perfectly, then this goes to else\")\n",
    "except ValueError as ex1:\n",
    "    print(f\"ValueError : {ex1}\")\n",
    "except ZeroDivisionError as ex2:\n",
    "    print(f\"Zero Division Error : {ex2}\")\n",
    "else:\n",
    "    print(\"In the else block. This is executed because there was no error!\")\n",
    "    print(f\"Result is {result}\")"
   ]
  },
  {
   "cell_type": "code",
   "execution_count": 9,
   "id": "52e25122-ed8d-43c0-a0f0-168da512ea3d",
   "metadata": {},
   "outputs": [
    {
     "name": "stdin",
     "output_type": "stream",
     "text": [
      "Enter a number :  0\n"
     ]
    },
    {
     "name": "stdout",
     "output_type": "stream",
     "text": [
      "Zero Division Error : division by zero\n",
      "Into the finally block.No matter whether code has error or not, this will be executed\n",
      "Code execution complete\n"
     ]
    }
   ],
   "source": [
    "# Finally block\n",
    "\n",
    "try:\n",
    "    number = int(input(\"Enter a number : \"))\n",
    "    result = 10/number\n",
    "    print(\"If there is no error we are safe to move to else block\")\n",
    "except ValueError as ex1:\n",
    "    print(f\"ValueError : {ex1}\")\n",
    "except ZeroDivisionError as ex2:\n",
    "    print(f\"Zero Division Error : {ex2}\")\n",
    "else:\n",
    "    print(\"Into the else block since there is no error in node\")\n",
    "    print(f\"Result is {result}\")\n",
    "finally:\n",
    "    print(\"Into the finally block.No matter whether code has error or not, this will be executed\")\n",
    "    print(\"Code execution complete\")"
   ]
  },
  {
   "cell_type": "code",
   "execution_count": 12,
   "id": "f1ff3e6d-cdd1-488f-885b-d9cc9910a606",
   "metadata": {},
   "outputs": [
    {
     "name": "stdout",
     "output_type": "stream",
     "text": [
      "File closed\n"
     ]
    }
   ],
   "source": [
    "# Combining exception and file handling\n",
    "\n",
    "try:\n",
    "    file = open('sample.txt','r')\n",
    "    content = file.read()\n",
    "except FileNotFoundError as ex1:\n",
    "    print(f\"FileNotFoundError : {ex1}\")\n",
    "finally:\n",
    "    if 'file' in locals() or not file.closed():\n",
    "        file.close()\n",
    "        print(\"File closed\")"
   ]
  }
 ],
 "metadata": {
  "kernelspec": {
   "display_name": "Python 3 (ipykernel)",
   "language": "python",
   "name": "python3"
  },
  "language_info": {
   "codemirror_mode": {
    "name": "ipython",
    "version": 3
   },
   "file_extension": ".py",
   "mimetype": "text/x-python",
   "name": "python",
   "nbconvert_exporter": "python",
   "pygments_lexer": "ipython3",
   "version": "3.12.2"
  }
 },
 "nbformat": 4,
 "nbformat_minor": 5
}
