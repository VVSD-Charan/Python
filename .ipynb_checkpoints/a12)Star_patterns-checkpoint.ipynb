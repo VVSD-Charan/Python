{
 "cells": [
  {
   "cell_type": "code",
   "execution_count": 1,
   "id": "54007e8e-1dd2-4337-b3c1-96b8b038856a",
   "metadata": {},
   "outputs": [
    {
     "name": "stdout",
     "output_type": "stream",
     "text": [
      "*****\n",
      "*****\n",
      "*****\n",
      "*****\n",
      "*****\n"
     ]
    }
   ],
   "source": [
    "def generate_square(n):\n",
    "    \"\"\"\n",
    "    Function to return a square pattern of '*' of side n as a list of strings.\n",
    "    \n",
    "    Parameters:\n",
    "    n (int): The size of the square.\n",
    "    \n",
    "    Returns:\n",
    "    list: A list of strings where each string represents a row of the square.\n",
    "    \"\"\"\n",
    "    # Your code here\n",
    "    str = \"\"\n",
    "    for i in range(n):\n",
    "        str += \"*\"\n",
    "    \n",
    "    arr = [str for i in range(n)]\n",
    "    return arr\n",
    "\n",
    "array = generate_square(5)\n",
    "\n",
    "for row in array:\n",
    "    print(row)"
   ]
  },
  {
   "cell_type": "code",
   "execution_count": 2,
   "id": "a114e3b3-e554-4460-bcde-48100034eff2",
   "metadata": {},
   "outputs": [
    {
     "name": "stdout",
     "output_type": "stream",
     "text": [
      "*****\n",
      "*   *\n",
      "*   *\n",
      "*   *\n",
      "*****\n"
     ]
    }
   ],
   "source": [
    "def generate_hollow_square(n):\n",
    "    \"\"\"\n",
    "    Function to return a hollow square pattern of '*' of side n as a list of strings.\n",
    "    \n",
    "    Parameters:\n",
    "    n (int): The size of the square.\n",
    "    \n",
    "    Returns:\n",
    "    list: A list of strings where each string represents a row of the hollow square.\n",
    "    \"\"\"\n",
    "    # Your code here\n",
    "    if n == 1:\n",
    "        return [\"*\"]\n",
    "    if n == 2:\n",
    "        return [\"**\",\"**\"]\n",
    "        \n",
    "    complete_square = \"\"\n",
    "    hollow_sqaure = \"\"\n",
    "    \n",
    "    for i in range(n):\n",
    "        complete_square += \"*\"\n",
    "        if i == 0 or i == n-1:\n",
    "            hollow_sqaure += \"*\"\n",
    "        else:\n",
    "            hollow_sqaure += \" \"\n",
    "            \n",
    "    array = [complete_square]\n",
    "    \n",
    "    for i in range(n-2):\n",
    "        array.append(hollow_sqaure)\n",
    "    array.append(complete_square)\n",
    "    \n",
    "    return array;\n",
    "\n",
    "array = generate_hollow_square(5)\n",
    "\n",
    "for row in array:\n",
    "    print(row)"
   ]
  },
  {
   "cell_type": "code",
   "execution_count": 3,
   "id": "edab4f7e-c935-4902-8140-005a79c8de26",
   "metadata": {},
   "outputs": [
    {
     "name": "stdout",
     "output_type": "stream",
     "text": [
      "******\n",
      "******\n",
      "******\n",
      "******\n",
      "******\n"
     ]
    }
   ],
   "source": [
    "def generate_rectangle(n, m):\n",
    "    \"\"\"\n",
    "    Function to return a rectangle pattern of '*' with length n and breadth m as a list of strings.\n",
    "    \n",
    "    Parameters:\n",
    "    n (int): The number of rows in the rectangle.\n",
    "    m (int): The number of columns in the rectangle.\n",
    "    \n",
    "    Returns:\n",
    "    list: A list of strings where each string represents a row of the rectangle pattern.\n",
    "    \"\"\"\n",
    "    # Your code here\n",
    "    row_string = \"\"\n",
    "    for i in range (m):\n",
    "        row_string += \"*\"\n",
    "    array = [row_string for i in range(n)]\n",
    "    return array\n",
    "\n",
    "array = generate_rectangle(5,6)\n",
    "\n",
    "for row in array:\n",
    "    print(row)"
   ]
  },
  {
   "cell_type": "code",
   "execution_count": 4,
   "id": "15c47a70-dde0-4f0f-b3e6-37a00bfdf9b8",
   "metadata": {},
   "outputs": [
    {
     "name": "stdout",
     "output_type": "stream",
     "text": [
      "*\n",
      "**\n",
      "***\n",
      "****\n",
      "*****\n"
     ]
    }
   ],
   "source": [
    "def generate_triangle(n):\n",
    "    \"\"\"\n",
    "    Function to return a right-angled triangle of '*' of side n as a list of strings.\n",
    "    \n",
    "    Parameters:\n",
    "    n (int): The height and base of the triangle.\n",
    "    \n",
    "    Returns:\n",
    "    list: A list of strings where each string represents a row of the triangle.\n",
    "    \"\"\"\n",
    "    # Your code here\n",
    "    array = []\n",
    "    for row in range(n):\n",
    "        string = \"\"\n",
    "        for col in range(row+1):\n",
    "            string += \"*\"\n",
    "        array.append(string)\n",
    "    return array\n",
    "\n",
    "array = generate_triangle(5)\n",
    "\n",
    "for row in array:\n",
    "    print(row)"
   ]
  },
  {
   "cell_type": "code",
   "execution_count": 5,
   "id": "b1266539-3526-4ac7-8f66-91af3d593253",
   "metadata": {},
   "outputs": [
    {
     "name": "stdout",
     "output_type": "stream",
     "text": [
      "*****\n",
      "****\n",
      "***\n",
      "**\n",
      "*\n"
     ]
    }
   ],
   "source": [
    "def generate_inverted_triangle(n):\n",
    "    \"\"\"\n",
    "    Function to return an inverted right-angled triangle of '*' of side n as a list of strings.\n",
    "    \n",
    "    Parameters:\n",
    "    n (int): The height and base of the triangle.\n",
    "    \n",
    "    Returns:\n",
    "    list: A list of strings where each string represents a row of the triangle.\n",
    "    \"\"\"\n",
    "    # Your code here\n",
    "    array = []\n",
    "    for row in range(n):\n",
    "        string = \"\"\n",
    "        for col in range(n-row):\n",
    "            string += \"*\"\n",
    "        array.append(string)\n",
    "    return array\n",
    "\n",
    "array = generate_inverted_triangle(5)\n",
    "for row in array:\n",
    "    print(row)"
   ]
  },
  {
   "cell_type": "code",
   "execution_count": 6,
   "id": "9c622a4a-9442-4fb4-bdab-12ec3f6176cc",
   "metadata": {},
   "outputs": [
    {
     "name": "stdout",
     "output_type": "stream",
     "text": [
      "    *    \n",
      "   ***   \n",
      "  *****  \n",
      " ******* \n",
      "*********\n"
     ]
    }
   ],
   "source": [
    "def generate_pyramid(n):\n",
    "    \"\"\"\n",
    "    Function to return a pyramid pattern of '*' of side n as a list of strings.\n",
    "    \n",
    "    Parameters:\n",
    "    n (int): The number of rows in the pyramid.\n",
    "    \n",
    "    Returns:\n",
    "    list: A list of strings where each string represents a row of the pyramid.\n",
    "    \"\"\"\n",
    "    # Your code here\n",
    "    array = []\n",
    "    for row in range(n):\n",
    "        string = \"\"\n",
    "        remaining = n - 1 - row\n",
    "        while remaining > 0:\n",
    "            string += \" \"\n",
    "            remaining -= 1\n",
    "        for col in range(row):\n",
    "            string += \"*\"\n",
    "        array.append(string)\n",
    "\n",
    "    for row in range(n):\n",
    "        array[row] = array[row]+\"*\"+array[row][::-1]\n",
    "    return array\n",
    "        \n",
    "\n",
    "array = generate_pyramid(5)\n",
    "for row in array:\n",
    "    print(row)"
   ]
  },
  {
   "cell_type": "code",
   "execution_count": 7,
   "id": "ae419d05-5e13-4134-8746-810ba8f96d3b",
   "metadata": {},
   "outputs": [
    {
     "name": "stdout",
     "output_type": "stream",
     "text": [
      "*********\n",
      " ******* \n",
      "  *****  \n",
      "   ***   \n",
      "    *    \n"
     ]
    }
   ],
   "source": [
    "def generate_inverted_pyramid(n):\n",
    "    \"\"\"\n",
    "    Function to return an inverted pyramid pattern of '*' of side n as a list of strings.\n",
    "    \n",
    "    Parameters:\n",
    "    n (int): The number of rows in the inverted pyramid.\n",
    "    \n",
    "    Returns:\n",
    "    list: A list of strings where each string represents a row of the inverted pyramid.\n",
    "    \"\"\"\n",
    "    # Your code here\n",
    "    array = []\n",
    "    for row in range(n):\n",
    "        remaining = n - row - 1\n",
    "        string = \"\"\n",
    "        for col in range(row):\n",
    "            string += \" \"\n",
    "        while remaining:\n",
    "            string += \"*\"\n",
    "            remaining -= 1\n",
    "        array.append(string)\n",
    "    for i in range(n):\n",
    "        array[i] = array[i] + \"*\" + array[i][::-1]\n",
    "    return array\n",
    "\n",
    "array = generate_inverted_pyramid(5)\n",
    "for row in array:\n",
    "    print(row)"
   ]
  },
  {
   "cell_type": "code",
   "execution_count": 8,
   "id": "997c12e7-8fe0-4e43-bc94-fb033a5ff6e7",
   "metadata": {},
   "outputs": [
    {
     "name": "stdout",
     "output_type": "stream",
     "text": [
      "1\n",
      "22\n",
      "333\n",
      "4444\n",
      "55555\n"
     ]
    }
   ],
   "source": [
    "def generate_number_triangle(n):\n",
    "    \"\"\"\n",
    "    Function to return a right-angled triangle of repeated numbers of side n as a list of strings.\n",
    "    \n",
    "    Parameters:\n",
    "    n (int): The height of the triangle.\n",
    "    \n",
    "    Returns:\n",
    "    list: A list of strings where each string represents a row of the triangle.\n",
    "    \"\"\"\n",
    "    # Your code here\n",
    "    array = []\n",
    "    for row in range(n):\n",
    "        string = \"\"\n",
    "        number = str(row+1)\n",
    "        for col in range(row+1):\n",
    "            string += number\n",
    "        array.append(string)\n",
    "    return array\n",
    "\n",
    "array = generate_number_triangle(5)\n",
    "for row in array:\n",
    "    print(row)"
   ]
  },
  {
   "cell_type": "code",
   "execution_count": 10,
   "id": "75f14708-c756-433d-ad09-e836f7eaabd2",
   "metadata": {},
   "outputs": [
    {
     "name": "stdout",
     "output_type": "stream",
     "text": [
      "1\n",
      "2 3\n",
      "4 5 6\n",
      "7 8 9 10\n",
      "11 12 13 14 15\n"
     ]
    }
   ],
   "source": [
    "def generate_floyds_triangle(n):\n",
    "    \"\"\"\n",
    "    Function to return the first n rows of Floyd's Triangle as a list of strings.\n",
    "    \n",
    "    Parameters:\n",
    "    n (int): The number of rows in the triangle.\n",
    "    \n",
    "    Returns:\n",
    "    list: A list of strings where each string represents a row of Floyd's Triangle.\n",
    "    \"\"\"\n",
    "    # Your code here\n",
    "    array = []\n",
    "    number = 1\n",
    "    for row in range(n):\n",
    "        string = \"\"\n",
    "        for col in range(row+1):\n",
    "            string += str(number)\n",
    "            number += 1\n",
    "            if col != row:\n",
    "                string += \" \"\n",
    "        array.append(string)\n",
    "    return array\n",
    "\n",
    "array = generate_floyds_triangle(5)\n",
    "for row in array:\n",
    "    print(row)"
   ]
  },
  {
   "cell_type": "code",
   "execution_count": 13,
   "id": "9e484dc0-5cb4-4e91-9953-676887286ac5",
   "metadata": {},
   "outputs": [
    {
     "name": "stdout",
     "output_type": "stream",
     "text": [
      "    *    \n",
      "   ***   \n",
      "  *****  \n",
      " ******* \n",
      "*********\n",
      " ******* \n",
      "  *****  \n",
      "   ***   \n",
      "    *    \n"
     ]
    }
   ],
   "source": [
    "def generate_triangle_helper(n):\n",
    "    \"\"\"\n",
    "    This function is a helper function to generate_diamond() function\n",
    "    \"\"\"\n",
    "    array = []\n",
    "    for row in range(n):\n",
    "        string = \"\"\n",
    "        remaining = n - row - 1\n",
    "        while remaining > 0:\n",
    "            string += \" \"\n",
    "            remaining -= 1\n",
    "        for col in range(row):\n",
    "            string += \"*\"\n",
    "        array.append(string)\n",
    "\n",
    "    for i in range(n):\n",
    "        array[i] = array[i]+\"*\"+array[i][::-1]\n",
    "    return array\n",
    "\n",
    "def generate_diamond(n):\n",
    "    \"\"\"\n",
    "    Function to return a diamond pattern of '*' of side n as a list of strings.\n",
    "    \n",
    "    Parameters:\n",
    "    n (int): The number of rows for the upper part of the diamond.\n",
    "    \n",
    "    Returns:\n",
    "    list: A list of strings where each string represents a row of the diamond.\n",
    "    \"\"\"\n",
    "    # Your code here\n",
    "    array = generate_triangle_helper(n)\n",
    "    for i in range(n-2,-1,-1):\n",
    "        array.append(array[i])\n",
    "    return array;\n",
    "\n",
    "array = generate_diamond(5)\n",
    "for row in array:\n",
    "    print(row)"
   ]
  }
 ],
 "metadata": {
  "kernelspec": {
   "display_name": "Python 3 (ipykernel)",
   "language": "python",
   "name": "python3"
  },
  "language_info": {
   "codemirror_mode": {
    "name": "ipython",
    "version": 3
   },
   "file_extension": ".py",
   "mimetype": "text/x-python",
   "name": "python",
   "nbconvert_exporter": "python",
   "pygments_lexer": "ipython3",
   "version": "3.12.2"
  }
 },
 "nbformat": 4,
 "nbformat_minor": 5
}
