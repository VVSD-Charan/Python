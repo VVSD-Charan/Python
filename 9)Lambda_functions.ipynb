{
 "cells": [
  {
   "cell_type": "markdown",
   "id": "46b7f894-385d-4353-b38b-45ddf32d289d",
   "metadata": {},
   "source": [
    "# Lambda functions in python\n",
    "\n",
    "Lamda functions are small anonymous functions defined using lamda keyword. Lamda functions can have any number of arguments but only one expression. Lambda functions are used for short operations or as argument to higher-order functions"
   ]
  },
  {
   "cell_type": "code",
   "execution_count": 2,
   "id": "03c05e16-6c56-431c-a2c0-7ba5c7e437f7",
   "metadata": {},
   "outputs": [
    {
     "name": "stdout",
     "output_type": "stream",
     "text": [
      "7\n"
     ]
    }
   ],
   "source": [
    "# Basic function\n",
    "\n",
    "def addition(a,b):\n",
    "    return a+b\n",
    "\n",
    "print(addition(3,4))"
   ]
  },
  {
   "cell_type": "code",
   "execution_count": 5,
   "id": "21274c27-c579-405b-8b60-1aa7c7409afc",
   "metadata": {},
   "outputs": [
    {
     "name": "stdout",
     "output_type": "stream",
     "text": [
      "7\n"
     ]
    }
   ],
   "source": [
    "# Using lamda function to add two numbers\n",
    "\n",
    "addition = lambda a,b: a+b\n",
    "\n",
    "print(addition(3,4))"
   ]
  },
  {
   "cell_type": "code",
   "execution_count": 6,
   "id": "f2b239d7-1298-44f0-bb96-c0252335c8bd",
   "metadata": {},
   "outputs": [
    {
     "name": "stdout",
     "output_type": "stream",
     "text": [
      "Is 7 even ? False\n",
      "Is 8 even ? True\n"
     ]
    }
   ],
   "source": [
    "# Using lamda function to check if a number is even\n",
    "\n",
    "is_even = lambda number : number%2 == 0\n",
    "\n",
    "print(\"Is 7 even ?\",is_even(7))\n",
    "print(\"Is 8 even ?\",is_even(8))"
   ]
  },
  {
   "cell_type": "code",
   "execution_count": null,
   "id": "7b77cbd8-3222-42c6-9b75-556ac8b269bb",
   "metadata": {},
   "outputs": [],
   "source": []
  }
 ],
 "metadata": {
  "kernelspec": {
   "display_name": "Python 3 (ipykernel)",
   "language": "python",
   "name": "python3"
  },
  "language_info": {
   "codemirror_mode": {
    "name": "ipython",
    "version": 3
   },
   "file_extension": ".py",
   "mimetype": "text/x-python",
   "name": "python",
   "nbconvert_exporter": "python",
   "pygments_lexer": "ipython3",
   "version": "3.12.2"
  }
 },
 "nbformat": 4,
 "nbformat_minor": 5
}
