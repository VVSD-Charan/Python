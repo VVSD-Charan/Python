{
 "cells": [
  {
   "cell_type": "code",
   "execution_count": null,
   "id": "e2162bfe-1b2c-47ee-b96e-3aa671d572b3",
   "metadata": {},
   "outputs": [],
   "source": []
  }
 ],
 "metadata": {
  "kernelspec": {
   "display_name": "",
   "name": ""
  },
  "language_info": {
   "name": ""
  }
 },
 "nbformat": 4,
 "nbformat_minor": 5
}
