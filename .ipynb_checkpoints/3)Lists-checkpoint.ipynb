{
 "cells": [
  {
   "cell_type": "markdown",
   "id": "3e3de8c2-2939-479b-b361-34aebf4e2d63",
   "metadata": {},
   "source": [
    "# Lists\n",
    "\n",
    "Lists are ordered and mutable collections of items. Lists can contain items of different data types."
   ]
  },
  {
   "cell_type": "code",
   "execution_count": 1,
   "id": "9c8227f1-0541-44b6-ad78-1e848e0528a8",
   "metadata": {},
   "outputs": [
    {
     "name": "stdout",
     "output_type": "stream",
     "text": [
      "['ricky', 'ponting', 164, 248, 'captain']\n",
      "<class 'list'>\n"
     ]
    }
   ],
   "source": [
    "array = [\"ricky\",\"ponting\",164,248,\"captain\"]\n",
    "print(array)\n",
    "print(type(array))"
   ]
  },
  {
   "cell_type": "code",
   "execution_count": 2,
   "id": "2fcd92fc-b648-4fcc-ac89-d3a07439aa7a",
   "metadata": {},
   "outputs": [
    {
     "name": "stdout",
     "output_type": "stream",
     "text": [
      "orange\n",
      "apple\n",
      "banana\n",
      "papaya\n",
      "papaya\n",
      "banana\n"
     ]
    }
   ],
   "source": [
    "fruits = [\"orange\",\"apple\",\"banana\",\"papaya\"]\n",
    "print(fruits[0])\n",
    "print(fruits[1])\n",
    "print(fruits[2])\n",
    "print(fruits[3])\n",
    "print(fruits[-1])\n",
    "print(fruits[-2])"
   ]
  },
  {
   "cell_type": "markdown",
   "id": "7c69fc2d-a21d-49dc-b2fa-807718ef66c4",
   "metadata": {},
   "source": [
    "### Slicing the list"
   ]
  },
  {
   "cell_type": "code",
   "execution_count": 3,
   "id": "088df256-b407-4e76-bf5e-7a6c598aad8a",
   "metadata": {},
   "outputs": [
    {
     "name": "stdout",
     "output_type": "stream",
     "text": [
      "['apple', 'banana', 'papaya']\n",
      "['apple', 'banana']\n",
      "['orange', 'apple', 'banana']\n"
     ]
    }
   ],
   "source": [
    "print(fruits[1:])\n",
    "print(fruits[1:3])\n",
    "print(fruits[:3])"
   ]
  },
  {
   "cell_type": "code",
   "execution_count": 4,
   "id": "12cbe078-4d25-493b-adba-f40041062a5a",
   "metadata": {},
   "outputs": [
    {
     "name": "stdout",
     "output_type": "stream",
     "text": [
      "['papaya']\n",
      "['apple', 'banana']\n"
     ]
    }
   ],
   "source": [
    "print(fruits[-1:])\n",
    "print(fruits[-3:-1])"
   ]
  },
  {
   "cell_type": "markdown",
   "id": "55ef6f83-ba7e-45fb-b7af-a644b78a8148",
   "metadata": {},
   "source": [
    "### Modifying the list"
   ]
  },
  {
   "cell_type": "code",
   "execution_count": 5,
   "id": "779193da-54fe-4d8c-9d68-678c05728a11",
   "metadata": {},
   "outputs": [
    {
     "data": {
      "text/plain": [
       "['orange', 'water melon', 'banana', 'papaya']"
      ]
     },
     "execution_count": 5,
     "metadata": {},
     "output_type": "execute_result"
    }
   ],
   "source": [
    "fruits[1] = \"water melon\"\n",
    "fruits"
   ]
  },
  {
   "cell_type": "code",
   "execution_count": 6,
   "id": "be8208c0-707c-46e4-8257-3edbff8397eb",
   "metadata": {},
   "outputs": [
    {
     "data": {
      "text/plain": [
       "['orange', 'g', 'u', 'a', 'v', 'a']"
      ]
     },
     "execution_count": 6,
     "metadata": {},
     "output_type": "execute_result"
    }
   ],
   "source": [
    "# This doesnot replace words. Instead it assigns each character\n",
    "\n",
    "fruits[1:] = \"guava\"\n",
    "fruits"
   ]
  },
  {
   "cell_type": "markdown",
   "id": "e0089a3c-61bd-46fa-bc11-460ff5aa8828",
   "metadata": {},
   "source": [
    "### Lists inbuilt methods"
   ]
  },
  {
   "cell_type": "code",
   "execution_count": 7,
   "id": "acc83e55-7020-4fdc-a243-bc2961cc2bd9",
   "metadata": {},
   "outputs": [
    {
     "data": {
      "text/plain": [
       "['orange', 'apple', 'banana', 'papaya', 'watermelon', 'apple']"
      ]
     },
     "execution_count": 7,
     "metadata": {},
     "output_type": "execute_result"
    }
   ],
   "source": [
    "fruits = [\"orange\",\"apple\",\"banana\",\"papaya\"]\n",
    "fruits.append(\"watermelon\")\n",
    "fruits.append(\"apple\")\n",
    "\n",
    "fruits"
   ]
  },
  {
   "cell_type": "code",
   "execution_count": 8,
   "id": "f9326f3f-de2b-4db8-9bec-52622ebae717",
   "metadata": {},
   "outputs": [
    {
     "data": {
      "text/plain": [
       "['orange',\n",
       " 'mosambi',\n",
       " 'apple',\n",
       " 'banana',\n",
       " 'papaya',\n",
       " 'watermelon',\n",
       " 'apple',\n",
       " 'papaya']"
      ]
     },
     "execution_count": 8,
     "metadata": {},
     "output_type": "execute_result"
    }
   ],
   "source": [
    "# If insertion position exceeds last index, then it will be placed at last\n",
    "\n",
    "fruits.insert(10,\"papaya\")\n",
    "fruits.insert(1,\"mosambi\")\n",
    "fruits"
   ]
  },
  {
   "cell_type": "code",
   "execution_count": 9,
   "id": "8a981560-6384-4a59-b1aa-aed2cdc62ac9",
   "metadata": {},
   "outputs": [
    {
     "data": {
      "text/plain": [
       "['orange', 'mosambi', 'banana', 'papaya', 'watermelon', 'apple', 'papaya']"
      ]
     },
     "execution_count": 9,
     "metadata": {},
     "output_type": "execute_result"
    }
   ],
   "source": [
    "# Only first instance is removed\n",
    "\n",
    "fruits.remove(\"apple\")\n",
    "fruits"
   ]
  },
  {
   "cell_type": "code",
   "execution_count": 10,
   "id": "c8342a2f-057a-4142-9587-adc9526ea19a",
   "metadata": {},
   "outputs": [
    {
     "name": "stdout",
     "output_type": "stream",
     "text": [
      "papaya\n"
     ]
    },
    {
     "data": {
      "text/plain": [
       "['orange', 'mosambi', 'banana', 'papaya', 'watermelon', 'apple']"
      ]
     },
     "execution_count": 10,
     "metadata": {},
     "output_type": "execute_result"
    }
   ],
   "source": [
    "removed_fruit = fruits.pop()\n",
    "print(removed_fruit)\n",
    "\n",
    "fruits"
   ]
  },
  {
   "cell_type": "code",
   "execution_count": 11,
   "id": "9eac79cf-f91b-4dff-96ed-7e731ae598e0",
   "metadata": {},
   "outputs": [
    {
     "data": {
      "text/plain": [
       "3"
      ]
     },
     "execution_count": 11,
     "metadata": {},
     "output_type": "execute_result"
    }
   ],
   "source": [
    "# Obtaining index of a fruit\n",
    "\n",
    "fruits.index(\"papaya\")"
   ]
  },
  {
   "cell_type": "code",
   "execution_count": 12,
   "id": "9281fb4e-34f0-4a7f-97c3-0969fc0a1e91",
   "metadata": {},
   "outputs": [
    {
     "data": {
      "text/plain": [
       "1"
      ]
     },
     "execution_count": 12,
     "metadata": {},
     "output_type": "execute_result"
    }
   ],
   "source": [
    "# Count occurences of items\n",
    "\n",
    "fruits.count(\"apple\")"
   ]
  },
  {
   "cell_type": "code",
   "execution_count": 13,
   "id": "113940b7-9322-40b9-b581-7c3e91325cf5",
   "metadata": {},
   "outputs": [
    {
     "data": {
      "text/plain": [
       "['apple', 'banana', 'mosambi', 'orange', 'papaya', 'watermelon']"
      ]
     },
     "execution_count": 13,
     "metadata": {},
     "output_type": "execute_result"
    }
   ],
   "source": [
    "# Sorting the list\n",
    "\n",
    "fruits.sort()\n",
    "fruits"
   ]
  },
  {
   "cell_type": "code",
   "execution_count": 15,
   "id": "50209712-e9c3-4a27-8e0a-1ea1a820f858",
   "metadata": {},
   "outputs": [
    {
     "data": {
      "text/plain": [
       "['watermelon', 'papaya', 'orange', 'mosambi', 'banana', 'apple']"
      ]
     },
     "execution_count": 15,
     "metadata": {},
     "output_type": "execute_result"
    }
   ],
   "source": [
    "# Reversing the list\n",
    "\n",
    "fruits.reverse()\n",
    "fruits"
   ]
  },
  {
   "cell_type": "code",
   "execution_count": 16,
   "id": "e321d52d-3898-40dd-b5ec-f014a931391d",
   "metadata": {},
   "outputs": [
    {
     "data": {
      "text/plain": [
       "[]"
      ]
     },
     "execution_count": 16,
     "metadata": {},
     "output_type": "execute_result"
    }
   ],
   "source": [
    "# Removing all elements fromt he list\n",
    "\n",
    "fruits.clear()\n",
    "fruits"
   ]
  },
  {
   "cell_type": "markdown",
   "id": "b443e8eb-1eaf-4280-9ebd-c75b92d47116",
   "metadata": {},
   "source": [
    "### Slicing the list"
   ]
  },
  {
   "cell_type": "code",
   "execution_count": 17,
   "id": "e399db77-cd1a-4c33-a2b7-961c509f4e9a",
   "metadata": {},
   "outputs": [
    {
     "name": "stdout",
     "output_type": "stream",
     "text": [
      "[3, 4, 5]\n",
      "[6, 7, 8, 9, 10]\n",
      "[1, 2, 3, 4, 5]\n"
     ]
    }
   ],
   "source": [
    "numbers = [1,2,3,4,5,6,7,8,9,10]\n",
    "\n",
    "print(numbers[2:5])\n",
    "print(numbers[5:])\n",
    "print(numbers[:5])"
   ]
  },
  {
   "cell_type": "code",
   "execution_count": 18,
   "id": "2768959f-cde8-4127-aabe-4380341dc27f",
   "metadata": {},
   "outputs": [
    {
     "name": "stdout",
     "output_type": "stream",
     "text": [
      "[1, 3, 5, 7, 9]\n",
      "[10, 9, 8, 7, 6, 5, 4, 3, 2, 1]\n"
     ]
    }
   ],
   "source": [
    "print(numbers[::2])\n",
    "print(numbers[::-1])"
   ]
  },
  {
   "cell_type": "code",
   "execution_count": 19,
   "id": "c54112ec-d533-4c92-9af8-bbfd36b4e889",
   "metadata": {},
   "outputs": [
    {
     "name": "stdout",
     "output_type": "stream",
     "text": [
      "[10, 8, 6, 4, 2]\n"
     ]
    }
   ],
   "source": [
    "print(numbers[::-2])"
   ]
  },
  {
   "cell_type": "markdown",
   "id": "170b48b5-2eb4-4395-84c7-07f1d0e5e97c",
   "metadata": {},
   "source": [
    "### Iterating over list"
   ]
  },
  {
   "cell_type": "code",
   "execution_count": 20,
   "id": "2b1feadb-f8be-402b-abe9-a8590e4cf374",
   "metadata": {},
   "outputs": [
    {
     "name": "stdout",
     "output_type": "stream",
     "text": [
      "1\n",
      "2\n",
      "3\n",
      "4\n",
      "5\n",
      "6\n",
      "7\n",
      "8\n",
      "9\n",
      "10\n"
     ]
    }
   ],
   "source": [
    "for i in numbers:\n",
    "    print(i)"
   ]
  },
  {
   "cell_type": "code",
   "execution_count": 23,
   "id": "49560409-b3e8-4023-89b5-334336852c08",
   "metadata": {},
   "outputs": [
    {
     "name": "stdout",
     "output_type": "stream",
     "text": [
      "0 1\n",
      "1 2\n",
      "2 3\n",
      "3 4\n",
      "4 5\n",
      "5 6\n",
      "6 7\n",
      "7 8\n",
      "8 9\n",
      "9 10\n"
     ]
    }
   ],
   "source": [
    "# Enumerate method automatically provides index for each item\n",
    "\n",
    "for index,i in enumerate(numbers):\n",
    "    print(index,i)"
   ]
  },
  {
   "cell_type": "markdown",
   "id": "26c2e3fb-3c63-4279-aae9-a646c495e605",
   "metadata": {},
   "source": [
    "### List comprehension"
   ]
  },
  {
   "cell_type": "code",
   "execution_count": 24,
   "id": "b2b91007-1e5a-4a8c-a73b-4550b3ce5f91",
   "metadata": {},
   "outputs": [
    {
     "data": {
      "text/plain": [
       "[0, 1, 4, 9, 16, 25, 36, 49, 64, 81]"
      ]
     },
     "execution_count": 24,
     "metadata": {},
     "output_type": "execute_result"
    }
   ],
   "source": [
    "squares = []\n",
    "\n",
    "for i in range(10):\n",
    "    squares.append(i**2)\n",
    "\n",
    "squares"
   ]
  },
  {
   "cell_type": "code",
   "execution_count": 27,
   "id": "7aad5eb4-0942-4f9e-b128-fcf3782008cb",
   "metadata": {},
   "outputs": [
    {
     "data": {
      "text/plain": [
       "[0, 1, 4, 9, 16, 25, 36, 49, 64, 81]"
      ]
     },
     "execution_count": 27,
     "metadata": {},
     "output_type": "execute_result"
    }
   ],
   "source": [
    "# Instead of creating a list and iterating,we have a shortcut in python\n",
    "\n",
    "squares = [x**2 for x in range(10)]\n",
    "squares"
   ]
  },
  {
   "cell_type": "code",
   "execution_count": 28,
   "id": "ce126de7-0b61-49b6-bad0-0ab61bc2c4ab",
   "metadata": {},
   "outputs": [
    {
     "data": {
      "text/plain": [
       "[1, 2, 3, 4, 5, 6, 7, 8, 9, 10]"
      ]
     },
     "execution_count": 28,
     "metadata": {},
     "output_type": "execute_result"
    }
   ],
   "source": [
    "first_10 = [x for x in range(1,11)]\n",
    "first_10"
   ]
  },
  {
   "cell_type": "code",
   "execution_count": 31,
   "id": "c64e29e2-439d-4c85-a72d-66a6f309ef5d",
   "metadata": {},
   "outputs": [
    {
     "data": {
      "text/plain": [
       "[4, 16, 36, 64, 100]"
      ]
     },
     "execution_count": 31,
     "metadata": {},
     "output_type": "execute_result"
    }
   ],
   "source": [
    "# List comprehension along with condition\n",
    "\n",
    "squares_of_evens = [x**2 for x in range(1,11) if x%2 == 0]\n",
    "squares_of_evens"
   ]
  },
  {
   "cell_type": "code",
   "execution_count": 33,
   "id": "9fbd388d-14fc-49ac-80fd-ad2bc3d25632",
   "metadata": {},
   "outputs": [
    {
     "data": {
      "text/plain": [
       "[[1, 'a'],\n",
       " [1, 'b'],\n",
       " [1, 'c'],\n",
       " [1, 'd'],\n",
       " [1, 'e'],\n",
       " [2, 'a'],\n",
       " [2, 'b'],\n",
       " [2, 'c'],\n",
       " [2, 'd'],\n",
       " [2, 'e'],\n",
       " [3, 'a'],\n",
       " [3, 'b'],\n",
       " [3, 'c'],\n",
       " [3, 'd'],\n",
       " [3, 'e'],\n",
       " [4, 'a'],\n",
       " [4, 'b'],\n",
       " [4, 'c'],\n",
       " [4, 'd'],\n",
       " [4, 'e'],\n",
       " [5, 'a'],\n",
       " [5, 'b'],\n",
       " [5, 'c'],\n",
       " [5, 'd'],\n",
       " [5, 'e']]"
      ]
     },
     "execution_count": 33,
     "metadata": {},
     "output_type": "execute_result"
    }
   ],
   "source": [
    "# Nested list comprehension\n",
    "\n",
    "arr1 = [1,2,3,4,5]\n",
    "arr2 = ['a','b','c','d','e']\n",
    "\n",
    "arr = [[i,j] for i in arr1 for j in arr2]\n",
    "arr"
   ]
  },
  {
   "cell_type": "code",
   "execution_count": 34,
   "id": "f07567d1-4d4d-4e17-8add-81f289d26508",
   "metadata": {},
   "outputs": [
    {
     "data": {
      "text/plain": [
       "[5, 7, 6, 9]"
      ]
     },
     "execution_count": 34,
     "metadata": {},
     "output_type": "execute_result"
    }
   ],
   "source": [
    "# List comprehension with function calls\n",
    "\n",
    "words = [\"ricky\",\"ponting\",\"sachin\",\"tendulkar\"]\n",
    "lengths = [len(word) for word in words]\n",
    "\n",
    "lengths"
   ]
  }
 ],
 "metadata": {
  "kernelspec": {
   "display_name": "Python 3 (ipykernel)",
   "language": "python",
   "name": "python3"
  },
  "language_info": {
   "codemirror_mode": {
    "name": "ipython",
    "version": 3
   },
   "file_extension": ".py",
   "mimetype": "text/x-python",
   "name": "python",
   "nbconvert_exporter": "python",
   "pygments_lexer": "ipython3",
   "version": "3.12.2"
  }
 },
 "nbformat": 4,
 "nbformat_minor": 5
}
