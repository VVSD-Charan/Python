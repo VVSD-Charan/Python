{
 "cells": [
  {
   "cell_type": "markdown",
   "id": "d482a4c1-702c-43c1-96a4-38a94a7b2a95",
   "metadata": {},
   "source": [
    "# Bubble Sort"
   ]
  },
  {
   "cell_type": "code",
   "execution_count": 1,
   "id": "30c0513a-66b6-4430-830c-74063750a511",
   "metadata": {},
   "outputs": [],
   "source": [
    "def bubble_sort(array):\n",
    "    \"\"\"\n",
    "    This function sorts the array using bubble sort algorithm.\n",
    "    It takes n-1 iteratiosn to sort the array.\n",
    "\n",
    "    In first iteration, 1st maximum element will be placed at n-1 position\n",
    "    In second iteration 2nd maximum element will be placed at n-2 position\n",
    "    Similarly,for kth iteration,kth maximum element will be placed at n-k position.\n",
    "\n",
    "    args:\n",
    "        An array that is to be sorted\n",
    "    returns:\n",
    "        A sorted array\n",
    "    \"\"\"\n",
    "    for iterations in range(len(array)-1):\n",
    "        for i in range(1,len(array)-iterations):\n",
    "            if array[i] < array[i-1]:\n",
    "                array[i],array[i-1] = array[i-1],array[i]\n",
    "    return array\n",
    "                "
   ]
  },
  {
   "cell_type": "code",
   "execution_count": 2,
   "id": "a1aa1a47-3579-48dd-9afa-82e5c3a5576b",
   "metadata": {},
   "outputs": [
    {
     "name": "stdout",
     "output_type": "stream",
     "text": [
      "[0, 1, 2, 2, 3, 4, 7, 9]\n"
     ]
    }
   ],
   "source": [
    "unsorted_array = [3,1,7,2,4,2,9,0]\n",
    "print(bubble_sort(unsorted_array))"
   ]
  },
  {
   "cell_type": "markdown",
   "id": "63ded198-8f55-4d97-af51-908cbfa7a474",
   "metadata": {},
   "source": [
    "# Selection sort"
   ]
  },
  {
   "cell_type": "code",
   "execution_count": 3,
   "id": "cd29eff1-bc19-481f-9b35-e1cc763c0177",
   "metadata": {},
   "outputs": [],
   "source": [
    "def selection_sort(array):\n",
    "    \"\"\"\n",
    "    In selection sort, for nth iteration, we find the nth least element in the array and put it in n-1 position.\n",
    "    \"\"\"\n",
    "    for iterations in range(len(array)-1):\n",
    "        min_index = iterations\n",
    "        for i in range(iterations+1,len(array)):\n",
    "            if array[min_index] > array[i]:\n",
    "                min_index = i\n",
    "        array[min_index],array[iterations] = array[iterations],array[min_index]\n",
    "    return array"
   ]
  },
  {
   "cell_type": "code",
   "execution_count": 4,
   "id": "532e903a-8805-4338-a84f-7d0845e5d6af",
   "metadata": {},
   "outputs": [
    {
     "name": "stdout",
     "output_type": "stream",
     "text": [
      "[0, 1, 2, 2, 3, 4, 7, 9]\n"
     ]
    }
   ],
   "source": [
    "unsorted_array = [3,1,7,2,4,2,9,0]\n",
    "print(selection_sort(unsorted_array))"
   ]
  },
  {
   "cell_type": "markdown",
   "id": "be46ec71-8964-4a48-97e6-a71c59a3648d",
   "metadata": {},
   "source": [
    "# Insertion sort"
   ]
  },
  {
   "cell_type": "code",
   "execution_count": 5,
   "id": "7c2d9d4b-985b-44c1-997b-19f778f74a14",
   "metadata": {},
   "outputs": [],
   "source": [
    "def insertion_sort(array):\n",
    "    \"\"\"\n",
    "    In insertion sort, we place each element in the correct position on the left side. At every iteration, left part of array will be sorted\n",
    "    \"\"\"\n",
    "    for i in range(1,len(array)):\n",
    "        for j in range(i,0,-1):\n",
    "            if array[j] < array[j-1]:\n",
    "                array[j-1],array[j] = array[j],array[j-1]\n",
    "    return array"
   ]
  },
  {
   "cell_type": "code",
   "execution_count": 6,
   "id": "9aec5585-1d30-4885-9397-848f32e46051",
   "metadata": {},
   "outputs": [],
   "source": [
    "def insertion_sort2(array):\n",
    "    for i in range(1,len(array)):\n",
    "        index = i\n",
    "        element = array[i]\n",
    "        while index > 0:\n",
    "            if array[index] >= array[index-1]:\n",
    "                break\n",
    "            else:\n",
    "                array[index] = array[index-1]\n",
    "            index -= 1\n",
    "        array[index] = element\n",
    "    return array"
   ]
  },
  {
   "cell_type": "code",
   "execution_count": 7,
   "id": "7ab46dcc-62fc-419a-926d-a7d6f5fc312b",
   "metadata": {},
   "outputs": [
    {
     "name": "stdout",
     "output_type": "stream",
     "text": [
      "[0, 1, 2, 2, 3, 4, 7, 9]\n",
      "[0, 1, 2, 2, 3, 4, 7, 9]\n"
     ]
    }
   ],
   "source": [
    "unsorted_array = [3,1,7,2,4,2,9,0]\n",
    "print(insertion_sort(unsorted_array))\n",
    "print(insertion_sort2(unsorted_array))"
   ]
  }
 ],
 "metadata": {
  "kernelspec": {
   "display_name": "Python 3 (ipykernel)",
   "language": "python",
   "name": "python3"
  },
  "language_info": {
   "codemirror_mode": {
    "name": "ipython",
    "version": 3
   },
   "file_extension": ".py",
   "mimetype": "text/x-python",
   "name": "python",
   "nbconvert_exporter": "python",
   "pygments_lexer": "ipython3",
   "version": "3.12.2"
  }
 },
 "nbformat": 4,
 "nbformat_minor": 5
}
